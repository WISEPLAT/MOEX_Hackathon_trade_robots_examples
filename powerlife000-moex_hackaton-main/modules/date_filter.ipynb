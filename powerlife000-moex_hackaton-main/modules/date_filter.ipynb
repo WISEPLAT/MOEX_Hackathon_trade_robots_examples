{
 "cells": [
  {
   "cell_type": "code",
   "execution_count": null,
   "id": "40b73616",
   "metadata": {},
   "outputs": [],
   "source": [
    "def date_filter(quotes, filter_data_timezone, filter_data_start, filter_data_end):\n",
    "    import datetime\n",
    "    import pytz\n",
    "    \n",
    "    tz_ny= pytz.timezone(filter_data_timezone)\n",
    "\n",
    "    date1 = datetime.datetime.strptime(filter_data_start, '%Y-%m-%d %H:%M:%S')\n",
    "    date1 = tz_ny.localize(date1)\n",
    "    date2 = datetime.datetime.strptime(filter_data_end, '%Y-%m-%d %H:%M:%S')\n",
    "    date2 = tz_ny.localize(date2)\n",
    "\n",
    "    # select desired range of dates\n",
    "    try:\n",
    "        quotes = quotes[(quotes.index >= date1) & (quotes.index <= date2)]\n",
    "    except:\n",
    "        try:\n",
    "            date1 = np.datetime64(date1)\n",
    "            date2 = np.datetime64(date2)\n",
    "            quotes = quotes[(quotes.index >= date1) & (quotes.index <= date2)]\n",
    "        except:\n",
    "            pass\n",
    "    \n",
    "    return quotes"
   ]
  }
 ],
 "metadata": {
  "kernelspec": {
   "display_name": "Python 3 (ipykernel)",
   "language": "python",
   "name": "python3"
  },
  "language_info": {
   "codemirror_mode": {
    "name": "ipython",
    "version": 3
   },
   "file_extension": ".py",
   "mimetype": "text/x-python",
   "name": "python",
   "nbconvert_exporter": "python",
   "pygments_lexer": "ipython3",
   "version": "3.10.8"
  }
 },
 "nbformat": 4,
 "nbformat_minor": 5
}
