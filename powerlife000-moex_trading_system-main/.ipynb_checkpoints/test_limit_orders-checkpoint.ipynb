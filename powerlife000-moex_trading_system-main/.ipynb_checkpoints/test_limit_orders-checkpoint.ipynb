{
 "cells": [
  {
   "cell_type": "code",
   "execution_count": 1,
   "metadata": {},
   "outputs": [],
   "source": [
    "from datetime import datetime\n",
    "import matplotlib.pyplot as plt\n",
    "import pandas as pd\n",
    "from pandas.plotting import register_matplotlib_converters\n",
    "register_matplotlib_converters()\n",
    "import MetaTrader5 as mt5\n",
    "import math\n",
    "import ast\n",
    "import requests\n",
    "import os\n",
    "import pickle\n",
    "from datetime import date\n",
    "import holidays"
   ]
  },
  {
   "cell_type": "code",
   "execution_count": 12,
   "metadata": {},
   "outputs": [],
   "source": [
    "from twelvedata import TDClient\n",
    "td = TDClient(apikey=\"7dc355c19e5e4ee7a264a7abaa8acdc6\")"
   ]
  },
  {
   "cell_type": "markdown",
   "metadata": {},
   "source": [
    "# Подключаем модули"
   ]
  },
  {
   "cell_type": "code",
   "execution_count": 2,
   "metadata": {},
   "outputs": [],
   "source": [
    "import sys, signal\n",
    "sys.path.insert(0, 'modules')\n",
    "\n",
    "from DB_module import DB\n",
    "from Config_module import Config\n",
    "import Log_module as log_module\n",
    "from Orders_module import Orders\n",
    "import close_position_module\n",
    "import open_position_module\n",
    "import check_market_module #Функция проверки открытости рынка\n",
    "import get_usd_rub_module #Функция получения данных валютной пары рубль-доллар\n",
    "import get_opt_lot_volume_module #Функция определения оптимального объема лота"
   ]
  },
  {
   "cell_type": "code",
   "execution_count": 3,
   "metadata": {},
   "outputs": [],
   "source": [
    "def is_notebook() -> bool:\n",
    "    try:\n",
    "        shell = get_ipython().__class__.__name__\n",
    "        if shell == 'ZMQInteractiveShell':\n",
    "            return True   # Jupyter notebook or qtconsole\n",
    "        elif shell == 'TerminalInteractiveShell':\n",
    "            return False  # Terminal running IPython\n",
    "        else:\n",
    "            return False  # Other type (?)\n",
    "    except NameError:\n",
    "        return False      # Probably standard Python interpreter"
   ]
  },
  {
   "cell_type": "code",
   "execution_count": 4,
   "metadata": {},
   "outputs": [
    {
     "data": {
      "text/plain": [
       "<function _signal.default_int_handler(signalnum, frame, /)>"
      ]
     },
     "execution_count": 4,
     "metadata": {},
     "output_type": "execute_result"
    }
   ],
   "source": [
    "def signal_handler(signal, frame):\n",
    "    print(\"\\nprogram exiting gracefully\")\n",
    "    sys.exit(0)\n",
    "\n",
    "signal.signal(signal.SIGINT, signal_handler)"
   ]
  },
  {
   "cell_type": "code",
   "execution_count": 5,
   "metadata": {},
   "outputs": [],
   "source": [
    "import time"
   ]
  },
  {
   "cell_type": "markdown",
   "metadata": {},
   "source": [
    "# НАСТРОЙКИ"
   ]
  },
  {
   "cell_type": "code",
   "execution_count": 6,
   "metadata": {},
   "outputs": [],
   "source": [
    "config = Config()"
   ]
  },
  {
   "cell_type": "code",
   "execution_count": 7,
   "metadata": {},
   "outputs": [],
   "source": [
    "#Инициализация счётчика числа обращений к API\n",
    "api_count = 0"
   ]
  },
  {
   "cell_type": "markdown",
   "metadata": {},
   "source": [
    "# Подключение к базе"
   ]
  },
  {
   "cell_type": "code",
   "execution_count": 8,
   "metadata": {},
   "outputs": [],
   "source": [
    "db = DB(config)"
   ]
  },
  {
   "cell_type": "markdown",
   "metadata": {},
   "source": [
    "# Подключаемся к MetaTrader 5"
   ]
  },
  {
   "cell_type": "code",
   "execution_count": 9,
   "metadata": {},
   "outputs": [],
   "source": [
    "if not mt5.initialize():\n",
    "    print(\"initialize() failed\")\n",
    "    mt5.shutdown()\n",
    "    \n",
    "    if is_notebook() != True:\n",
    "        print(\"Ending script\")\n",
    "        #quit()"
   ]
  },
  {
   "cell_type": "markdown",
   "metadata": {},
   "source": [
    "# Авторизация в Just2Trade"
   ]
  },
  {
   "cell_type": "code",
   "execution_count": 10,
   "metadata": {},
   "outputs": [],
   "source": [
    "#Just2Trade_2 DEMO\n",
    "login = 269267\n",
    "password = '+79508822448'\n",
    "server = 'Just2Trade-MT5'\n",
    "\n",
    "authorized = mt5.login(login = login, password = password, server = server)"
   ]
  },
  {
   "cell_type": "code",
   "execution_count": 142,
   "metadata": {},
   "outputs": [],
   "source": [
    "class Orders():\n",
    "    \n",
    "    def __init__(self,mt5):\n",
    "        import time\n",
    "        self.time = time\n",
    "        self.mt5 = mt5\n",
    "\n",
    "    def send_order_limit(self, TDClient, id, symbol, lot, type_, stop_loss):\n",
    "            lot = float(lot)\n",
    "            \n",
    "            action = self.mt5.TRADE_ACTION_PENDING\n",
    "\n",
    "            #Подписываемся на получение данных по тикеру\n",
    "            if self.mt5.market_book_add(symbol):\n",
    "                # сделаем паузу в 3 секунды для добавления тикера в терминал\n",
    "                #self.time.sleep(5)\n",
    "                pass\n",
    "            else:\n",
    "                #Не удалось открыть подписку на тикер\n",
    "                self.mt5.market_book_release(symbol)\n",
    "                return False\n",
    "\n",
    "            try:\n",
    "\n",
    "                #Получаем текущую цену\n",
    "                # Construct the necessary time series\n",
    "                ts = td.time_series(\n",
    "                    symbol=symbol,\n",
    "                    interval=\"1min\",\n",
    "                    outputsize=1,\n",
    "                    timezone=\"America/New_York\",\n",
    "                )\n",
    "\n",
    "                price = ts.as_pandas().tail(1)['close'].values[0]\n",
    "\n",
    "\n",
    "                if type_ == 'buy':\n",
    "                    ORDER_TYPE = self.mt5.ORDER_TYPE_BUY_LIMIT\n",
    "                    sl = round(price*(1 - stop_loss/100), 3)\n",
    "                    \n",
    "                    print('Выставляем ордер покупки ', symbol, 'по цене ', price)\n",
    "\n",
    "                    request = {\n",
    "                        \"action\": action,\n",
    "                        \"symbol\": symbol,\n",
    "                        \"volume\": lot,\n",
    "                        \"type\": ORDER_TYPE,\n",
    "                        \"price\": price,\n",
    "                        \"sl\": sl,\n",
    "                        \"order\": id,\n",
    "                        \"magic\": id,#Уникальный идентификатор советника для работы с ордерами\n",
    "                        \"comment\": \"buy_limit\",\n",
    "                        \"type_time\": self.mt5.ORDER_TIME_DAY,\n",
    "                        \"type_filling\": self.mt5.ORDER_FILLING_FOK,\n",
    "                    }\n",
    "                elif type_ == 'sell':\n",
    "                    ORDER_TYPE = self.mt5.ORDER_TYPE_SELL_LIMIT\n",
    "                    sl = 0\n",
    "                    \n",
    "                    print('Выставляем ордер продажи ', symbol, 'по цене ', price)\n",
    "\n",
    "                    request = {\n",
    "                        \"action\": action,\n",
    "                        \"symbol\": symbol,\n",
    "                        \"volume\": lot,\n",
    "                        \"type\": ORDER_TYPE,\n",
    "                        \"price\": price+10,\n",
    "                        \"order\": id,\n",
    "                        \"magic\": id,#Уникальный идентификатор советника для работы с ордерами\n",
    "                        \"comment\": \"sell_limit\",\n",
    "                        \"type_time\": self.mt5.ORDER_TIME_DAY,\n",
    "                        \"type_filling\": self.mt5.ORDER_FILLING_FOK,\n",
    "                    }\n",
    "                # send a trading request\n",
    "                result = self.mt5.order_send(request)\n",
    "                self.mt5.market_book_release(symbol)\n",
    "                return result\n",
    "            except Exception as e:\n",
    "                self.mt5.market_book_release(symbol)\n",
    "                print(e)\n",
    "                \n",
    "    def change_price_order_limit(self, TDClient, id):\n",
    "        \n",
    "        #Получаем текущую цену\n",
    "        # Construct the necessary time series\n",
    "        ts = td.time_series(\n",
    "            symbol=symbol,\n",
    "            interval=\"1min\",\n",
    "            outputsize=1,\n",
    "            timezone=\"America/New_York\",\n",
    "        )\n",
    "\n",
    "        price = ts.as_pandas().tail(1)['close'].values[0]\n",
    "        \n",
    "        print('Обновляем цену ордера № ', id, 'Тикер ', symbol, 'по цене ', price)\n",
    "        \n",
    "        action = self.mt5.TRADE_ACTION_MODIFY\n",
    "        \n",
    "        ORDER_TYPE = self.mt5.ORDER_TYPE_SELL_LIMIT\n",
    "        sl = 0\n",
    "        \n",
    "        request = {\n",
    "            \"action\": action,\n",
    "            \"price\": price,\n",
    "            \"order\": id,\n",
    "            \"type_time\": self.mt5.ORDER_TIME_GTC,\n",
    "        }\n",
    "        # send a trading request\n",
    "        result = self.mt5.order_send(request)\n",
    "        return result\n",
    "        \n",
    "    def delete_order(self, TDClient, id):\n",
    "        action = mt5.TRADE_ACTION_REMOVE\n",
    "        request = {\n",
    "            \"action\": action,\n",
    "            \"order\": id\n",
    "        }\n",
    "        # send a trading request\n",
    "        result = mt5.order_send(request)\n",
    "        return result        "
   ]
  },
  {
   "cell_type": "code",
   "execution_count": 143,
   "metadata": {},
   "outputs": [],
   "source": [
    "#Инициализируем класс выставления ордеров\n",
    "orders = Orders(mt5)"
   ]
  },
  {
   "cell_type": "code",
   "execution_count": 69,
   "metadata": {},
   "outputs": [
    {
     "name": "stdout",
     "output_type": "stream",
     "text": [
      "Выставляем новый ордер\n",
      "Выставляем ордер покупки  MSFT по цене  333.935\n"
     ]
    },
    {
     "data": {
      "text/plain": [
       "OrderSendResult(retcode=10009, deal=0, order=224850090, volume=1.0, price=0.0, bid=0.0, ask=0.0, comment='Request executed', request_id=3726214200, retcode_external=0, request=TradeRequest(action=5, magic=11, order=0, symbol='MSFT', volume=1.0, price=333.935, stoplimit=0.0, sl=330.596, tp=0.0, deviation=0, type=2, type_filling=0, type_time=0, expiration=0, comment='buy_limit', position=0, position_by=0))"
      ]
     },
     "execution_count": 69,
     "metadata": {},
     "output_type": "execute_result"
    }
   ],
   "source": [
    "id = 11\n",
    "symbol = 'MSFT'\n",
    "lot = 1\n",
    "type_ = 'buy' \n",
    "stop_loss = 1\n",
    "\n",
    "orders.send_order_limit(TDClient, id, symbol, lot, type_, stop_loss, False)"
   ]
  },
  {
   "cell_type": "code",
   "execution_count": 132,
   "metadata": {},
   "outputs": [
    {
     "name": "stdout",
     "output_type": "stream",
     "text": [
      "Выставляем ордер продажи  MSFT по цене  332.82959\n"
     ]
    },
    {
     "data": {
      "text/plain": [
       "OrderSendResult(retcode=10009, deal=0, order=224850150, volume=1.0, price=0.0, bid=0.0, ask=0.0, comment='Request executed', request_id=3726214212, retcode_external=0, request=TradeRequest(action=5, magic=22, order=22, symbol='MSFT', volume=1.0, price=342.82959, stoplimit=0.0, sl=0.0, tp=0.0, deviation=0, type=3, type_filling=0, type_time=0, expiration=0, comment='sell_limit', position=0, position_by=0))"
      ]
     },
     "execution_count": 132,
     "metadata": {},
     "output_type": "execute_result"
    }
   ],
   "source": [
    "id = 22\n",
    "symbol = 'MSFT'\n",
    "lot = 1\n",
    "type_ = 'sell' \n",
    "stop_loss = 1\n",
    "\n",
    "orders.send_order_limit(TDClient, id, symbol, lot, type_, stop_loss)"
   ]
  },
  {
   "cell_type": "code",
   "execution_count": 145,
   "metadata": {},
   "outputs": [
    {
     "data": {
      "text/plain": [
       "(TradeOrder(ticket=224850413, time_setup=1694547386, time_setup_msc=1694547386816, time_done=0, time_done_msc=0, time_expiration=1694476800, type=2, type_time=1, type_filling=0, state=1, magic=752, position_id=0, position_by_id=0, reason=3, volume_initial=16.0, volume_current=16.0, price_open=63.67, sl=63.03, tp=0.0, price_current=63.7, price_stoplimit=0.0, symbol='L', comment='buy_limit', external_id=''),)"
      ]
     },
     "execution_count": 145,
     "metadata": {},
     "output_type": "execute_result"
    }
   ],
   "source": [
    "current_orders = mt5.orders_get()\n",
    "current_orders"
   ]
  },
  {
   "cell_type": "code",
   "execution_count": 147,
   "metadata": {},
   "outputs": [
    {
     "data": {
      "text/plain": [
       "'L'"
      ]
     },
     "execution_count": 147,
     "metadata": {},
     "output_type": "execute_result"
    }
   ],
   "source": [
    "# current_orders[0].symbol"
   ]
  },
  {
   "cell_type": "code",
   "execution_count": 115,
   "metadata": {},
   "outputs": [
    {
     "name": "stdout",
     "output_type": "stream",
     "text": [
      "Обновляем цену ордера №  224850138 Тикер  MSFT по цене  333.88\n"
     ]
    },
    {
     "data": {
      "text/plain": [
       "OrderSendResult(retcode=10009, deal=0, order=224850138, volume=0.0, price=0.0, bid=0.0, ask=0.0, comment='Request executed', request_id=3726214208, retcode_external=0, request=TradeRequest(action=7, magic=0, order=224850138, symbol='', volume=0.0, price=333.88, stoplimit=0.0, sl=0.0, tp=0.0, deviation=0, type=0, type_filling=0, type_time=0, expiration=0, comment='', position=0, position_by=0))"
      ]
     },
     "execution_count": 115,
     "metadata": {},
     "output_type": "execute_result"
    }
   ],
   "source": [
    "id = 224850138\n",
    "orders.change_price_order_limit(TDClient, id)"
   ]
  },
  {
   "cell_type": "code",
   "execution_count": 126,
   "metadata": {},
   "outputs": [],
   "source": [
    "id = 224850142\n",
    "symbol = 'MSFT'\n",
    "orders.delete_order(TDClient, id)"
   ]
  },
  {
   "cell_type": "code",
   "execution_count": 103,
   "metadata": {},
   "outputs": [],
   "source": []
  },
  {
   "cell_type": "code",
   "execution_count": 144,
   "metadata": {},
   "outputs": [
    {
     "name": "stdout",
     "output_type": "stream",
     "text": [
      "Обновляем цену ордера №  224850150 Тикер  MSFT по цене  332.01999\n"
     ]
    }
   ],
   "source": [
    "#Обход ордеров и обновление цены каждые 30 секунд\n",
    "current_orders = mt5.orders_get()\n",
    "\n",
    "for order in current_orders:\n",
    "    \n",
    "    #Получаем дату выставления ордера\n",
    "    order_date = datetime.fromtimestamp(order.time_setup)\n",
    "    #Получаем текущую дату\n",
    "    now = datetime.now()\n",
    "\n",
    "    delta = (now-dt_object).seconds\n",
    "    \n",
    "    #Если прошло более 30 секунд с момента установки ордера, обновляем цену\n",
    "    \n",
    "    if delta > 30:\n",
    "        orders.change_price_order_limit(TDClient, order.ticket)"
   ]
  },
  {
   "cell_type": "code",
   "execution_count": null,
   "metadata": {},
   "outputs": [],
   "source": []
  }
 ],
 "metadata": {
  "kernelspec": {
   "display_name": "Python 3 (ipykernel)",
   "language": "python",
   "name": "python3"
  },
  "language_info": {
   "codemirror_mode": {
    "name": "ipython",
    "version": 3
   },
   "file_extension": ".py",
   "mimetype": "text/x-python",
   "name": "python",
   "nbconvert_exporter": "python",
   "pygments_lexer": "ipython3",
   "version": "3.10.8"
  }
 },
 "nbformat": 4,
 "nbformat_minor": 2
}
