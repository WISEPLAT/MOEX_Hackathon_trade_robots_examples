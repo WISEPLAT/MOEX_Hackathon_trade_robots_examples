{
 "cells": [
  {
   "cell_type": "code",
   "execution_count": 2,
   "id": "15d52aad-78d2-47a4-9147-5544b77ba49b",
   "metadata": {
    "jupyter": {
     "source_hidden": true
    }
   },
   "outputs": [],
   "source": [
    "import backoff\n",
    "from typing import Any\n",
    "\n",
    "BACKOFF_CONFIG: dict[str, Any] = {'wait_gen': backoff.expo, 'exception': Exception, 'max_value': 8}\n",
    "\n",
    "class ClickhouseSettings:\n",
    "    NODES: str = 'clickhouse-node01:9000,clickhouse-node02:9000,clickhouse-node03:9000,clickhouse-node04:9000'\n",
    "    USER: str = 'user'\n",
    "    PASSWORD: str = 'password'\n",
    "\n",
    "class ClickhouseNode1:\n",
    "    HOST: str = 'clickhouse-node01'\n",
    "    PORT: int = 9000\n",
    "    USER: str = 'user'\n",
    "    PASSWORD: str = 'password'\n",
    "\n",
    "class ClickhouseNode2:\n",
    "    HOST: str = 'clickhouse-node02'\n",
    "    PORT: int = 9000\n",
    "    USER: str = 'user'\n",
    "    PASSWORD: str = 'password'\n",
    "\n",
    "class ClickhouseNode3:\n",
    "    HOST: str = 'clickhouse-node03'\n",
    "    PORT: int = 9000\n",
    "    USER: str = 'user'\n",
    "    PASSWORD: str = 'password'\n",
    "\n",
    "class ClickhouseNode4:\n",
    "    HOST: str = 'clickhouse-node04'\n",
    "    PORT: int = 9000\n",
    "    USER: str = 'user'\n",
    "    PASSWORD: str = 'password'\n",
    "\n",
    "CLICKHOUSE_CONFIG = ClickhouseSettings()\n",
    "NODES = [ClickhouseNode1(), ClickhouseNode2(), ClickhouseNode3(), ClickhouseNode4()]\n"
   ]
  },
  {
   "cell_type": "code",
   "execution_count": 3,
   "id": "f28098ca-0b81-4d54-86f8-dcbbae1c7916",
   "metadata": {
    "jupyter": {
     "source_hidden": true
    }
   },
   "outputs": [],
   "source": [
    "from typing import Optional, Iterator\n",
    "from clickhouse_driver import Client as Clickhouse\n",
    "from loguru import logger\n",
    "\n",
    "from abc import ABC, abstractmethod\n",
    "from typing import Iterator, Any\n",
    "\n",
    "\n",
    "class BaseExtractor(ABC):\n",
    "\n",
    "    @abstractmethod\n",
    "    def extract(self) -> Iterator[Any]:\n",
    "        '''Метод извлечения данных'''\n",
    "\n",
    "\n",
    "def ch_conn_is_alive(ch_conn: Clickhouse) -> bool:\n",
    "    \"\"\"Функция для проверки работоспособности Clickhouse\"\"\"\n",
    "    try:\n",
    "        return ch_conn.execute('SHOW DATABASES')\n",
    "    except Exception:\n",
    "        return False\n",
    "\n",
    "\n",
    "class ClickhouseExtractor(BaseExtractor):\n",
    "    def __init__(\n",
    "        self,\n",
    "        host: str,\n",
    "        port: int,\n",
    "        user:str = 'default',\n",
    "        password: str = '',\n",
    "        alt_hosts: list[str] | None = None,\n",
    "        conn: Clickhouse | None = None,\n",
    "        settings: dict[str, Any] | None = None\n",
    "    ) -> None:\n",
    "        self._conn: Clickhouse = conn\n",
    "        self._host: str = host\n",
    "        self._alt_hosts: list[str] | None = alt_hosts\n",
    "        self._port: int = port\n",
    "        self._user: str = user\n",
    "        self._password: str = password\n",
    "        self._settings: dict[str, Any] | None = settings\n",
    "\n",
    "    @property\n",
    "    def conn(self) -> Clickhouse:\n",
    "        if self._conn is None or not ch_conn_is_alive(self._conn):\n",
    "            self._conn = self._reconnection()\n",
    "\n",
    "        return self._conn\n",
    "\n",
    "    @backoff.on_exception(**BACKOFF_CONFIG, logger=logger)\n",
    "    def _reconnection(self) -> Clickhouse:\n",
    "        logger.info('Reconnection clickhouse node \"%s:%d\" ...', self._host, self._port)\n",
    "\n",
    "        if self._conn is not None:\n",
    "            logger.info('Closing already exists clickhouse connector...')\n",
    "            self._conn.disconnect()\n",
    "\n",
    "        return Clickhouse(\n",
    "            host=self._host,\n",
    "            port=self._port,\n",
    "            user=self._user,\n",
    "            alt_hosts=','.join(self._alt_hosts),\n",
    "            password=self._password,\n",
    "            settings=self._settings,\n",
    "        )\n",
    "\n",
    "    @backoff.on_exception(**BACKOFF_CONFIG, logger=logger)\n",
    "    def extract(self, query: str, limit: int = 100000) -> Iterator[Any]:\n",
    "        return self.conn.query_dataframe(f'{query} LIMIT {limit}')"
   ]
  },
  {
   "cell_type": "code",
   "execution_count": 4,
   "id": "c8b3647b-ac2e-428a-a5fb-bbbacca89659",
   "metadata": {},
   "outputs": [],
   "source": [
    "extractor = ClickhouseExtractor(\n",
    "    host=NODES[0].HOST,\n",
    "    port=NODES[0].PORT,\n",
    "    user=CLICKHOUSE_CONFIG.USER,\n",
    "    password=CLICKHOUSE_CONFIG.PASSWORD,\n",
    "    alt_hosts=[f'{NODE.HOST}:{NODE.PORT}' for NODE in  NODES[1:]],\n",
    "    settings={'use_numpy': True}\n",
    ")"
   ]
  },
  {
   "cell_type": "code",
   "execution_count": 7,
   "id": "1d84f820-298b-498d-b5bd-10f4da3196bf",
   "metadata": {},
   "outputs": [
    {
     "name": "stderr",
     "output_type": "stream",
     "text": [
      "NumPy support is not implemented for UUID. Using generic column\n",
      "NumPy support is not implemented for UUID. Using generic column\n"
     ]
    }
   ],
   "source": [
    "tradestats_df = extractor.extract((\n",
    "    'SELECT count(*) from default.tradestats'\n",
    "))"
   ]
  },
  {
   "cell_type": "code",
   "execution_count": 9,
   "id": "c6f24eb4-d6c4-44f4-aa7d-eae667c011ce",
   "metadata": {},
   "outputs": [
    {
     "data": {
      "text/html": [
       "<div>\n",
       "<style scoped>\n",
       "    .dataframe tbody tr th:only-of-type {\n",
       "        vertical-align: middle;\n",
       "    }\n",
       "\n",
       "    .dataframe tbody tr th {\n",
       "        vertical-align: top;\n",
       "    }\n",
       "\n",
       "    .dataframe thead th {\n",
       "        text-align: right;\n",
       "    }\n",
       "</style>\n",
       "<table border=\"1\" class=\"dataframe\">\n",
       "  <thead>\n",
       "    <tr style=\"text-align: right;\">\n",
       "      <th></th>\n",
       "      <th>id</th>\n",
       "      <th>secid</th>\n",
       "      <th>ts</th>\n",
       "      <th>pr_open</th>\n",
       "      <th>pr_high</th>\n",
       "      <th>pr_low</th>\n",
       "      <th>pr_close</th>\n",
       "      <th>pr_change</th>\n",
       "      <th>trades</th>\n",
       "      <th>vol</th>\n",
       "      <th>...</th>\n",
       "      <th>pr_vwap</th>\n",
       "      <th>trades_b</th>\n",
       "      <th>vol_b</th>\n",
       "      <th>val_b</th>\n",
       "      <th>pr_vwap_b</th>\n",
       "      <th>trades_s</th>\n",
       "      <th>vol_s</th>\n",
       "      <th>val_s</th>\n",
       "      <th>pr_vwap_s</th>\n",
       "      <th>created_at</th>\n",
       "    </tr>\n",
       "  </thead>\n",
       "  <tbody>\n",
       "    <tr>\n",
       "      <th>0</th>\n",
       "      <td>6ce1b5de-1f26-4516-90df-546b9e8db474</td>\n",
       "      <td>ABRD</td>\n",
       "      <td>2023-12-05 18:40:00</td>\n",
       "      <td>252.4</td>\n",
       "      <td>252.4</td>\n",
       "      <td>251.20</td>\n",
       "      <td>252.40</td>\n",
       "      <td>0.0000</td>\n",
       "      <td>23</td>\n",
       "      <td>105</td>\n",
       "      <td>...</td>\n",
       "      <td>251.9</td>\n",
       "      <td>12</td>\n",
       "      <td>63</td>\n",
       "      <td>158654.0</td>\n",
       "      <td>251.8</td>\n",
       "      <td>11</td>\n",
       "      <td>42</td>\n",
       "      <td>105854.0</td>\n",
       "      <td>252.0</td>\n",
       "      <td>2023-12-06 20:19:36</td>\n",
       "    </tr>\n",
       "    <tr>\n",
       "      <th>1</th>\n",
       "      <td>d63d60db-2de0-405d-8bd5-85ea0a1c8c16</td>\n",
       "      <td>ABIO</td>\n",
       "      <td>2023-12-05 18:40:00</td>\n",
       "      <td>88.1</td>\n",
       "      <td>88.3</td>\n",
       "      <td>87.62</td>\n",
       "      <td>88.12</td>\n",
       "      <td>0.0227</td>\n",
       "      <td>36</td>\n",
       "      <td>651</td>\n",
       "      <td>...</td>\n",
       "      <td>88.01</td>\n",
       "      <td>17</td>\n",
       "      <td>244</td>\n",
       "      <td>214565.0</td>\n",
       "      <td>87.94</td>\n",
       "      <td>19</td>\n",
       "      <td>407</td>\n",
       "      <td>358388.0</td>\n",
       "      <td>88.06</td>\n",
       "      <td>2023-12-06 20:19:36</td>\n",
       "    </tr>\n",
       "    <tr>\n",
       "      <th>2</th>\n",
       "      <td>0f647cdd-0c90-4c82-89dc-08862aa141d1</td>\n",
       "      <td>ABRD</td>\n",
       "      <td>2023-12-05 18:35:00</td>\n",
       "      <td>252.4</td>\n",
       "      <td>252.4</td>\n",
       "      <td>250.80</td>\n",
       "      <td>252.40</td>\n",
       "      <td>0.0000</td>\n",
       "      <td>30</td>\n",
       "      <td>170</td>\n",
       "      <td>...</td>\n",
       "      <td>251.5</td>\n",
       "      <td>19</td>\n",
       "      <td>131</td>\n",
       "      <td>329246.0</td>\n",
       "      <td>251.3</td>\n",
       "      <td>11</td>\n",
       "      <td>39</td>\n",
       "      <td>98334.0</td>\n",
       "      <td>252.1</td>\n",
       "      <td>2023-12-06 20:19:36</td>\n",
       "    </tr>\n",
       "    <tr>\n",
       "      <th>3</th>\n",
       "      <td>91175085-2e53-4cba-9bf9-b22cd516fdc9</td>\n",
       "      <td>ABIO</td>\n",
       "      <td>2023-12-05 18:35:00</td>\n",
       "      <td>88.2</td>\n",
       "      <td>88.3</td>\n",
       "      <td>88.20</td>\n",
       "      <td>88.30</td>\n",
       "      <td>0.1134</td>\n",
       "      <td>5</td>\n",
       "      <td>64</td>\n",
       "      <td>...</td>\n",
       "      <td>88.29</td>\n",
       "      <td>3</td>\n",
       "      <td>42</td>\n",
       "      <td>37085.0</td>\n",
       "      <td>88.3</td>\n",
       "      <td>2</td>\n",
       "      <td>22</td>\n",
       "      <td>19420.0</td>\n",
       "      <td>88.28</td>\n",
       "      <td>2023-12-06 20:19:36</td>\n",
       "    </tr>\n",
       "    <tr>\n",
       "      <th>4</th>\n",
       "      <td>6ffda51f-c6a6-4284-9dc6-d2f89918eea0</td>\n",
       "      <td>ABRD</td>\n",
       "      <td>2023-12-05 18:30:00</td>\n",
       "      <td>252.0</td>\n",
       "      <td>252.6</td>\n",
       "      <td>251.20</td>\n",
       "      <td>251.60</td>\n",
       "      <td>-0.1587</td>\n",
       "      <td>39</td>\n",
       "      <td>204</td>\n",
       "      <td>...</td>\n",
       "      <td>252.1</td>\n",
       "      <td>19</td>\n",
       "      <td>75</td>\n",
       "      <td>189128.0</td>\n",
       "      <td>252.2</td>\n",
       "      <td>20</td>\n",
       "      <td>129</td>\n",
       "      <td>325240.0</td>\n",
       "      <td>252.1</td>\n",
       "      <td>2023-12-06 20:19:36</td>\n",
       "    </tr>\n",
       "  </tbody>\n",
       "</table>\n",
       "<p>5 rows × 23 columns</p>\n",
       "</div>"
      ],
      "text/plain": [
       "                                     id secid                  ts  pr_open   \n",
       "0  6ce1b5de-1f26-4516-90df-546b9e8db474  ABRD 2023-12-05 18:40:00    252.4  \\\n",
       "1  d63d60db-2de0-405d-8bd5-85ea0a1c8c16  ABIO 2023-12-05 18:40:00     88.1   \n",
       "2  0f647cdd-0c90-4c82-89dc-08862aa141d1  ABRD 2023-12-05 18:35:00    252.4   \n",
       "3  91175085-2e53-4cba-9bf9-b22cd516fdc9  ABIO 2023-12-05 18:35:00     88.2   \n",
       "4  6ffda51f-c6a6-4284-9dc6-d2f89918eea0  ABRD 2023-12-05 18:30:00    252.0   \n",
       "\n",
       "   pr_high  pr_low  pr_close  pr_change trades  vol  ... pr_vwap trades_b   \n",
       "0    252.4  251.20    252.40     0.0000     23  105  ...   251.9       12  \\\n",
       "1     88.3   87.62     88.12     0.0227     36  651  ...   88.01       17   \n",
       "2    252.4  250.80    252.40     0.0000     30  170  ...   251.5       19   \n",
       "3     88.3   88.20     88.30     0.1134      5   64  ...   88.29        3   \n",
       "4    252.6  251.20    251.60    -0.1587     39  204  ...   252.1       19   \n",
       "\n",
       "  vol_b     val_b pr_vwap_b trades_s vol_s     val_s pr_vwap_s   \n",
       "0    63  158654.0     251.8       11    42  105854.0     252.0  \\\n",
       "1   244  214565.0     87.94       19   407  358388.0     88.06   \n",
       "2   131  329246.0     251.3       11    39   98334.0     252.1   \n",
       "3    42   37085.0      88.3        2    22   19420.0     88.28   \n",
       "4    75  189128.0     252.2       20   129  325240.0     252.1   \n",
       "\n",
       "           created_at  \n",
       "0 2023-12-06 20:19:36  \n",
       "1 2023-12-06 20:19:36  \n",
       "2 2023-12-06 20:19:36  \n",
       "3 2023-12-06 20:19:36  \n",
       "4 2023-12-06 20:19:36  \n",
       "\n",
       "[5 rows x 23 columns]"
      ]
     },
     "execution_count": 9,
     "metadata": {},
     "output_type": "execute_result"
    }
   ],
   "source": [
    "tradestats_df.head(5)"
   ]
  },
  {
   "cell_type": "code",
   "execution_count": 10,
   "id": "baa08085-9a4a-4ac4-8bef-fc627ea2de67",
   "metadata": {},
   "outputs": [
    {
     "data": {
      "text/plain": [
       "(97276, 23)"
      ]
     },
     "execution_count": 10,
     "metadata": {},
     "output_type": "execute_result"
    }
   ],
   "source": [
    "tradestats_df.shape"
   ]
  },
  {
   "cell_type": "code",
   "execution_count": 11,
   "id": "c475355e-e67c-4c0f-b1cb-68d162bbb792",
   "metadata": {},
   "outputs": [
    {
     "data": {
      "text/plain": [
       "Index(['id', 'secid', 'ts', 'pr_open', 'pr_high', 'pr_low', 'pr_close',\n",
       "       'pr_change', 'trades', 'vol', 'val', 'pr_std', 'disb', 'pr_vwap',\n",
       "       'trades_b', 'vol_b', 'val_b', 'pr_vwap_b', 'trades_s', 'vol_s', 'val_s',\n",
       "       'pr_vwap_s', 'created_at'],\n",
       "      dtype='object')"
      ]
     },
     "execution_count": 11,
     "metadata": {},
     "output_type": "execute_result"
    }
   ],
   "source": [
    "tradestats_df.columns"
   ]
  },
  {
   "cell_type": "code",
   "execution_count": 12,
   "id": "2921bfe3-90ec-4fce-a928-32262b29abce",
   "metadata": {},
   "outputs": [],
   "source": [
    "orderstats_df = extractor.extract((\n",
    "    'SELECT count(*) from default.orderstats'\n",
    "))"
   ]
  },
  {
   "cell_type": "code",
   "execution_count": 14,
   "id": "f597c00e-b4f5-4dab-8072-fddce70216b8",
   "metadata": {},
   "outputs": [
    {
     "data": {
      "text/html": [
       "<div>\n",
       "<style scoped>\n",
       "    .dataframe tbody tr th:only-of-type {\n",
       "        vertical-align: middle;\n",
       "    }\n",
       "\n",
       "    .dataframe tbody tr th {\n",
       "        vertical-align: top;\n",
       "    }\n",
       "\n",
       "    .dataframe thead th {\n",
       "        text-align: right;\n",
       "    }\n",
       "</style>\n",
       "<table border=\"1\" class=\"dataframe\">\n",
       "  <thead>\n",
       "    <tr style=\"text-align: right;\">\n",
       "      <th></th>\n",
       "      <th>id</th>\n",
       "      <th>secid</th>\n",
       "      <th>ts</th>\n",
       "      <th>put_orders</th>\n",
       "      <th>put_orders_b</th>\n",
       "      <th>put_orders_s</th>\n",
       "      <th>put_vol</th>\n",
       "      <th>put_vol_b</th>\n",
       "      <th>put_vol_s</th>\n",
       "      <th>put_val</th>\n",
       "      <th>...</th>\n",
       "      <th>cancel_vol_b</th>\n",
       "      <th>cancel_vol_s</th>\n",
       "      <th>cancel_val</th>\n",
       "      <th>cancel_val_b</th>\n",
       "      <th>cancel_val_s</th>\n",
       "      <th>put_vwap_b</th>\n",
       "      <th>put_vwap_s</th>\n",
       "      <th>cancel_vwap_b</th>\n",
       "      <th>cancel_vwap_s</th>\n",
       "      <th>created_at</th>\n",
       "    </tr>\n",
       "  </thead>\n",
       "  <tbody>\n",
       "  </tbody>\n",
       "</table>\n",
       "<p>0 rows × 26 columns</p>\n",
       "</div>"
      ],
      "text/plain": [
       "Empty DataFrame\n",
       "Columns: [id, secid, ts, put_orders, put_orders_b, put_orders_s, put_vol, put_vol_b, put_vol_s, put_val, put_val_b, put_val_s, cancel_orders, cancel_orders_b, cancel_orders_s, cancel_vol, cancel_vol_b, cancel_vol_s, cancel_val, cancel_val_b, cancel_val_s, put_vwap_b, put_vwap_s, cancel_vwap_b, cancel_vwap_s, created_at]\n",
       "Index: []\n",
       "\n",
       "[0 rows x 26 columns]"
      ]
     },
     "execution_count": 14,
     "metadata": {},
     "output_type": "execute_result"
    }
   ],
   "source": [
    "orderstats_df.head(5)"
   ]
  },
  {
   "cell_type": "code",
   "execution_count": 21,
   "id": "e902609d-157d-4235-98f7-c656f7ff3cf9",
   "metadata": {},
   "outputs": [
    {
     "data": {
      "text/plain": [
       "(0, 26)"
      ]
     },
     "execution_count": 21,
     "metadata": {},
     "output_type": "execute_result"
    }
   ],
   "source": [
    "orderstats_df.shape"
   ]
  },
  {
   "cell_type": "code",
   "execution_count": 22,
   "id": "adf27c8c-9024-48ce-b25d-605ea5886b92",
   "metadata": {},
   "outputs": [
    {
     "data": {
      "text/plain": [
       "Index(['id', 'secid', 'ts', 'put_orders', 'put_orders_b', 'put_orders_s',\n",
       "       'put_vol', 'put_vol_b', 'put_vol_s', 'put_val', 'put_val_b',\n",
       "       'put_val_s', 'cancel_orders', 'cancel_orders_b', 'cancel_orders_s',\n",
       "       'cancel_vol', 'cancel_vol_b', 'cancel_vol_s', 'cancel_val',\n",
       "       'cancel_val_b', 'cancel_val_s', 'put_vwap_b', 'put_vwap_s',\n",
       "       'cancel_vwap_b', 'cancel_vwap_s', 'created_at'],\n",
       "      dtype='object')"
      ]
     },
     "execution_count": 22,
     "metadata": {},
     "output_type": "execute_result"
    }
   ],
   "source": [
    "orderstats_df.columns"
   ]
  },
  {
   "cell_type": "code",
   "execution_count": 23,
   "id": "822829eb-3217-45f3-94da-631e6ac4d3fd",
   "metadata": {},
   "outputs": [
    {
     "name": "stderr",
     "output_type": "stream",
     "text": [
      "NumPy support is not implemented for UUID. Using generic column\n",
      "NumPy support is not implemented for UUID. Using generic column\n"
     ]
    }
   ],
   "source": [
    "obstats_df = extractor.extract((\n",
    "    'SELECT count(*) from default.obstats'\n",
    "))"
   ]
  },
  {
   "cell_type": "code",
   "execution_count": 24,
   "id": "561c10d3-025a-4a6e-a7ac-84f8f8c0add8",
   "metadata": {},
   "outputs": [
    {
     "data": {
      "text/html": [
       "<div>\n",
       "<style scoped>\n",
       "    .dataframe tbody tr th:only-of-type {\n",
       "        vertical-align: middle;\n",
       "    }\n",
       "\n",
       "    .dataframe tbody tr th {\n",
       "        vertical-align: top;\n",
       "    }\n",
       "\n",
       "    .dataframe thead th {\n",
       "        text-align: right;\n",
       "    }\n",
       "</style>\n",
       "<table border=\"1\" class=\"dataframe\">\n",
       "  <thead>\n",
       "    <tr style=\"text-align: right;\">\n",
       "      <th></th>\n",
       "      <th>id</th>\n",
       "      <th>secid</th>\n",
       "      <th>ts</th>\n",
       "      <th>spread_bbo</th>\n",
       "      <th>spread_lv10</th>\n",
       "      <th>spread_1mio</th>\n",
       "      <th>levels_b</th>\n",
       "      <th>levels_s</th>\n",
       "      <th>vol_b</th>\n",
       "      <th>vol_s</th>\n",
       "      <th>...</th>\n",
       "      <th>val_s</th>\n",
       "      <th>imbalance_vol</th>\n",
       "      <th>imbalance_vol_bbo</th>\n",
       "      <th>imbalance_val</th>\n",
       "      <th>imbalance_val_bbo</th>\n",
       "      <th>vwap_b</th>\n",
       "      <th>vwap_s</th>\n",
       "      <th>vwap_b_1mio</th>\n",
       "      <th>vwap_s_1mio</th>\n",
       "      <th>created_at</th>\n",
       "    </tr>\n",
       "  </thead>\n",
       "  <tbody>\n",
       "    <tr>\n",
       "      <th>0</th>\n",
       "      <td>a99f2797-bd8c-425b-a28f-447381fc15bc</td>\n",
       "      <td>ABRD</td>\n",
       "      <td>2023-12-05 18:40:00</td>\n",
       "      <td>-95.6</td>\n",
       "      <td>101.9</td>\n",
       "      <td>-13.7</td>\n",
       "      <td>132</td>\n",
       "      <td>182</td>\n",
       "      <td>5774</td>\n",
       "      <td>6885</td>\n",
       "      <td>...</td>\n",
       "      <td>18825899.0</td>\n",
       "      <td>-0.09</td>\n",
       "      <td>-0.02</td>\n",
       "      <td>-0.16</td>\n",
       "      <td>-0.01</td>\n",
       "      <td>237.5</td>\n",
       "      <td>273.4</td>\n",
       "      <td>253.0</td>\n",
       "      <td>252.6</td>\n",
       "      <td>2023-12-06 20:19:40</td>\n",
       "    </tr>\n",
       "    <tr>\n",
       "      <th>1</th>\n",
       "      <td>16e2f214-852d-453d-9d49-71e93ff8b64b</td>\n",
       "      <td>ABIO</td>\n",
       "      <td>2023-12-05 18:40:00</td>\n",
       "      <td>-70.2</td>\n",
       "      <td>80.8</td>\n",
       "      <td>116.2</td>\n",
       "      <td>229</td>\n",
       "      <td>332</td>\n",
       "      <td>8965</td>\n",
       "      <td>11532</td>\n",
       "      <td>...</td>\n",
       "      <td>11203929.0</td>\n",
       "      <td>-0.13</td>\n",
       "      <td>0.8</td>\n",
       "      <td>-0.19</td>\n",
       "      <td>0.8</td>\n",
       "      <td>84.6</td>\n",
       "      <td>97.16</td>\n",
       "      <td>87.57</td>\n",
       "      <td>88.59</td>\n",
       "      <td>2023-12-06 20:19:40</td>\n",
       "    </tr>\n",
       "    <tr>\n",
       "      <th>2</th>\n",
       "      <td>eb50ff31-7403-4161-bc45-e84b4cb0b8da</td>\n",
       "      <td>AFKS</td>\n",
       "      <td>2023-12-05 18:40:00</td>\n",
       "      <td>-2.5</td>\n",
       "      <td>18.0</td>\n",
       "      <td>3.6</td>\n",
       "      <td>539</td>\n",
       "      <td>578</td>\n",
       "      <td>43949</td>\n",
       "      <td>50909</td>\n",
       "      <td>...</td>\n",
       "      <td>87727349.0</td>\n",
       "      <td>-0.07</td>\n",
       "      <td>-0.51</td>\n",
       "      <td>-0.13</td>\n",
       "      <td>-0.51</td>\n",
       "      <td>15.404</td>\n",
       "      <td>17.232</td>\n",
       "      <td>16.092</td>\n",
       "      <td>16.097</td>\n",
       "      <td>2023-12-06 20:19:40</td>\n",
       "    </tr>\n",
       "    <tr>\n",
       "      <th>3</th>\n",
       "      <td>39a0d418-f48c-49d8-b6e8-11d3136a35bd</td>\n",
       "      <td>ABRD</td>\n",
       "      <td>2023-12-05 18:05:00</td>\n",
       "      <td>15.8</td>\n",
       "      <td>187.7</td>\n",
       "      <td>59.5</td>\n",
       "      <td>129</td>\n",
       "      <td>172</td>\n",
       "      <td>4389</td>\n",
       "      <td>6482</td>\n",
       "      <td>...</td>\n",
       "      <td>17811704.0</td>\n",
       "      <td>-0.19</td>\n",
       "      <td>0.57</td>\n",
       "      <td>-0.27</td>\n",
       "      <td>0.57</td>\n",
       "      <td>234.4</td>\n",
       "      <td>274.8</td>\n",
       "      <td>253.0</td>\n",
       "      <td>254.5</td>\n",
       "      <td>2023-12-06 20:19:40</td>\n",
       "    </tr>\n",
       "    <tr>\n",
       "      <th>4</th>\n",
       "      <td>4bfa8fc8-ffcd-4a51-bf77-0af7b9270175</td>\n",
       "      <td>AFKS</td>\n",
       "      <td>2023-12-05 18:05:00</td>\n",
       "      <td>1.0</td>\n",
       "      <td>27.4</td>\n",
       "      <td>8.2</td>\n",
       "      <td>524</td>\n",
       "      <td>573</td>\n",
       "      <td>42880</td>\n",
       "      <td>49237</td>\n",
       "      <td>...</td>\n",
       "      <td>85031098.0</td>\n",
       "      <td>-0.07</td>\n",
       "      <td>0.35</td>\n",
       "      <td>-0.13</td>\n",
       "      <td>0.35</td>\n",
       "      <td>15.402</td>\n",
       "      <td>17.27</td>\n",
       "      <td>16.084</td>\n",
       "      <td>16.097</td>\n",
       "      <td>2023-12-06 20:19:40</td>\n",
       "    </tr>\n",
       "  </tbody>\n",
       "</table>\n",
       "<p>5 rows × 21 columns</p>\n",
       "</div>"
      ],
      "text/plain": [
       "                                     id secid                  ts spread_bbo   \n",
       "0  a99f2797-bd8c-425b-a28f-447381fc15bc  ABRD 2023-12-05 18:40:00      -95.6  \\\n",
       "1  16e2f214-852d-453d-9d49-71e93ff8b64b  ABIO 2023-12-05 18:40:00      -70.2   \n",
       "2  eb50ff31-7403-4161-bc45-e84b4cb0b8da  AFKS 2023-12-05 18:40:00       -2.5   \n",
       "3  39a0d418-f48c-49d8-b6e8-11d3136a35bd  ABRD 2023-12-05 18:05:00       15.8   \n",
       "4  4bfa8fc8-ffcd-4a51-bf77-0af7b9270175  AFKS 2023-12-05 18:05:00        1.0   \n",
       "\n",
       "  spread_lv10 spread_1mio levels_b levels_s  vol_b  vol_s  ...       val_s   \n",
       "0       101.9       -13.7      132      182   5774   6885  ...  18825899.0  \\\n",
       "1        80.8       116.2      229      332   8965  11532  ...  11203929.0   \n",
       "2        18.0         3.6      539      578  43949  50909  ...  87727349.0   \n",
       "3       187.7        59.5      129      172   4389   6482  ...  17811704.0   \n",
       "4        27.4         8.2      524      573  42880  49237  ...  85031098.0   \n",
       "\n",
       "  imbalance_vol imbalance_vol_bbo imbalance_val imbalance_val_bbo  vwap_b   \n",
       "0         -0.09             -0.02         -0.16             -0.01   237.5  \\\n",
       "1         -0.13               0.8         -0.19               0.8    84.6   \n",
       "2         -0.07             -0.51         -0.13             -0.51  15.404   \n",
       "3         -0.19              0.57         -0.27              0.57   234.4   \n",
       "4         -0.07              0.35         -0.13              0.35  15.402   \n",
       "\n",
       "   vwap_s vwap_b_1mio vwap_s_1mio          created_at  \n",
       "0   273.4       253.0       252.6 2023-12-06 20:19:40  \n",
       "1   97.16       87.57       88.59 2023-12-06 20:19:40  \n",
       "2  17.232      16.092      16.097 2023-12-06 20:19:40  \n",
       "3   274.8       253.0       254.5 2023-12-06 20:19:40  \n",
       "4   17.27      16.084      16.097 2023-12-06 20:19:40  \n",
       "\n",
       "[5 rows x 21 columns]"
      ]
     },
     "execution_count": 24,
     "metadata": {},
     "output_type": "execute_result"
    }
   ],
   "source": [
    "obstats_df.head(5)"
   ]
  },
  {
   "cell_type": "code",
   "execution_count": 25,
   "id": "e6863f9a-29b6-43a9-8a24-64d479baade7",
   "metadata": {},
   "outputs": [
    {
     "data": {
      "text/plain": [
       "(100000, 21)"
      ]
     },
     "execution_count": 25,
     "metadata": {},
     "output_type": "execute_result"
    }
   ],
   "source": [
    "obstats_df.shape"
   ]
  },
  {
   "cell_type": "code",
   "execution_count": 26,
   "id": "a7e3a739-af29-4bc6-a949-fadeb58bc3b5",
   "metadata": {},
   "outputs": [
    {
     "data": {
      "text/plain": [
       "Index(['id', 'secid', 'ts', 'spread_bbo', 'spread_lv10', 'spread_1mio',\n",
       "       'levels_b', 'levels_s', 'vol_b', 'vol_s', 'val_b', 'val_s',\n",
       "       'imbalance_vol', 'imbalance_vol_bbo', 'imbalance_val',\n",
       "       'imbalance_val_bbo', 'vwap_b', 'vwap_s', 'vwap_b_1mio', 'vwap_s_1mio',\n",
       "       'created_at'],\n",
       "      dtype='object')"
      ]
     },
     "execution_count": 26,
     "metadata": {},
     "output_type": "execute_result"
    }
   ],
   "source": [
    "obstats_df.columns"
   ]
  },
  {
   "cell_type": "code",
   "execution_count": 15,
   "id": "728a2541-5c51-4363-8854-425ec6c0a646",
   "metadata": {},
   "outputs": [
    {
     "name": "stderr",
     "output_type": "stream",
     "text": [
      "NumPy support is not implemented for UUID. Using generic column\n",
      "NumPy support is not implemented for UUID. Using generic column\n"
     ]
    }
   ],
   "source": [
    "candles_df = extractor.extract((\n",
    "    'SELECT count(*) from default.candles'\n",
    "))"
   ]
  },
  {
   "cell_type": "code",
   "execution_count": 16,
   "id": "1945468f-8d3d-4b8c-9644-a0c9d8c5383f",
   "metadata": {},
   "outputs": [
    {
     "data": {
      "text/html": [
       "<div>\n",
       "<style scoped>\n",
       "    .dataframe tbody tr th:only-of-type {\n",
       "        vertical-align: middle;\n",
       "    }\n",
       "\n",
       "    .dataframe tbody tr th {\n",
       "        vertical-align: top;\n",
       "    }\n",
       "\n",
       "    .dataframe thead th {\n",
       "        text-align: right;\n",
       "    }\n",
       "</style>\n",
       "<table border=\"1\" class=\"dataframe\">\n",
       "  <thead>\n",
       "    <tr style=\"text-align: right;\">\n",
       "      <th></th>\n",
       "      <th>id</th>\n",
       "      <th>secid</th>\n",
       "      <th>open</th>\n",
       "      <th>close</th>\n",
       "      <th>high</th>\n",
       "      <th>low</th>\n",
       "      <th>value</th>\n",
       "      <th>volume</th>\n",
       "      <th>begin</th>\n",
       "      <th>end</th>\n",
       "      <th>created_at</th>\n",
       "    </tr>\n",
       "  </thead>\n",
       "  <tbody>\n",
       "    <tr>\n",
       "      <th>0</th>\n",
       "      <td>d12150ea-de06-4e80-a52f-b2b11090fc23</td>\n",
       "      <td>ABIO</td>\n",
       "      <td>37.07</td>\n",
       "      <td>37.07</td>\n",
       "      <td>37.07</td>\n",
       "      <td>37.07</td>\n",
       "      <td>3707.0</td>\n",
       "      <td>100.0</td>\n",
       "      <td>2021-06-25 17:53:00</td>\n",
       "      <td>2021-06-25 17:53:59</td>\n",
       "      <td>2023-12-06 20:27:45</td>\n",
       "    </tr>\n",
       "    <tr>\n",
       "      <th>1</th>\n",
       "      <td>d2a6aa01-9d35-4537-b7e6-253e636fd407</td>\n",
       "      <td>ABIO</td>\n",
       "      <td>37.01</td>\n",
       "      <td>37.00</td>\n",
       "      <td>37.01</td>\n",
       "      <td>37.00</td>\n",
       "      <td>118404.0</td>\n",
       "      <td>3200.0</td>\n",
       "      <td>2021-06-25 17:45:00</td>\n",
       "      <td>2021-06-25 17:45:59</td>\n",
       "      <td>2023-12-06 20:27:45</td>\n",
       "    </tr>\n",
       "    <tr>\n",
       "      <th>2</th>\n",
       "      <td>046480ef-c9fa-4718-8a01-8dad115c42e8</td>\n",
       "      <td>ABIO</td>\n",
       "      <td>37.01</td>\n",
       "      <td>37.00</td>\n",
       "      <td>37.08</td>\n",
       "      <td>37.00</td>\n",
       "      <td>25911.0</td>\n",
       "      <td>700.0</td>\n",
       "      <td>2021-06-25 17:42:00</td>\n",
       "      <td>2021-06-25 17:42:59</td>\n",
       "      <td>2023-12-06 20:27:45</td>\n",
       "    </tr>\n",
       "    <tr>\n",
       "      <th>3</th>\n",
       "      <td>1583c04f-5dd2-44a5-a3e4-03b31e28cfed</td>\n",
       "      <td>ABIO</td>\n",
       "      <td>37.00</td>\n",
       "      <td>37.02</td>\n",
       "      <td>37.02</td>\n",
       "      <td>37.00</td>\n",
       "      <td>29612.0</td>\n",
       "      <td>800.0</td>\n",
       "      <td>2021-06-25 17:40:00</td>\n",
       "      <td>2021-06-25 17:40:59</td>\n",
       "      <td>2023-12-06 20:27:45</td>\n",
       "    </tr>\n",
       "    <tr>\n",
       "      <th>4</th>\n",
       "      <td>6158e015-2c06-47b7-952b-4462e1a8b2e5</td>\n",
       "      <td>ABIO</td>\n",
       "      <td>36.90</td>\n",
       "      <td>37.00</td>\n",
       "      <td>37.00</td>\n",
       "      <td>36.90</td>\n",
       "      <td>184904.0</td>\n",
       "      <td>5000.0</td>\n",
       "      <td>2021-06-25 17:37:00</td>\n",
       "      <td>2021-06-25 17:37:59</td>\n",
       "      <td>2023-12-06 20:27:45</td>\n",
       "    </tr>\n",
       "  </tbody>\n",
       "</table>\n",
       "</div>"
      ],
      "text/plain": [
       "                                     id secid   open  close   high    low   \n",
       "0  d12150ea-de06-4e80-a52f-b2b11090fc23  ABIO  37.07  37.07  37.07  37.07  \\\n",
       "1  d2a6aa01-9d35-4537-b7e6-253e636fd407  ABIO  37.01  37.00  37.01  37.00   \n",
       "2  046480ef-c9fa-4718-8a01-8dad115c42e8  ABIO  37.01  37.00  37.08  37.00   \n",
       "3  1583c04f-5dd2-44a5-a3e4-03b31e28cfed  ABIO  37.00  37.02  37.02  37.00   \n",
       "4  6158e015-2c06-47b7-952b-4462e1a8b2e5  ABIO  36.90  37.00  37.00  36.90   \n",
       "\n",
       "      value  volume               begin                 end   \n",
       "0    3707.0   100.0 2021-06-25 17:53:00 2021-06-25 17:53:59  \\\n",
       "1  118404.0  3200.0 2021-06-25 17:45:00 2021-06-25 17:45:59   \n",
       "2   25911.0   700.0 2021-06-25 17:42:00 2021-06-25 17:42:59   \n",
       "3   29612.0   800.0 2021-06-25 17:40:00 2021-06-25 17:40:59   \n",
       "4  184904.0  5000.0 2021-06-25 17:37:00 2021-06-25 17:37:59   \n",
       "\n",
       "           created_at  \n",
       "0 2023-12-06 20:27:45  \n",
       "1 2023-12-06 20:27:45  \n",
       "2 2023-12-06 20:27:45  \n",
       "3 2023-12-06 20:27:45  \n",
       "4 2023-12-06 20:27:45  "
      ]
     },
     "execution_count": 16,
     "metadata": {},
     "output_type": "execute_result"
    }
   ],
   "source": [
    "candles_df.head(5)"
   ]
  },
  {
   "cell_type": "code",
   "execution_count": 17,
   "id": "79d0734d-ba2a-4c98-b1bc-6604fd9d592a",
   "metadata": {},
   "outputs": [
    {
     "data": {
      "text/plain": [
       "(98992, 11)"
      ]
     },
     "execution_count": 17,
     "metadata": {},
     "output_type": "execute_result"
    }
   ],
   "source": [
    "candles_df.shape"
   ]
  },
  {
   "cell_type": "code",
   "execution_count": 18,
   "id": "9388c815-c1f7-4217-a35d-4b154a7290ce",
   "metadata": {},
   "outputs": [
    {
     "data": {
      "text/plain": [
       "Index(['id', 'secid', 'open', 'close', 'high', 'low', 'value', 'volume',\n",
       "       'begin', 'end', 'created_at'],\n",
       "      dtype='object')"
      ]
     },
     "execution_count": 18,
     "metadata": {},
     "output_type": "execute_result"
    }
   ],
   "source": [
    "candles_df.columns"
   ]
  }
 ],
 "metadata": {
  "kernelspec": {
   "display_name": "Python 3 (ipykernel)",
   "language": "python",
   "name": "python3"
  },
  "language_info": {
   "codemirror_mode": {
    "name": "ipython",
    "version": 3
   },
   "file_extension": ".py",
   "mimetype": "text/x-python",
   "name": "python",
   "nbconvert_exporter": "python",
   "pygments_lexer": "ipython3",
   "version": "3.11.6"
  }
 },
 "nbformat": 4,
 "nbformat_minor": 5
}
