{
 "cells": [
  {
   "cell_type": "code",
   "execution_count": null,
   "id": "752988b3",
   "metadata": {},
   "outputs": [],
   "source": [
    "#Разметка Y\n",
    "def quotes_with_Y(quotes_with_extrems, extr_bar_count, Y_shift, max_unmark = 0.3):\n",
    "    \n",
    "    try:\n",
    "        quotes_with_extrems.drop(columns = ['Datetime'], inplace = True)\n",
    "    except:\n",
    "        pass\n",
    "    \n",
    "    quotes_with_extrems.reset_index(inplace = True)\n",
    "    \n",
    "    quotes_with_extrems['Y'] = None\n",
    "    \n",
    "    last_extr = quotes_with_extrems.iloc[0]['extr']\n",
    "    bar_count = 0\n",
    "    \n",
    "    max_bar_count = 0\n",
    "    \n",
    "    for i, quote in quotes_with_extrems.iterrows():\n",
    "        if (quote['extr'] != last_extr) & ((quote['extr'] == 'min') | (quote['extr'] == 'max')):\n",
    "            last_extr = quote['extr']\n",
    "            bar_count = 0\n",
    "            \n",
    "            #Считаем сколько баров до следующей точки экстремума\n",
    "            max_bar_count = 0\n",
    "            if quotes_with_extrems[quotes_with_extrems.index > i]['extr'].isin(['min', 'max']).any():\n",
    "                for j, row in quotes_with_extrems[quotes_with_extrems.index > i].iterrows():\n",
    "                    if (row['extr'] == 'min') | (row['extr'] == 'max'):\n",
    "                        break\n",
    "                    else:\n",
    "                        max_bar_count += 1\n",
    "            else:\n",
    "                max_bar_count = quotes_with_extrems[quotes_with_extrems.index > i].shape[0]\n",
    "\n",
    "        if (bar_count < extr_bar_count) & (bar_count < max_bar_count*(1-max_unmark)):\n",
    "            if last_extr == 'min':\n",
    "                quotes_with_extrems.at[i, 'Y'] = 1 + Y_shift\n",
    "                bar_count = bar_count + 1\n",
    "            elif last_extr == 'max':\n",
    "                quotes_with_extrems.at[i, 'Y'] = -1 + Y_shift\n",
    "                bar_count = bar_count + 1\n",
    "        else:\n",
    "            quotes_with_extrems.at[i, 'Y'] = 0 + Y_shift\n",
    "            \n",
    "    quotes_with_extrems.index = quotes_with_extrems['Datetime']\n",
    "\n",
    "    return quotes_with_extrems"
   ]
  }
 ],
 "metadata": {
  "kernelspec": {
   "display_name": "Python 3 (ipykernel)",
   "language": "python",
   "name": "python3"
  },
  "language_info": {
   "codemirror_mode": {
    "name": "ipython",
    "version": 3
   },
   "file_extension": ".py",
   "mimetype": "text/x-python",
   "name": "python",
   "nbconvert_exporter": "python",
   "pygments_lexer": "ipython3",
   "version": "3.10.8"
  }
 },
 "nbformat": 4,
 "nbformat_minor": 5
}
