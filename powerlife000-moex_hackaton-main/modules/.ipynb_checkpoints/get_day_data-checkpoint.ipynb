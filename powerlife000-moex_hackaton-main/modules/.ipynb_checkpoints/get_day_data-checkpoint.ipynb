{
 "cells": [
  {
   "cell_type": "code",
   "execution_count": null,
   "id": "88290ebf",
   "metadata": {},
   "outputs": [],
   "source": [
    "#Дневные данные\n",
    "def start(ticker):\n",
    "    import pandas as pd\n",
    "    \n",
    "    quotes_1d = pd.read_csv('data/'+ticker+'_1d.csv',\n",
    "                         index_col=0,\n",
    "                         parse_dates=True,\n",
    "                         #infer_datetime_format=True\n",
    "                        )\n",
    "    quotes_1d = quotes_1d.dropna()\n",
    "    return quotes_1d"
   ]
  }
 ],
 "metadata": {
  "kernelspec": {
   "display_name": "Python 3 (ipykernel)",
   "language": "python",
   "name": "python3"
  },
  "language_info": {
   "codemirror_mode": {
    "name": "ipython",
    "version": 3
   },
   "file_extension": ".py",
   "mimetype": "text/x-python",
   "name": "python",
   "nbconvert_exporter": "python",
   "pygments_lexer": "ipython3",
   "version": "3.10.8"
  }
 },
 "nbformat": 4,
 "nbformat_minor": 5
}
