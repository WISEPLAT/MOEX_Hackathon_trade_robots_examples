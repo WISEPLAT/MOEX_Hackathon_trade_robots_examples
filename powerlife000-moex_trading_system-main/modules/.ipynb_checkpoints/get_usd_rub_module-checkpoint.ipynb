{
 "cells": [
  {
   "cell_type": "code",
   "execution_count": null,
   "id": "8a92c8cc",
   "metadata": {},
   "outputs": [],
   "source": [
    "def get_usd_rub(mt5):\n",
    "    #Получаем данные о долларе\n",
    "    try:\n",
    "        # ticker USDRUB\n",
    "        usd_ticker = \"USDRUB\"\n",
    "        mt5.market_book_add(usd_ticker)\n",
    "\n",
    "        symbol_info=mt5.symbol_info(usd_ticker)\n",
    "        if symbol_info!=None:\n",
    "            symbol_info_dict = mt5.symbol_info(usd_ticker)._asdict()\n",
    "\n",
    "        usd_rub = symbol_info_dict['bid']\n",
    "\n",
    "        if usd_rub == 0.0:\n",
    "            #Пытаемся получить данные с Яху\n",
    "            import requests\n",
    "            url = 'https://query1.finance.yahoo.com/v10/finance/quoteSummary/USDRUB=X?modules=summaryDetail'\n",
    "            headers = {\n",
    "                'User-Agent': 'Mozilla/5.0'\n",
    "            }\n",
    "            response = requests.get(url, headers=headers)\n",
    "\n",
    "            if response.status_code==200:\n",
    "                import json\n",
    "                response_json = json.loads(response.text)\n",
    "                usd_rub = response_json['quoteSummary']['result'][0]['summaryDetail']['ask']['raw']\n",
    "            else:\n",
    "                quit()\n",
    "\n",
    "        #print(\"usd_rub: \", usd_rub)\n",
    "        \n",
    "        return usd_rub\n",
    "    except:\n",
    "        print(\"Error get price of currency pair usd_rub\")\n",
    "#         if is_notebook() != True:\n",
    "#             quit()\n",
    "        \n",
    "        return None    "
   ]
  }
 ],
 "metadata": {
  "kernelspec": {
   "display_name": "Python 3 (ipykernel)",
   "language": "python",
   "name": "python3"
  },
  "language_info": {
   "codemirror_mode": {
    "name": "ipython",
    "version": 3
   },
   "file_extension": ".py",
   "mimetype": "text/x-python",
   "name": "python",
   "nbconvert_exporter": "python",
   "pygments_lexer": "ipython3",
   "version": "3.10.8"
  }
 },
 "nbformat": 4,
 "nbformat_minor": 5
}
