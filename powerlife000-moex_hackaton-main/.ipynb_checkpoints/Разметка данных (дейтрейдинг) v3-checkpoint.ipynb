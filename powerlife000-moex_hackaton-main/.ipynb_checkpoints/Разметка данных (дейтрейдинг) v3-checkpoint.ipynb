{
 "cells": [
  {
   "cell_type": "code",
   "execution_count": 1,
   "id": "869d3357",
   "metadata": {},
   "outputs": [],
   "source": [
    "import warnings\n",
    "warnings.filterwarnings(\"ignore\", category=DeprecationWarning) "
   ]
  },
  {
   "cell_type": "code",
   "execution_count": 42,
   "id": "6d6a5567",
   "metadata": {},
   "outputs": [],
   "source": [
    "import numpy as np"
   ]
  },
  {
   "cell_type": "code",
   "execution_count": 2,
   "id": "9ac49c72",
   "metadata": {},
   "outputs": [
    {
     "name": "stderr",
     "output_type": "stream",
     "text": [
      "C:\\Program Files\\Python310\\lib\\site-packages\\mpl_finance.py:16: DeprecationWarning: \n",
      "\n",
      "  =================================================================\n",
      "\n",
      "   WARNING: `mpl_finance` is deprecated:\n",
      "\n",
      "    Please use `mplfinance` instead (no hyphen, no underscore).\n",
      "\n",
      "    To install: `pip install --upgrade mplfinance` \n",
      "\n",
      "   For more information, see: https://pypi.org/project/mplfinance/\n",
      "\n",
      "  =================================================================\n",
      "\n",
      "  __warnings.warn('\\n\\n  ================================================================='+\n"
     ]
    }
   ],
   "source": [
    "import datetime\n",
    "import pytz\n",
    "\n",
    "import matplotlib.dates as mdates\n",
    "import matplotlib.pyplot as plt\n",
    "import pandas as pd\n",
    "from matplotlib.dates import MONDAY, DateFormatter, DayLocator, WeekdayLocator\n",
    "from mpl_finance import candlestick_ohlc  #  pip install mpl-finance\n",
    "import mplfinance as mpf\n",
    "import yfinance as yf\n",
    "from moexalgo import Market, Ticker"
   ]
  },
  {
   "cell_type": "code",
   "execution_count": 3,
   "id": "860b9c13",
   "metadata": {},
   "outputs": [],
   "source": [
    "import plotly.graph_objects as go\n",
    "import warnings\n",
    "from pandas.errors import SettingWithCopyWarning\n",
    "warnings.simplefilter(action=\"ignore\", category=SettingWithCopyWarning)"
   ]
  },
  {
   "cell_type": "code",
   "execution_count": 4,
   "id": "fac908e8",
   "metadata": {},
   "outputs": [],
   "source": [
    "import sys\n",
    "import json\n",
    "import argparse\n",
    "import io\n",
    "from PIL import Image\n",
    "import psycopg2\n",
    "import base64"
   ]
  },
  {
   "cell_type": "code",
   "execution_count": null,
   "id": "1f9a001a",
   "metadata": {},
   "outputs": [],
   "source": [
    "sys.path.insert(0, 'modules')"
   ]
  },
  {
   "cell_type": "markdown",
   "id": "1ad29fe9",
   "metadata": {},
   "source": [
    "# Загрузка параметров"
   ]
  },
  {
   "cell_type": "code",
   "execution_count": 6,
   "id": "4bddee33",
   "metadata": {},
   "outputs": [],
   "source": [
    "load_params_from_config_file = True #Загрузка параметров из файла\n",
    "load_params_from_command_line = False #Загрузка параметров из командной строки\n",
    "args = None\n",
    "\n",
    "try:\n",
    "    parser = argparse.ArgumentParser()\n",
    "    _ = parser.add_argument('--config_file', dest='config_file', action='store_true', help='Load config from file')\n",
    "    _ = parser.add_argument('--config_path', help='Path to config file: /app/cfg.json')\n",
    "    _ = parser.add_argument('--cmd_config', dest='cmd_config', action='store_true', help='Load config from cmd line')\n",
    "    _ = parser.add_argument('--task_id')\n",
    "    _ = parser.add_argument('--ticker')\n",
    "    _ = parser.add_argument('--timeframe')\n",
    "    _ = parser.add_argument('--start_date')\n",
    "    _ = parser.add_argument('--end_date')\n",
    "    _ = parser.add_argument('--count_points')\n",
    "    _ = parser.add_argument('--extr_bar_count')\n",
    "    args, unknown = parser.parse_known_args()\n",
    "    \n",
    "    if args.config_file:\n",
    "        load_params_from_config_file = True\n",
    "        load_params_from_command_line = False\n",
    "    \n",
    "    if args.cmd_config:\n",
    "            load_params_from_config_file = False\n",
    "            load_params_from_command_line = True\n",
    "except:\n",
    "    print(\"Ошибка парсинга параметров из командной строки\")"
   ]
  },
  {
   "cell_type": "code",
   "execution_count": 7,
   "id": "5a6bf279",
   "metadata": {},
   "outputs": [],
   "source": [
    "if load_params_from_config_file:\n",
    "    #Если есть параметры командной строки\n",
    "    if args:\n",
    "        #Если указан путь к конфигу\n",
    "        if args.config_path:\n",
    "            with open(config_path, 'r', encoding='utf_8') as cfg:\n",
    "                temp_data=cfg.read()\n",
    "        else:\n",
    "            with open('app/configs/10m/data_markup.json', 'r', encoding='utf_8') as cfg:\n",
    "                temp_data=cfg.read()\n",
    "\n",
    "    # parse file\n",
    "    config = json.loads(temp_data)\n",
    "    \n",
    "    task_id = str(config['task_id'])\n",
    "    ticker = str(config['ticker'])\n",
    "    interval = str(config['timeframe'])\n",
    "    start_date = str(config['start_date']) #Начальная дата датасета\n",
    "    end_date = str(config['end_date']) #Конечная дата датасета\n",
    "    count_points = int(config['count_points']) #Параметр разметки экстремумов\n",
    "    extr_bar_count = int(config['extr_bar_count']) #Сколько баров размечаем для генерации сигналов\n",
    "    \n",
    "if load_params_from_command_line:\n",
    "    task_id = str(args.task_id)\n",
    "    ticker = str(args.ticker)\n",
    "    interval = str(args.timeframe)\n",
    "    start_date = str(args.start_date) #Начальная дата датасета\n",
    "    end_date = str(args.end_date) #Конечная дата датасета\n",
    "    count_points = int(args.count_points) #Параметр разметки экстремумов\n",
    "    extr_bar_count = int(args.extr_bar_count) #Сколько баров размечаем для генерации сигналов\n",
    "\n",
    "Y_shift = 0"
   ]
  },
  {
   "cell_type": "code",
   "execution_count": null,
   "id": "ef77903c",
   "metadata": {},
   "outputs": [],
   "source": []
  },
  {
   "cell_type": "markdown",
   "id": "f3e869a5",
   "metadata": {},
   "source": [
    "# Читаем и выбираем данные"
   ]
  },
  {
   "cell_type": "code",
   "execution_count": 8,
   "id": "88566084",
   "metadata": {},
   "outputs": [],
   "source": [
    "# Акции\n",
    "quotes_temp = Ticker(ticker)\n",
    "# Свечи по акциям за период\n",
    "quotes = quotes_temp.candles(date = start_date, till_date = end_date, period=interval)\n",
    "quotes = pd.DataFrame(quotes)"
   ]
  },
  {
   "cell_type": "code",
   "execution_count": 9,
   "id": "a46eed62",
   "metadata": {},
   "outputs": [],
   "source": [
    "quotes.rename(\n",
    "    columns = {\n",
    "        'begin' : 'Datetime',\n",
    "        'open' : 'Open',\n",
    "        'close' : 'Close',\n",
    "        'high' : 'High',\n",
    "        'low' : 'Low',\n",
    "        'volume' : 'Volume'\n",
    "    }, inplace = True\n",
    ")\n",
    "quotes.index = quotes['Datetime']\n",
    "quotes.sort_index(ascending=True, inplace = True)"
   ]
  },
  {
   "cell_type": "code",
   "execution_count": 10,
   "id": "16ed1d07",
   "metadata": {},
   "outputs": [],
   "source": [
    "# mondays = WeekdayLocator(MONDAY)        # major ticks on the mondays\n",
    "# alldays = DayLocator()              # minor ticks on the days\n",
    "# weekFormatter = DateFormatter('%b %d')  # e.g., Jan 12\n",
    "# dayFormatter = DateFormatter('%d')      # e.g., 12\n",
    "\n",
    "# ticker = 'AAPL'\n",
    "\n",
    "# quotes_temp=yf.Ticker(ticker)\n",
    "# quotes=quotes_temp.history(\n",
    "#     interval = \"5m\",# valid intervals: 1m,2m,5m,15m,30m,60m,90m,1h,1d,5d,1wk,1mo,3mo\n",
    "#     period=\"60d\"\n",
    "# ) #  1d, 5d, 1mo, 3mo, 6mo, 1y, 2y, 5y, 10y, ytd, max\n",
    "# quotes.head()"
   ]
  },
  {
   "cell_type": "code",
   "execution_count": null,
   "id": "31b93eee",
   "metadata": {},
   "outputs": [],
   "source": []
  },
  {
   "cell_type": "markdown",
   "id": "e28dc0d4",
   "metadata": {},
   "source": [
    "# Смотрим исходные данные"
   ]
  },
  {
   "cell_type": "code",
   "execution_count": 11,
   "id": "b0785a51",
   "metadata": {},
   "outputs": [],
   "source": [
    "# fig = go.Figure(data=[go.Candlestick(\n",
    "#                 #x=quotes.index,\n",
    "#                 open=quotes['Open'],\n",
    "#                 high=quotes['High'],\n",
    "#                 low=quotes['Low'],\n",
    "#                 close=quotes['Close'])])\n",
    "# #fig.update_layout(xaxis_rangeslider_visible=False)\n",
    "# fig.show()"
   ]
  },
  {
   "cell_type": "markdown",
   "id": "ade85f8d",
   "metadata": {},
   "source": [
    "# Ищем экстремумы"
   ]
  },
  {
   "cell_type": "code",
   "execution_count": 12,
   "id": "430b5cd6",
   "metadata": {},
   "outputs": [],
   "source": [
    "def get_extrems(dataset, count_points):\n",
    "    \n",
    "    dataset['extr'] = None\n",
    "    \n",
    "    #Инициализируем переменные\n",
    "    new_min = 10000000;\n",
    "    new_max = 0;\n",
    "\n",
    "    find_first = False;\n",
    "\n",
    "    count_extr = 0;\n",
    "    current_top_number = 0;\n",
    "    current_bot_number = 0;\n",
    "\n",
    "    extrems = []\n",
    "    last_extr = None;\n",
    "    last_extr_i = 0;\n",
    "    \n",
    "    #Число точек, относительно по которым ищутся экстремумы\n",
    "    #count_points = 10\n",
    "    \n",
    "    min = []\n",
    "    max = []\n",
    "    \n",
    "    for i in range(count_points+1):\n",
    "        min.append(0)\n",
    "        max.append(0)   \n",
    "\n",
    "    \n",
    "    i_filter = 1; #Фильтр близости предыдущего экстремума. Он должен быть дальше чем 1 день\n",
    "    \n",
    "    print(\"Общее число данных графика для обработки: \", dataset.shape[0])\n",
    "    \n",
    "    quote_count = 0;\n",
    "    \n",
    "    for i, quote in dataset.iterrows():\n",
    "        \n",
    "        if quote_count+count_points >= dataset.shape[0]:\n",
    "            break\n",
    "            \n",
    "        for j in range(count_points+1):\n",
    "            \n",
    "#             max[j] = quotes.iloc[quote_count+j].High;\n",
    "#             min[j] = quotes.iloc[quote_count+j].Low;\n",
    "\n",
    "            max[j] = quotes.iloc[quote_count+j].Close;\n",
    "            min[j] = quotes.iloc[quote_count+j].Close;\n",
    "            \n",
    "        if find_first == False: #Ищем первую точку\n",
    "            \n",
    "            logic_max = True\n",
    "            for j in range(1, count_points+1):\n",
    "                logic_max = logic_max & (max[0] > max[j])\n",
    "            \n",
    "            if logic_max:\n",
    "                find_first = True;#Первый максимум найден\n",
    "\n",
    "                new_min = max[0];\n",
    "                dataset.at[i, 'extr'] = 'max'\n",
    "                extrems.append([quote,quote_count,'max'])\n",
    "                last_extr = 'max'\n",
    "\n",
    "            \n",
    "            logic_min = True\n",
    "            for j in range(1, count_points+1):\n",
    "                logic_min = logic_min & (min[0] < min[j])\n",
    "                \n",
    "            if logic_min:\n",
    "                find_first = True;#Первый минимум найден\n",
    "\n",
    "                new_max = min[0];\n",
    "                dataset.at[i, 'extr'] = 'min'\n",
    "                extrems.append([quote,quote_count,'min'])\n",
    "                last_extr = 'min'\n",
    "        \n",
    "        else: #Ищем остальные точки\n",
    "            \n",
    "            if last_extr == 'min':\n",
    "                \n",
    "                if quotes.iloc[quote_count].High > new_max:\n",
    "                    new_max = max[0];\n",
    "                    \n",
    "                    logic_max = True\n",
    "                    for j in range(1, count_points+1):\n",
    "                        logic_max = logic_max & (max[0] > max[j])\n",
    "                    \n",
    "                    if logic_max:\n",
    "                        find_first = True;#Максимум найден\n",
    "                        \n",
    "                        new_min = max[0]\n",
    "                        dataset.at[i, 'extr'] = 'max'\n",
    "                        extrems.append([quote,'max'])\n",
    "                        last_extr = 'max'                        \n",
    "            \n",
    "            elif last_extr == 'max':\n",
    "                \n",
    "                if quotes.iloc[quote_count].Low < new_min:\n",
    "                    new_min = min[0]\n",
    "                    \n",
    "                    logic_min = True\n",
    "                    for j in range(1, count_points+1):\n",
    "                        logic_min = logic_min & (min[0] < min[j])\n",
    "\n",
    "                    if logic_min:\n",
    "                        find_first = True;#Минимум найден\n",
    "\n",
    "                        new_max = min[0];\n",
    "                        dataset.at[i, 'extr'] = 'min'\n",
    "                        extrems.append([quote,'min'])\n",
    "                        last_extr = 'min'\n",
    "        \n",
    "        quote_count = quote_count+1\n",
    "\n",
    "    return dataset"
   ]
  },
  {
   "cell_type": "code",
   "execution_count": 13,
   "id": "41b9c4f6",
   "metadata": {},
   "outputs": [
    {
     "name": "stdout",
     "output_type": "stream",
     "text": [
      "Общее число данных графика для обработки:  581\n"
     ]
    }
   ],
   "source": [
    "quotes_with_extrems = get_extrems(quotes, count_points)"
   ]
  },
  {
   "cell_type": "code",
   "execution_count": 14,
   "id": "2ea7fa74",
   "metadata": {},
   "outputs": [],
   "source": [
    "quotes_with_extrems['Color'] = None\n",
    "quotes_with_extrems['Trend'] = None"
   ]
  },
  {
   "cell_type": "code",
   "execution_count": 15,
   "id": "8c05d990",
   "metadata": {},
   "outputs": [],
   "source": [
    "#Раскрашиваем тренды\n",
    "last_extr = None\n",
    "\n",
    "for i, quote in quotes_with_extrems.iterrows():\n",
    "    \n",
    "    if quote['extr'] == 'max':\n",
    "        last_extr = 'max'\n",
    "    elif quote['extr'] == 'min':\n",
    "        last_extr = 'min'\n",
    "        \n",
    "    if last_extr == 'min':\n",
    "        quotes_with_extrems.at[i, 'Color'] = '#AFE1AF'#green\n",
    "        quotes_with_extrems.at[i, 'Trend'] = 'buy'\n",
    "    elif last_extr == 'max':\n",
    "        quotes_with_extrems.at[i, 'Color'] = '#880808'#red\n",
    "        quotes_with_extrems.at[i, 'Trend'] = 'sell'\n",
    "    "
   ]
  },
  {
   "cell_type": "code",
   "execution_count": null,
   "id": "57b01b10",
   "metadata": {},
   "outputs": [],
   "source": []
  },
  {
   "cell_type": "markdown",
   "id": "912096ba",
   "metadata": {},
   "source": [
    "# Смотрим результаты разметки"
   ]
  },
  {
   "cell_type": "code",
   "execution_count": 16,
   "id": "d4d3d404",
   "metadata": {},
   "outputs": [],
   "source": [
    "quotes_with_extrems['x'] = quotes_with_extrems.index"
   ]
  },
  {
   "cell_type": "code",
   "execution_count": 17,
   "id": "f07baa40",
   "metadata": {},
   "outputs": [],
   "source": [
    "y_max = quotes_with_extrems['High'].max()*1.05\n",
    "y_min = quotes_with_extrems['Low'].min()*0.95"
   ]
  },
  {
   "cell_type": "code",
   "execution_count": 18,
   "id": "522fe0b3",
   "metadata": {},
   "outputs": [],
   "source": [
    "#%matplotlib qt"
   ]
  },
  {
   "cell_type": "code",
   "execution_count": 19,
   "id": "0722083d",
   "metadata": {},
   "outputs": [],
   "source": [
    "feel_df = quotes_with_extrems\n",
    "\n",
    "try:\n",
    "    feel_df.drop(columns = ['Datetime'], inplace = True)\n",
    "except:\n",
    "    pass\n",
    "    \n",
    "feel_df.reset_index(inplace = True)\n",
    "fig = go.Figure(data=[go.Candlestick(\n",
    "                x=feel_df.index,\n",
    "                open=feel_df['Open'],\n",
    "                high=feel_df['High'],\n",
    "                low=feel_df['Low'],\n",
    "                close=feel_df['Close'])])\n",
    "\n",
    "feel_df = quotes_with_extrems[quotes_with_extrems['extr'].notna()]\n",
    "\n",
    "feel_df['x'] = feel_df.index\n",
    "feel_df['x1'] = feel_df['x'].shift(-1)\n",
    "feel_df.dropna(subset = ['x1'], inplace = True)\n",
    "\n",
    "for i, row in feel_df.iterrows():    \n",
    "\n",
    "    fig.add_shape(type=\"rect\",\n",
    "                        xref=\"x\",\n",
    "                        yref=\"paper\",\n",
    "                        x0=row['x'],\n",
    "                        y0=0,\n",
    "                        x1=row['x1'],\n",
    "                        y1=row['High']*10,\n",
    "                        line=dict(color=\"rgba(0,0,0,0)\",width=3,),\n",
    "                        fillcolor=row['Color'],\n",
    "                        layer='below')\n",
    "    \n",
    "    #quote_count = quote_count + 1\n",
    "\n",
    " \n",
    "\n",
    "# fig.show()\n",
    "markup_example = fig.to_html()"
   ]
  },
  {
   "cell_type": "markdown",
   "id": "9271c2b0",
   "metadata": {},
   "source": [
    "# Разметка сигналов"
   ]
  },
  {
   "cell_type": "code",
   "execution_count": 20,
   "id": "1fa6a760",
   "metadata": {},
   "outputs": [],
   "source": [
    "#Разметка Y\n",
    "def quotes_with_Y(quotes_with_extrems, extr_bar_count, Y_shift, max_unmark = 0.3):\n",
    "    quotes_with_extrems['Y'] = None\n",
    "    \n",
    "    last_extr = quotes_with_extrems.iloc[0]['extr']\n",
    "    bar_count = 0\n",
    "    \n",
    "    max_bar_count = 0\n",
    "    \n",
    "    for i, quote in quotes_with_extrems.iterrows():\n",
    "        if (quote['extr'] != last_extr) & ((quote['extr'] == 'min') | (quote['extr'] == 'max')):\n",
    "            last_extr = quote['extr']\n",
    "            bar_count = 0\n",
    "            \n",
    "            #Считаем сколько баров до следующей точки экстремума\n",
    "            max_bar_count = 0\n",
    "            if quotes_with_extrems[quotes_with_extrems.index > i]['extr'].isin(['min', 'max']).any():\n",
    "                for j, row in quotes_with_extrems[quotes_with_extrems.index > i].iterrows():\n",
    "                    if (row['extr'] == 'min') | (row['extr'] == 'max'):\n",
    "                        break\n",
    "                    else:\n",
    "                        max_bar_count += 1\n",
    "            else:\n",
    "                max_bar_count = quotes_with_extrems[quotes_with_extrems.index > i].shape[0]\n",
    "\n",
    "        if (bar_count < extr_bar_count) & (bar_count < max_bar_count*(1-max_unmark)):\n",
    "            if last_extr == 'min':\n",
    "                quotes_with_extrems.at[i, 'Y'] = 1 + Y_shift\n",
    "                bar_count = bar_count + 1\n",
    "            elif last_extr == 'max':\n",
    "                quotes_with_extrems.at[i, 'Y'] = -1 + Y_shift\n",
    "                bar_count = bar_count + 1\n",
    "        else:\n",
    "            quotes_with_extrems.at[i, 'Y'] = 0 + Y_shift\n",
    "\n",
    "    return quotes_with_extrems"
   ]
  },
  {
   "cell_type": "code",
   "execution_count": 21,
   "id": "1ff0f251",
   "metadata": {},
   "outputs": [],
   "source": [
    "#Размечаем Y по дневному графику\n",
    "quotes_1d_with_Y = quotes_with_Y(quotes_with_extrems, extr_bar_count, Y_shift, max_unmark = 0.2)    "
   ]
  },
  {
   "cell_type": "code",
   "execution_count": 22,
   "id": "17e8cfed",
   "metadata": {},
   "outputs": [
    {
     "data": {
      "text/plain": [
       "<matplotlib.legend.Legend at 0x2e67139d7e0>"
      ]
     },
     "execution_count": 22,
     "metadata": {},
     "output_type": "execute_result"
    }
   ],
   "source": [
    "fig, ax = plt.subplots()\n",
    "ax.set_title('Сигналы')\n",
    "\n",
    "try:\n",
    "    show = quotes_1d_with_Y.drop(columns = ['Datetime']).reset_index()#Делаем ресет индекса, чтобы не показывались даты\n",
    "except:\n",
    "    try:\n",
    "        show = quotes_1d_with_Y.reset_index()\n",
    "    except:\n",
    "        show = quotes_1d_with_Y\n",
    "\n",
    "plt.plot(show['Y'], label='Размеченые данные')\n",
    "plt.legend(loc=\"lower right\")\n",
    "#plt.show()"
   ]
  },
  {
   "cell_type": "code",
   "execution_count": 23,
   "id": "4e14876a",
   "metadata": {},
   "outputs": [],
   "source": [
    "def plt_to_png(graph):\n",
    "    buffer = io.BytesIO()\n",
    "    graph.savefig(buffer, format='png')\n",
    "    buffer.seek(0)\n",
    "    image_png = buffer.getvalue()\n",
    "    buffer.close()\n",
    "    graphic = base64.b64encode(image_png)\n",
    "    graphic = graphic.decode('utf-8')\n",
    "    graph.close()\n",
    "\n",
    "    return graphic"
   ]
  },
  {
   "cell_type": "code",
   "execution_count": 24,
   "id": "2ee54579",
   "metadata": {},
   "outputs": [],
   "source": [
    "singals_example = plt_to_png(plt)"
   ]
  },
  {
   "cell_type": "code",
   "execution_count": 25,
   "id": "554e7cdf",
   "metadata": {},
   "outputs": [],
   "source": [
    "plt.close()"
   ]
  },
  {
   "cell_type": "markdown",
   "id": "51239e30",
   "metadata": {},
   "source": [
    "# Расчёт трейдов при торговле в лонг"
   ]
  },
  {
   "cell_type": "code",
   "execution_count": 26,
   "id": "d7a5d971",
   "metadata": {},
   "outputs": [],
   "source": [
    "#Трейды без смещения\n",
    "\n",
    "trades_without_shift = []\n",
    "\n",
    "current_position = 'close'\n",
    "current_open_price = 0\n",
    "\n",
    "iter_count = 0\n",
    "for i, quote in quotes_with_extrems.iterrows():\n",
    "    \n",
    "    if current_position == 'close':\n",
    "        if quote['Trend'] == 'buy':\n",
    "            current_position = 'open'\n",
    "            current_open_price = quote['Close']\n",
    "            \n",
    "    if current_position == 'open':\n",
    "        if (quote['Trend'] == 'sell') | (iter_count+1 == quotes_with_extrems.shape[0]):\n",
    "            current_position = 'close'\n",
    "            \n",
    "            profit = quote['Close']/current_open_price\n",
    "            \n",
    "            trades_without_shift.append([current_open_price, quote['Close'], profit])\n",
    "    \n",
    "    iter_count = iter_count + 1"
   ]
  },
  {
   "cell_type": "code",
   "execution_count": 27,
   "id": "885e9136",
   "metadata": {},
   "outputs": [
    {
     "name": "stdout",
     "output_type": "stream",
     "text": [
      "Доходность без смещения:  1.1634117340511603\n"
     ]
    }
   ],
   "source": [
    "#Доходность без смещения\n",
    "\n",
    "profit_without_shift = 1\n",
    "\n",
    "for row in trades_without_shift:\n",
    "    profit_without_shift = profit_without_shift * row[2]\n",
    "    \n",
    "print(\"Доходность без смещения: \", profit_without_shift)"
   ]
  },
  {
   "cell_type": "code",
   "execution_count": 28,
   "id": "b1d03c7e",
   "metadata": {},
   "outputs": [],
   "source": [
    "#Трейды со смещением\n",
    "\n",
    "trades_with_shift = []\n",
    "\n",
    "current_position = 'close'\n",
    "current_open_price = 0\n",
    "\n",
    "iter_count = 0\n",
    "for i, quote in quotes_with_extrems.iterrows():\n",
    "    \n",
    "    if current_position == 'close':\n",
    "        if quote['Trend'] == 'buy':\n",
    "            current_position = 'open'\n",
    "            try:\n",
    "                current_open_price = quotes_with_extrems.iloc[iter_count+1]['Close']\n",
    "            except:\n",
    "                current_open_price = quotes_with_extrems.iloc[iter_count]['Close']\n",
    "            \n",
    "    if current_position == 'open':\n",
    "        if (quote['Trend'] == 'sell') | (iter_count+1 == quotes_with_extrems.shape[0]):\n",
    "            current_position = 'close'\n",
    "            \n",
    "            try:\n",
    "                profit = quotes_with_extrems.iloc[iter_count+1]['Close']/current_open_price \n",
    "                trades_with_shift.append([current_open_price, quotes_with_extrems.iloc[iter_count+1]['Close'], profit])\n",
    "            except:\n",
    "                profit = quotes_with_extrems.iloc[iter_count]['Close']/current_open_price \n",
    "                trades_with_shift.append([current_open_price, quotes_with_extrems.iloc[iter_count]['Close'], profit])\n",
    "    \n",
    "    iter_count = iter_count + 1"
   ]
  },
  {
   "cell_type": "code",
   "execution_count": 29,
   "id": "8024d905",
   "metadata": {},
   "outputs": [
    {
     "name": "stdout",
     "output_type": "stream",
     "text": [
      "Доходность со смещением:  1.0961486450357754\n"
     ]
    }
   ],
   "source": [
    "#Доходность со смещением\n",
    "\n",
    "profit_with_shift = 1\n",
    "\n",
    "for row in trades_with_shift:\n",
    "    profit_with_shift = profit_with_shift * row[2]\n",
    "    \n",
    "print(\"Доходность со смещением: \", profit_with_shift)"
   ]
  },
  {
   "cell_type": "code",
   "execution_count": null,
   "id": "51f7d790",
   "metadata": {},
   "outputs": [],
   "source": []
  },
  {
   "cell_type": "markdown",
   "id": "b3f58e8d",
   "metadata": {},
   "source": [
    "# Сохранение результатов"
   ]
  },
  {
   "cell_type": "code",
   "execution_count": 36,
   "id": "28408d28",
   "metadata": {},
   "outputs": [],
   "source": [
    "result_df = quotes_with_extrems.copy(deep = True)"
   ]
  },
  {
   "cell_type": "code",
   "execution_count": 38,
   "id": "c40c63b3",
   "metadata": {},
   "outputs": [],
   "source": [
    "result_df.drop(columns = ['value', 'end', 'Color', 'x'], inplace = True)"
   ]
  },
  {
   "cell_type": "code",
   "execution_count": 40,
   "id": "8f7c34cb",
   "metadata": {},
   "outputs": [],
   "source": [
    "result_df.rename(columns = {\n",
    "    'Y':'Singals',\n",
    "    'extr': 'Extrems'\n",
    "}, inplace = True)"
   ]
  },
  {
   "cell_type": "code",
   "execution_count": 43,
   "id": "3342578a",
   "metadata": {},
   "outputs": [],
   "source": [
    "result_df['Trend'] = np.where(result_df['Trend'] == 'sell', 0, result_df['Trend'])\n",
    "result_df['Trend'] = np.where(result_df['Trend'] == 'buy', 1, result_df['Trend'])"
   ]
  },
  {
   "cell_type": "code",
   "execution_count": 52,
   "id": "fe1a1a00",
   "metadata": {},
   "outputs": [],
   "source": [
    "result = {\n",
    "    'task_id': task_id,\n",
    "    'markup': {\n",
    "       'description': '',\n",
    "        'values': result_df.to_json()\n",
    "    },\n",
    "    'profit_without_shift': {\n",
    "        'description': 'Теоретическая доходность',\n",
    "        'value': profit_without_shift\n",
    "    },\n",
    "    'profit_with_shift': {\n",
    "        'description': 'Доходность при смещении точек покупки и продажи на 1 бар',\n",
    "        'value': profit_with_shift\n",
    "    }\n",
    "}"
   ]
  },
  {
   "cell_type": "code",
   "execution_count": 47,
   "id": "95f8a684",
   "metadata": {},
   "outputs": [],
   "source": [
    "#result_json = json.dumps(result)"
   ]
  },
  {
   "cell_type": "code",
   "execution_count": 53,
   "id": "9afecb2d",
   "metadata": {},
   "outputs": [],
   "source": [
    "#\n",
    "with open('results/murkup_data.json', 'w') as f:\n",
    "    json.dump(result, f)"
   ]
  },
  {
   "cell_type": "code",
   "execution_count": null,
   "id": "a95d1a32",
   "metadata": {},
   "outputs": [],
   "source": []
  },
  {
   "cell_type": "code",
   "execution_count": null,
   "id": "65b98bac",
   "metadata": {},
   "outputs": [],
   "source": []
  }
 ],
 "metadata": {
  "kernelspec": {
   "display_name": "Python 3 (ipykernel)",
   "language": "python",
   "name": "python3"
  },
  "language_info": {
   "codemirror_mode": {
    "name": "ipython",
    "version": 3
   },
   "file_extension": ".py",
   "mimetype": "text/x-python",
   "name": "python",
   "nbconvert_exporter": "python",
   "pygments_lexer": "ipython3",
   "version": "3.10.8"
  }
 },
 "nbformat": 4,
 "nbformat_minor": 5
}
