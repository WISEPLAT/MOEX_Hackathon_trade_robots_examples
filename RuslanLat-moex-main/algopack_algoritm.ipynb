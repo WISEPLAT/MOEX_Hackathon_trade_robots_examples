{
 "cells": [
  {
   "cell_type": "code",
   "execution_count": 1,
   "metadata": {},
   "outputs": [],
   "source": [
    "import pandas as pd\n",
    "import datetime\n",
    "import matplotlib.pyplot as plt"
   ]
  },
  {
   "cell_type": "code",
   "execution_count": 2,
   "metadata": {
    "scrolled": true
   },
   "outputs": [
    {
     "data": {
      "text/html": [
       "<div>\n",
       "<style scoped>\n",
       "    .dataframe tbody tr th:only-of-type {\n",
       "        vertical-align: middle;\n",
       "    }\n",
       "\n",
       "    .dataframe tbody tr th {\n",
       "        vertical-align: top;\n",
       "    }\n",
       "\n",
       "    .dataframe thead th {\n",
       "        text-align: right;\n",
       "    }\n",
       "</style>\n",
       "<table border=\"1\" class=\"dataframe\">\n",
       "  <thead>\n",
       "    <tr style=\"text-align: right;\">\n",
       "      <th></th>\n",
       "      <th>open</th>\n",
       "      <th>close</th>\n",
       "      <th>high</th>\n",
       "      <th>low</th>\n",
       "      <th>value</th>\n",
       "      <th>volume</th>\n",
       "      <th>begin</th>\n",
       "      <th>end</th>\n",
       "    </tr>\n",
       "  </thead>\n",
       "  <tbody>\n",
       "    <tr>\n",
       "      <th>0</th>\n",
       "      <td>295.90</td>\n",
       "      <td>305.47</td>\n",
       "      <td>305.50</td>\n",
       "      <td>294.34</td>\n",
       "      <td>1.511647e+10</td>\n",
       "      <td>50183170.0</td>\n",
       "      <td>2022-01-03</td>\n",
       "      <td>2022-01-03 23:59:59</td>\n",
       "    </tr>\n",
       "    <tr>\n",
       "      <th>1</th>\n",
       "      <td>305.51</td>\n",
       "      <td>304.24</td>\n",
       "      <td>310.10</td>\n",
       "      <td>301.63</td>\n",
       "      <td>1.627717e+10</td>\n",
       "      <td>53270410.0</td>\n",
       "      <td>2022-01-04</td>\n",
       "      <td>2022-01-04 23:59:59</td>\n",
       "    </tr>\n",
       "    <tr>\n",
       "      <th>2</th>\n",
       "      <td>303.72</td>\n",
       "      <td>287.01</td>\n",
       "      <td>304.26</td>\n",
       "      <td>287.00</td>\n",
       "      <td>2.074094e+10</td>\n",
       "      <td>70017630.0</td>\n",
       "      <td>2022-01-05</td>\n",
       "      <td>2022-01-05 23:59:59</td>\n",
       "    </tr>\n",
       "    <tr>\n",
       "      <th>3</th>\n",
       "      <td>286.60</td>\n",
       "      <td>293.92</td>\n",
       "      <td>295.10</td>\n",
       "      <td>281.00</td>\n",
       "      <td>2.312860e+10</td>\n",
       "      <td>79380930.0</td>\n",
       "      <td>2022-01-06</td>\n",
       "      <td>2022-01-06 23:59:59</td>\n",
       "    </tr>\n",
       "    <tr>\n",
       "      <th>4</th>\n",
       "      <td>295.52</td>\n",
       "      <td>291.69</td>\n",
       "      <td>298.88</td>\n",
       "      <td>288.68</td>\n",
       "      <td>1.975769e+10</td>\n",
       "      <td>67426550.0</td>\n",
       "      <td>2022-01-10</td>\n",
       "      <td>2022-01-10 23:59:59</td>\n",
       "    </tr>\n",
       "    <tr>\n",
       "      <th>...</th>\n",
       "      <td>...</td>\n",
       "      <td>...</td>\n",
       "      <td>...</td>\n",
       "      <td>...</td>\n",
       "      <td>...</td>\n",
       "      <td>...</td>\n",
       "      <td>...</td>\n",
       "      <td>...</td>\n",
       "    </tr>\n",
       "    <tr>\n",
       "      <th>463</th>\n",
       "      <td>287.40</td>\n",
       "      <td>282.33</td>\n",
       "      <td>289.00</td>\n",
       "      <td>278.88</td>\n",
       "      <td>2.247182e+10</td>\n",
       "      <td>79146090.0</td>\n",
       "      <td>2023-11-27</td>\n",
       "      <td>2023-11-27 23:59:59</td>\n",
       "    </tr>\n",
       "    <tr>\n",
       "      <th>464</th>\n",
       "      <td>282.40</td>\n",
       "      <td>279.91</td>\n",
       "      <td>282.51</td>\n",
       "      <td>277.32</td>\n",
       "      <td>1.272361e+10</td>\n",
       "      <td>45507410.0</td>\n",
       "      <td>2023-11-28</td>\n",
       "      <td>2023-11-28 23:59:59</td>\n",
       "    </tr>\n",
       "    <tr>\n",
       "      <th>465</th>\n",
       "      <td>279.36</td>\n",
       "      <td>276.80</td>\n",
       "      <td>280.56</td>\n",
       "      <td>276.20</td>\n",
       "      <td>8.285652e+09</td>\n",
       "      <td>29820830.0</td>\n",
       "      <td>2023-11-29</td>\n",
       "      <td>2023-11-29 23:59:59</td>\n",
       "    </tr>\n",
       "    <tr>\n",
       "      <th>466</th>\n",
       "      <td>276.70</td>\n",
       "      <td>277.50</td>\n",
       "      <td>278.65</td>\n",
       "      <td>272.75</td>\n",
       "      <td>1.539141e+10</td>\n",
       "      <td>55873540.0</td>\n",
       "      <td>2023-11-30</td>\n",
       "      <td>2023-11-30 23:59:59</td>\n",
       "    </tr>\n",
       "    <tr>\n",
       "      <th>467</th>\n",
       "      <td>277.00</td>\n",
       "      <td>273.97</td>\n",
       "      <td>277.98</td>\n",
       "      <td>273.55</td>\n",
       "      <td>8.726777e+09</td>\n",
       "      <td>31660970.0</td>\n",
       "      <td>2023-12-01</td>\n",
       "      <td>2023-12-01 23:59:59</td>\n",
       "    </tr>\n",
       "  </tbody>\n",
       "</table>\n",
       "<p>468 rows × 8 columns</p>\n",
       "</div>"
      ],
      "text/plain": [
       "       open   close    high     low         value      volume       begin  \\\n",
       "0    295.90  305.47  305.50  294.34  1.511647e+10  50183170.0  2022-01-03   \n",
       "1    305.51  304.24  310.10  301.63  1.627717e+10  53270410.0  2022-01-04   \n",
       "2    303.72  287.01  304.26  287.00  2.074094e+10  70017630.0  2022-01-05   \n",
       "3    286.60  293.92  295.10  281.00  2.312860e+10  79380930.0  2022-01-06   \n",
       "4    295.52  291.69  298.88  288.68  1.975769e+10  67426550.0  2022-01-10   \n",
       "..      ...     ...     ...     ...           ...         ...         ...   \n",
       "463  287.40  282.33  289.00  278.88  2.247182e+10  79146090.0  2023-11-27   \n",
       "464  282.40  279.91  282.51  277.32  1.272361e+10  45507410.0  2023-11-28   \n",
       "465  279.36  276.80  280.56  276.20  8.285652e+09  29820830.0  2023-11-29   \n",
       "466  276.70  277.50  278.65  272.75  1.539141e+10  55873540.0  2023-11-30   \n",
       "467  277.00  273.97  277.98  273.55  8.726777e+09  31660970.0  2023-12-01   \n",
       "\n",
       "                     end  \n",
       "0    2022-01-03 23:59:59  \n",
       "1    2022-01-04 23:59:59  \n",
       "2    2022-01-05 23:59:59  \n",
       "3    2022-01-06 23:59:59  \n",
       "4    2022-01-10 23:59:59  \n",
       "..                   ...  \n",
       "463  2023-11-27 23:59:59  \n",
       "464  2023-11-28 23:59:59  \n",
       "465  2023-11-29 23:59:59  \n",
       "466  2023-11-30 23:59:59  \n",
       "467  2023-12-01 23:59:59  \n",
       "\n",
       "[468 rows x 8 columns]"
      ]
     },
     "execution_count": 2,
     "metadata": {},
     "output_type": "execute_result"
    }
   ],
   "source": [
    "df = pd.read_csv('sber_day.csv')\n",
    "df"
   ]
  },
  {
   "cell_type": "code",
   "execution_count": 3,
   "metadata": {},
   "outputs": [
    {
     "data": {
      "text/html": [
       "<div>\n",
       "<style scoped>\n",
       "    .dataframe tbody tr th:only-of-type {\n",
       "        vertical-align: middle;\n",
       "    }\n",
       "\n",
       "    .dataframe tbody tr th {\n",
       "        vertical-align: top;\n",
       "    }\n",
       "\n",
       "    .dataframe thead th {\n",
       "        text-align: right;\n",
       "    }\n",
       "</style>\n",
       "<table border=\"1\" class=\"dataframe\">\n",
       "  <thead>\n",
       "    <tr style=\"text-align: right;\">\n",
       "      <th></th>\n",
       "      <th>open</th>\n",
       "      <th>close</th>\n",
       "      <th>high</th>\n",
       "      <th>low</th>\n",
       "      <th>value</th>\n",
       "      <th>volume</th>\n",
       "      <th>begin</th>\n",
       "      <th>end</th>\n",
       "    </tr>\n",
       "  </thead>\n",
       "  <tbody>\n",
       "    <tr>\n",
       "      <th>0</th>\n",
       "      <td>295.90</td>\n",
       "      <td>305.47</td>\n",
       "      <td>305.50</td>\n",
       "      <td>294.34</td>\n",
       "      <td>1.511647e+10</td>\n",
       "      <td>50183170.0</td>\n",
       "      <td>2022-01-03</td>\n",
       "      <td>2022-01-03 23:59:59</td>\n",
       "    </tr>\n",
       "    <tr>\n",
       "      <th>1</th>\n",
       "      <td>305.51</td>\n",
       "      <td>304.24</td>\n",
       "      <td>310.10</td>\n",
       "      <td>301.63</td>\n",
       "      <td>1.627717e+10</td>\n",
       "      <td>53270410.0</td>\n",
       "      <td>2022-01-04</td>\n",
       "      <td>2022-01-04 23:59:59</td>\n",
       "    </tr>\n",
       "    <tr>\n",
       "      <th>2</th>\n",
       "      <td>303.72</td>\n",
       "      <td>287.01</td>\n",
       "      <td>304.26</td>\n",
       "      <td>287.00</td>\n",
       "      <td>2.074094e+10</td>\n",
       "      <td>70017630.0</td>\n",
       "      <td>2022-01-05</td>\n",
       "      <td>2022-01-05 23:59:59</td>\n",
       "    </tr>\n",
       "    <tr>\n",
       "      <th>3</th>\n",
       "      <td>286.60</td>\n",
       "      <td>293.92</td>\n",
       "      <td>295.10</td>\n",
       "      <td>281.00</td>\n",
       "      <td>2.312860e+10</td>\n",
       "      <td>79380930.0</td>\n",
       "      <td>2022-01-06</td>\n",
       "      <td>2022-01-06 23:59:59</td>\n",
       "    </tr>\n",
       "    <tr>\n",
       "      <th>4</th>\n",
       "      <td>295.52</td>\n",
       "      <td>291.69</td>\n",
       "      <td>298.88</td>\n",
       "      <td>288.68</td>\n",
       "      <td>1.975769e+10</td>\n",
       "      <td>67426550.0</td>\n",
       "      <td>2022-01-10</td>\n",
       "      <td>2022-01-10 23:59:59</td>\n",
       "    </tr>\n",
       "    <tr>\n",
       "      <th>...</th>\n",
       "      <td>...</td>\n",
       "      <td>...</td>\n",
       "      <td>...</td>\n",
       "      <td>...</td>\n",
       "      <td>...</td>\n",
       "      <td>...</td>\n",
       "      <td>...</td>\n",
       "      <td>...</td>\n",
       "    </tr>\n",
       "    <tr>\n",
       "      <th>463</th>\n",
       "      <td>287.40</td>\n",
       "      <td>282.33</td>\n",
       "      <td>289.00</td>\n",
       "      <td>278.88</td>\n",
       "      <td>2.247182e+10</td>\n",
       "      <td>79146090.0</td>\n",
       "      <td>2023-11-27</td>\n",
       "      <td>2023-11-27 23:59:59</td>\n",
       "    </tr>\n",
       "    <tr>\n",
       "      <th>464</th>\n",
       "      <td>282.40</td>\n",
       "      <td>279.91</td>\n",
       "      <td>282.51</td>\n",
       "      <td>277.32</td>\n",
       "      <td>1.272361e+10</td>\n",
       "      <td>45507410.0</td>\n",
       "      <td>2023-11-28</td>\n",
       "      <td>2023-11-28 23:59:59</td>\n",
       "    </tr>\n",
       "    <tr>\n",
       "      <th>465</th>\n",
       "      <td>279.36</td>\n",
       "      <td>276.80</td>\n",
       "      <td>280.56</td>\n",
       "      <td>276.20</td>\n",
       "      <td>8.285652e+09</td>\n",
       "      <td>29820830.0</td>\n",
       "      <td>2023-11-29</td>\n",
       "      <td>2023-11-29 23:59:59</td>\n",
       "    </tr>\n",
       "    <tr>\n",
       "      <th>466</th>\n",
       "      <td>276.70</td>\n",
       "      <td>277.50</td>\n",
       "      <td>278.65</td>\n",
       "      <td>272.75</td>\n",
       "      <td>1.539141e+10</td>\n",
       "      <td>55873540.0</td>\n",
       "      <td>2023-11-30</td>\n",
       "      <td>2023-11-30 23:59:59</td>\n",
       "    </tr>\n",
       "    <tr>\n",
       "      <th>467</th>\n",
       "      <td>277.00</td>\n",
       "      <td>273.97</td>\n",
       "      <td>277.98</td>\n",
       "      <td>273.55</td>\n",
       "      <td>8.726777e+09</td>\n",
       "      <td>31660970.0</td>\n",
       "      <td>2023-12-01</td>\n",
       "      <td>2023-12-01 23:59:59</td>\n",
       "    </tr>\n",
       "  </tbody>\n",
       "</table>\n",
       "<p>468 rows × 8 columns</p>\n",
       "</div>"
      ],
      "text/plain": [
       "       open   close    high     low         value      volume       begin  \\\n",
       "0    295.90  305.47  305.50  294.34  1.511647e+10  50183170.0  2022-01-03   \n",
       "1    305.51  304.24  310.10  301.63  1.627717e+10  53270410.0  2022-01-04   \n",
       "2    303.72  287.01  304.26  287.00  2.074094e+10  70017630.0  2022-01-05   \n",
       "3    286.60  293.92  295.10  281.00  2.312860e+10  79380930.0  2022-01-06   \n",
       "4    295.52  291.69  298.88  288.68  1.975769e+10  67426550.0  2022-01-10   \n",
       "..      ...     ...     ...     ...           ...         ...         ...   \n",
       "463  287.40  282.33  289.00  278.88  2.247182e+10  79146090.0  2023-11-27   \n",
       "464  282.40  279.91  282.51  277.32  1.272361e+10  45507410.0  2023-11-28   \n",
       "465  279.36  276.80  280.56  276.20  8.285652e+09  29820830.0  2023-11-29   \n",
       "466  276.70  277.50  278.65  272.75  1.539141e+10  55873540.0  2023-11-30   \n",
       "467  277.00  273.97  277.98  273.55  8.726777e+09  31660970.0  2023-12-01   \n",
       "\n",
       "                     end  \n",
       "0    2022-01-03 23:59:59  \n",
       "1    2022-01-04 23:59:59  \n",
       "2    2022-01-05 23:59:59  \n",
       "3    2022-01-06 23:59:59  \n",
       "4    2022-01-10 23:59:59  \n",
       "..                   ...  \n",
       "463  2023-11-27 23:59:59  \n",
       "464  2023-11-28 23:59:59  \n",
       "465  2023-11-29 23:59:59  \n",
       "466  2023-11-30 23:59:59  \n",
       "467  2023-12-01 23:59:59  \n",
       "\n",
       "[468 rows x 8 columns]"
      ]
     },
     "execution_count": 3,
     "metadata": {},
     "output_type": "execute_result"
    }
   ],
   "source": [
    "df"
   ]
  },
  {
   "cell_type": "code",
   "execution_count": null,
   "metadata": {},
   "outputs": [],
   "source": []
  },
  {
   "cell_type": "code",
   "execution_count": 4,
   "metadata": {},
   "outputs": [
    {
     "data": {
      "text/html": [
       "<div>\n",
       "<style scoped>\n",
       "    .dataframe tbody tr th:only-of-type {\n",
       "        vertical-align: middle;\n",
       "    }\n",
       "\n",
       "    .dataframe tbody tr th {\n",
       "        vertical-align: top;\n",
       "    }\n",
       "\n",
       "    .dataframe thead th {\n",
       "        text-align: right;\n",
       "    }\n",
       "</style>\n",
       "<table border=\"1\" class=\"dataframe\">\n",
       "  <thead>\n",
       "    <tr style=\"text-align: right;\">\n",
       "      <th></th>\n",
       "      <th>open</th>\n",
       "      <th>close</th>\n",
       "      <th>high</th>\n",
       "      <th>low</th>\n",
       "      <th>value</th>\n",
       "      <th>volume</th>\n",
       "      <th>begin</th>\n",
       "      <th>end</th>\n",
       "    </tr>\n",
       "  </thead>\n",
       "  <tbody>\n",
       "    <tr>\n",
       "      <th>377</th>\n",
       "      <td>248.00</td>\n",
       "      <td>249.25</td>\n",
       "      <td>249.45</td>\n",
       "      <td>246.67</td>\n",
       "      <td>8.882596e+09</td>\n",
       "      <td>35776620.0</td>\n",
       "      <td>2023-07-28</td>\n",
       "      <td>2023-07-28 23:59:59</td>\n",
       "    </tr>\n",
       "    <tr>\n",
       "      <th>378</th>\n",
       "      <td>251.33</td>\n",
       "      <td>267.40</td>\n",
       "      <td>267.77</td>\n",
       "      <td>251.33</td>\n",
       "      <td>4.358833e+10</td>\n",
       "      <td>167914420.0</td>\n",
       "      <td>2023-07-31</td>\n",
       "      <td>2023-07-31 23:59:59</td>\n",
       "    </tr>\n",
       "    <tr>\n",
       "      <th>379</th>\n",
       "      <td>269.00</td>\n",
       "      <td>268.50</td>\n",
       "      <td>273.35</td>\n",
       "      <td>264.10</td>\n",
       "      <td>4.386791e+10</td>\n",
       "      <td>162988910.0</td>\n",
       "      <td>2023-08-01</td>\n",
       "      <td>2023-08-01 23:59:59</td>\n",
       "    </tr>\n",
       "    <tr>\n",
       "      <th>380</th>\n",
       "      <td>268.50</td>\n",
       "      <td>268.57</td>\n",
       "      <td>269.97</td>\n",
       "      <td>266.52</td>\n",
       "      <td>1.299479e+10</td>\n",
       "      <td>48418320.0</td>\n",
       "      <td>2023-08-02</td>\n",
       "      <td>2023-08-02 23:59:59</td>\n",
       "    </tr>\n",
       "    <tr>\n",
       "      <th>381</th>\n",
       "      <td>269.00</td>\n",
       "      <td>269.11</td>\n",
       "      <td>271.35</td>\n",
       "      <td>266.80</td>\n",
       "      <td>2.041004e+10</td>\n",
       "      <td>75757120.0</td>\n",
       "      <td>2023-08-03</td>\n",
       "      <td>2023-08-03 23:59:59</td>\n",
       "    </tr>\n",
       "    <tr>\n",
       "      <th>...</th>\n",
       "      <td>...</td>\n",
       "      <td>...</td>\n",
       "      <td>...</td>\n",
       "      <td>...</td>\n",
       "      <td>...</td>\n",
       "      <td>...</td>\n",
       "      <td>...</td>\n",
       "      <td>...</td>\n",
       "    </tr>\n",
       "    <tr>\n",
       "      <th>462</th>\n",
       "      <td>286.49</td>\n",
       "      <td>286.85</td>\n",
       "      <td>287.50</td>\n",
       "      <td>285.11</td>\n",
       "      <td>7.464158e+09</td>\n",
       "      <td>26067870.0</td>\n",
       "      <td>2023-11-24</td>\n",
       "      <td>2023-11-24 23:59:59</td>\n",
       "    </tr>\n",
       "    <tr>\n",
       "      <th>463</th>\n",
       "      <td>287.40</td>\n",
       "      <td>282.33</td>\n",
       "      <td>289.00</td>\n",
       "      <td>278.88</td>\n",
       "      <td>2.247182e+10</td>\n",
       "      <td>79146090.0</td>\n",
       "      <td>2023-11-27</td>\n",
       "      <td>2023-11-27 23:59:59</td>\n",
       "    </tr>\n",
       "    <tr>\n",
       "      <th>464</th>\n",
       "      <td>282.40</td>\n",
       "      <td>279.91</td>\n",
       "      <td>282.51</td>\n",
       "      <td>277.32</td>\n",
       "      <td>1.272361e+10</td>\n",
       "      <td>45507410.0</td>\n",
       "      <td>2023-11-28</td>\n",
       "      <td>2023-11-28 23:59:59</td>\n",
       "    </tr>\n",
       "    <tr>\n",
       "      <th>465</th>\n",
       "      <td>279.36</td>\n",
       "      <td>276.80</td>\n",
       "      <td>280.56</td>\n",
       "      <td>276.20</td>\n",
       "      <td>8.285652e+09</td>\n",
       "      <td>29820830.0</td>\n",
       "      <td>2023-11-29</td>\n",
       "      <td>2023-11-29 23:59:59</td>\n",
       "    </tr>\n",
       "    <tr>\n",
       "      <th>466</th>\n",
       "      <td>276.70</td>\n",
       "      <td>277.50</td>\n",
       "      <td>278.65</td>\n",
       "      <td>272.75</td>\n",
       "      <td>1.539141e+10</td>\n",
       "      <td>55873540.0</td>\n",
       "      <td>2023-11-30</td>\n",
       "      <td>2023-11-30 23:59:59</td>\n",
       "    </tr>\n",
       "  </tbody>\n",
       "</table>\n",
       "<p>90 rows × 8 columns</p>\n",
       "</div>"
      ],
      "text/plain": [
       "       open   close    high     low         value       volume       begin  \\\n",
       "377  248.00  249.25  249.45  246.67  8.882596e+09   35776620.0  2023-07-28   \n",
       "378  251.33  267.40  267.77  251.33  4.358833e+10  167914420.0  2023-07-31   \n",
       "379  269.00  268.50  273.35  264.10  4.386791e+10  162988910.0  2023-08-01   \n",
       "380  268.50  268.57  269.97  266.52  1.299479e+10   48418320.0  2023-08-02   \n",
       "381  269.00  269.11  271.35  266.80  2.041004e+10   75757120.0  2023-08-03   \n",
       "..      ...     ...     ...     ...           ...          ...         ...   \n",
       "462  286.49  286.85  287.50  285.11  7.464158e+09   26067870.0  2023-11-24   \n",
       "463  287.40  282.33  289.00  278.88  2.247182e+10   79146090.0  2023-11-27   \n",
       "464  282.40  279.91  282.51  277.32  1.272361e+10   45507410.0  2023-11-28   \n",
       "465  279.36  276.80  280.56  276.20  8.285652e+09   29820830.0  2023-11-29   \n",
       "466  276.70  277.50  278.65  272.75  1.539141e+10   55873540.0  2023-11-30   \n",
       "\n",
       "                     end  \n",
       "377  2023-07-28 23:59:59  \n",
       "378  2023-07-31 23:59:59  \n",
       "379  2023-08-01 23:59:59  \n",
       "380  2023-08-02 23:59:59  \n",
       "381  2023-08-03 23:59:59  \n",
       "..                   ...  \n",
       "462  2023-11-24 23:59:59  \n",
       "463  2023-11-27 23:59:59  \n",
       "464  2023-11-28 23:59:59  \n",
       "465  2023-11-29 23:59:59  \n",
       "466  2023-11-30 23:59:59  \n",
       "\n",
       "[90 rows x 8 columns]"
      ]
     },
     "execution_count": 4,
     "metadata": {},
     "output_type": "execute_result"
    }
   ],
   "source": [
    "  df = df[377:-1]\n",
    "  df"
   ]
  },
  {
   "cell_type": "code",
   "execution_count": 5,
   "metadata": {},
   "outputs": [
    {
     "name": "stdout",
     "output_type": "stream",
     "text": [
      "<class 'pandas.core.frame.DataFrame'>\n",
      "RangeIndex: 90 entries, 377 to 466\n",
      "Data columns (total 8 columns):\n",
      " #   Column  Non-Null Count  Dtype  \n",
      "---  ------  --------------  -----  \n",
      " 0   open    90 non-null     float64\n",
      " 1   close   90 non-null     float64\n",
      " 2   high    90 non-null     float64\n",
      " 3   low     90 non-null     float64\n",
      " 4   value   90 non-null     float64\n",
      " 5   volume  90 non-null     float64\n",
      " 6   begin   90 non-null     object \n",
      " 7   end     90 non-null     object \n",
      "dtypes: float64(6), object(2)\n",
      "memory usage: 5.8+ KB\n"
     ]
    }
   ],
   "source": [
    "df.info()"
   ]
  },
  {
   "cell_type": "code",
   "execution_count": 6,
   "metadata": {},
   "outputs": [
    {
     "name": "stderr",
     "output_type": "stream",
     "text": [
      "/tmp/ipykernel_205571/2664549538.py:1: SettingWithCopyWarning: \n",
      "A value is trying to be set on a copy of a slice from a DataFrame.\n",
      "Try using .loc[row_indexer,col_indexer] = value instead\n",
      "\n",
      "See the caveats in the documentation: https://pandas.pydata.org/pandas-docs/stable/user_guide/indexing.html#returning-a-view-versus-a-copy\n",
      "  df.begin = pd.to_datetime(df.begin)\n"
     ]
    },
    {
     "data": {
      "text/plain": [
       "377   2023-07-28\n",
       "378   2023-07-31\n",
       "379   2023-08-01\n",
       "380   2023-08-02\n",
       "381   2023-08-03\n",
       "         ...    \n",
       "462   2023-11-24\n",
       "463   2023-11-27\n",
       "464   2023-11-28\n",
       "465   2023-11-29\n",
       "466   2023-11-30\n",
       "Name: begin, Length: 90, dtype: datetime64[ns]"
      ]
     },
     "execution_count": 6,
     "metadata": {},
     "output_type": "execute_result"
    }
   ],
   "source": [
    "df.begin = pd.to_datetime(df.begin)\n",
    "df.begin"
   ]
  },
  {
   "cell_type": "code",
   "execution_count": 7,
   "metadata": {},
   "outputs": [
    {
     "data": {
      "image/png": "[encoded data removed]",
      "text/plain": [
       "<Figure size 640x480 with 1 Axes>"
      ]
     },
     "metadata": {},
     "output_type": "display_data"
    }
   ],
   "source": [
    "df.close.hist(bins=20)\n",
    "plt.title('Гистограмма разброса теста')\n",
    "plt.show()"
   ]
  },
  {
   "cell_type": "code",
   "execution_count": 8,
   "metadata": {},
   "outputs": [
    {
     "name": "stdout",
     "output_type": "stream",
     "text": [
      "Минимум -  249.25 Максимум -  286.85\n"
     ]
    }
   ],
   "source": [
    "   print('Минимум - ', df.close.min(), 'Максимум - ', df.close.max()) "
   ]
  },
  {
   "cell_type": "code",
   "execution_count": 9,
   "metadata": {},
   "outputs": [
    {
     "data": {
      "image/png": "[encoded data removed]",
      "text/plain": [
       "<Figure size 640x480 with 1 Axes>"
      ]
     },
     "metadata": {},
     "output_type": "display_data"
    }
   ],
   "source": [
    "#график изменения котировок за период\n",
    "plt.plot(df.begin, df.close)\n",
    "plt.title('Кривая изменения цены')\n",
    "plt.xticks(rotation=30)\n",
    "plt.show()"
   ]
  },
  {
   "cell_type": "code",
   "execution_count": 10,
   "metadata": {},
   "outputs": [
    {
     "data": {
      "text/plain": [
       "(0, 249.25)"
      ]
     },
     "execution_count": 10,
     "metadata": {},
     "output_type": "execute_result"
    }
   ],
   "source": [
    "df.close.argmin(), df.close.min()"
   ]
  },
  {
   "cell_type": "code",
   "execution_count": 11,
   "metadata": {},
   "outputs": [
    {
     "data": {
      "text/plain": [
       "(85, 286.85)"
      ]
     },
     "execution_count": 11,
     "metadata": {},
     "output_type": "execute_result"
    }
   ],
   "source": [
    "df.close.argmax(), df.close.max()"
   ]
  },
  {
   "cell_type": "code",
   "execution_count": 12,
   "metadata": {},
   "outputs": [
    {
     "data": {
      "text/plain": [
       "open                   251.33\n",
       "close                   267.4\n",
       "high                   267.77\n",
       "low                    251.33\n",
       "value      43588329451.199997\n",
       "volume            167914420.0\n",
       "begin     2023-07-31 00:00:00\n",
       "end       2023-07-31 23:59:59\n",
       "Name: 378, dtype: object"
      ]
     },
     "execution_count": 12,
     "metadata": {},
     "output_type": "execute_result"
    }
   ],
   "source": [
    "df.iloc[1]"
   ]
  },
  {
   "cell_type": "code",
   "execution_count": 13,
   "metadata": {},
   "outputs": [
    {
     "data": {
      "text/plain": [
       "85"
      ]
     },
     "execution_count": 13,
     "metadata": {},
     "output_type": "execute_result"
    }
   ],
   "source": [
    "#проверка \n",
    "ind_delta = df.close.argmax() - df.close.argmin() if df.close.argmin() < df.close.argmax() else df.close.argmin() - df.close.argmax() \n",
    "ind_delta"
   ]
  },
  {
   "cell_type": "code",
   "execution_count": 14,
   "metadata": {},
   "outputs": [],
   "source": [
    "#определяет основные праметры тренда\n",
    "def trend_params(data, feature, current_price):\n",
    "    #храним тренд\n",
    "    trend = ''\n",
    "    \n",
    "    ind_min = data[feature].argmin()\n",
    "    price_min = data[feature].min() \n",
    "    ind_max = data[feature].argmax()\n",
    "    price_max = data[feature].max()\n",
    "\n",
    "    #храним дельту индексов макс и мин\n",
    "    ind_delta = ind_max - ind_min if ind_min < ind_max else ind_min - ind_max \n",
    "\n",
    "    #переменные хряншие цены поткртия и закрытия позиции\n",
    "    open_price = 0\n",
    "    close_price_50 = 0\n",
    "    close_price_75 = 0\n",
    "    close_price = 0\n",
    "    stop_loss = 0\n",
    "\n",
    "    # Если минимальный меньше макимального и больше либо равен 3, тренд растущий\n",
    "    if ind_min < ind_max:\n",
    "        if ind_delta >= 15:\n",
    "            trend = 'long'\n",
    "            open_price = current_price if current_price < price_min else price_min + (price_min * 1 / 100)   \n",
    "            close_price_50 = price_max - ((price_max - price_min) * 50 / 100)\n",
    "            close_price_75 = price_max - ((price_max - price_min) * 25 / 100)\n",
    "            close_price = price_max - ((price_max - price_min) * 10 / 100)\n",
    "            stop_loss = open_price - (open_price * 10 / 100)\n",
    "\n",
    "        #если менее 3 то считаем тренда нет\n",
    "        else:\n",
    "            trend = 'no trend'\n",
    "    #при падающем тренде условия такие же \n",
    "    else:\n",
    "        if ind_delta >= 15:\n",
    "            trend = 'short'\n",
    "            open_price = current_price if current_price > price_max else price_max - (price_max * 1 / 100)   \n",
    "            close_price_50 = price_min + ((price_max - price_min) * 50 / 100)\n",
    "            close_price_75 = price_min + ((price_max - price_min) * 25 / 100)\n",
    "            close_price = price_min + ((price_max - price_min) * 10 / 100)\n",
    "            stop_loss = open_price + (open_price * 10 / 100)\n",
    "        else:\n",
    "            trend = 'no trend'\n",
    "\n",
    "    return {\n",
    "        'trend' : trend,\n",
    "        'ind_delta' : ind_delta,\n",
    "        'ind_min' : ind_min,\n",
    "        'ind_max' : ind_max,\n",
    "        'open_price' : open_price,\n",
    "        'close_price_50' : close_price_50,\n",
    "        'close_price_75' : close_price_75,\n",
    "        'close_price' : close_price,\n",
    "        'stop_loss' : stop_loss\n",
    "        }\n",
    "\n",
    "    "
   ]
  },
  {
   "cell_type": "code",
   "execution_count": 15,
   "metadata": {},
   "outputs": [
    {
     "data": {
      "text/plain": [
       "{'trend': 'long',\n",
       " 'ind_delta': 85,\n",
       " 'ind_min': 0,\n",
       " 'ind_max': 85,\n",
       " 'open_price': 251.7425,\n",
       " 'close_price_50': 268.05,\n",
       " 'close_price_75': 277.45000000000005,\n",
       " 'close_price': 283.09000000000003,\n",
       " 'stop_loss': 226.56825}"
      ]
     },
     "execution_count": 15,
     "metadata": {},
     "output_type": "execute_result"
    }
   ],
   "source": [
    "params = trend_params(df, 'close', 253)\n",
    "params"
   ]
  },
  {
   "cell_type": "code",
   "execution_count": 16,
   "metadata": {},
   "outputs": [],
   "source": [
    "def get_results(\n",
    "    val_money, trend, ind_delta, \n",
    "    ind_min, ind_max, open_price, \n",
    "    close_price_50, close_price_75, \n",
    "    close_price, stop_loss):\n",
    "    \n",
    "    #количество акций\n",
    "    stocs = val_money // open_price\n",
    "\n",
    "    #на какую сумму куплены акции\n",
    "    stocs_sum_total = stocs * open_price\n",
    "\n",
    "    #количество акций после take profit\n",
    "    stocs_50 = stocs * 50 // 100\n",
    "    stocs_75 = stocs * 25 // 100\n",
    "    stocs_100 = stocs * 25 // 100\n",
    "\n",
    "    #прибыль с части take_profit \n",
    "    profit_50 = (stocs_50 * close_price_50) - (stocs_50 * open_price) \n",
    "\n",
    "    profit_75 = ((stocs_75 * close_price_75) - (stocs_75 * open_price)) + profit_50 \n",
    "\n",
    "    full_profit = ((stocs_100 * close_price) - (stocs_100 * open_price)) + profit_50 + profit_75\n",
    "    res_stop_loss = (stocs * stop_loss) - stocs_sum_total\n",
    "    res_stop_loss_50 = (stocs_50 * stop_loss) - (stocs_50 * open_price) + profit_50\n",
    "    res_stop_loss_75 = (stocs_75 * stop_loss) - (stocs_75 * open_price) + profit_50 + profit_75\n",
    "\n",
    "    if trend == 'short':\n",
    "        full_profit *= -1\n",
    "        res_stop_loss *= -1\n",
    "        res_stop_loss_50 *= -1\n",
    "        res_stop_loss_75 *= -1\n",
    "        \n",
    "    return {\n",
    "        'full_profit' : full_profit, \n",
    "        'res_stop_loss' : res_stop_loss, \n",
    "        'res_stop_loss_50' : res_stop_loss_50,\n",
    "        'res_stop_loss_75' : res_stop_loss_75}\n"
   ]
  },
  {
   "cell_type": "code",
   "execution_count": 17,
   "metadata": {},
   "outputs": [
    {
     "data": {
      "text/plain": [
       "{'full_profit': 60685.975000000035,\n",
       " 'res_stop_loss': -49996.06050000002,\n",
       " 'res_stop_loss_50': -8804.682750000007,\n",
       " 'res_stop_loss_75': 32651.18700000002}"
      ]
     },
     "execution_count": 17,
     "metadata": {},
     "output_type": "execute_result"
    }
   ],
   "source": [
    "res = get_results(500000, **params)\n",
    "res"
   ]
  },
  {
   "cell_type": "code",
   "execution_count": 18,
   "metadata": {},
   "outputs": [
    {
     "name": "stdout",
     "output_type": "stream",
     "text": [
      "Текущая цена покупку -  251.7425\n",
      "Определенный тренд -  long\n",
      "Цена закрытия в районе максимума-  283.09000000000003\n",
      "Расчет прибыли при срабатывании стратегии -  60685.975000000035\n",
      "Расчет результата при срабатывании до 50% и потом закрытии по стоп лоссу -  -8804.682750000007\n",
      "Расчет результата при срабатывании до 75% и потом закрытии по стоп лоссу -  32651.18700000002\n",
      "Расчет результата при стоп лоссе без фиксировании любой части прибыли -  -49996.06050000002\n"
     ]
    }
   ],
   "source": [
    "#итоговые показатели для инвестора\n",
    "print('Текущая цена покупку - ',  params['open_price'])\n",
    "print('Определенный тренд - ',  params['trend'])\n",
    "print('Цена закрытия в районе максимума- ',  params['close_price'])\n",
    "print('Расчет прибыли при срабатывании стратегии - ',  res['full_profit'])\n",
    "print('Расчет результата при срабатывании до 50% и потом закрытии по стоп лоссу - ',  res['res_stop_loss_50'])\n",
    "print('Расчет результата при срабатывании до 75% и потом закрытии по стоп лоссу - ',  res['res_stop_loss_75'])\n",
    "print('Расчет результата при стоп лоссе без фиксировании любой части прибыли - ',  res['res_stop_loss'])\n"
   ]
  },
  {
   "cell_type": "code",
   "execution_count": null,
   "metadata": {},
   "outputs": [],
   "source": []
  },
  {
   "cell_type": "code",
   "execution_count": 19,
   "metadata": {
    "scrolled": true
   },
   "outputs": [
    {
     "data": {
      "text/plain": [
       "{'trend': 'long',\n",
       " 'ind_delta': 85,\n",
       " 'ind_min': 0,\n",
       " 'ind_max': 85,\n",
       " 'open_price': 251.7425,\n",
       " 'close_price_50': 268.05,\n",
       " 'close_price_75': 277.45000000000005,\n",
       " 'close_price': 283.09000000000003,\n",
       " 'stop_loss': 226.56825}"
      ]
     },
     "execution_count": 19,
     "metadata": {},
     "output_type": "execute_result"
    }
   ],
   "source": [
    "params"
   ]
  },
  {
   "cell_type": "raw",
   "metadata": {},
   "source": [
    "def check_params(params_1, params_2):\n",
    "\n",
    "    if params_1['trend'] == params_1['trend']:\n",
    "        \n",
    "    "
   ]
  }
 ],
 "metadata": {
  "kernelspec": {
   "display_name": "Python 3 (ipykernel)",
   "language": "python",
   "name": "python3"
  },
  "language_info": {
   "codemirror_mode": {
    "name": "ipython",
    "version": 3
   },
   "file_extension": ".py",
   "mimetype": "text/x-python",
   "name": "python",
   "nbconvert_exporter": "python",
   "pygments_lexer": "ipython3",
   "version": "3.10.12"
  }
 },
 "nbformat": 4,
 "nbformat_minor": 4
}
