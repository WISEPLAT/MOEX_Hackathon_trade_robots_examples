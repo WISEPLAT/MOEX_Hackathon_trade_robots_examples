{
 "cells": [
  {
   "cell_type": "code",
   "execution_count": 1,
   "id": "76d7476c-9d5e-48d0-b291-66dff84a6e9d",
   "metadata": {},
   "outputs": [],
   "source": [
    "import backoff\n",
    "from typing import Any\n",
    "\n",
    "BACKOFF_CONFIG: dict[str, Any] = {'wait_gen': backoff.expo, 'exception': Exception, 'max_value': 8}\n",
    "\n",
    "class ClickhouseSettings:\n",
    "    NODES: str = 'clickhouse-node01:9000,clickhouse-node02:9000,clickhouse-node03:9000,clickhouse-node04:9000'\n",
    "    USER: str = 'user'\n",
    "    PASSWORD: str = 'password'\n",
    "\n",
    "class ClickhouseNode1:\n",
    "    HOST: str = 'clickhouse-node01'\n",
    "    PORT: int = 9000\n",
    "    USER: str = 'user'\n",
    "    PASSWORD: str = 'password'\n",
    "\n",
    "class ClickhouseNode2:\n",
    "    HOST: str = 'clickhouse-node02'\n",
    "    PORT: int = 9000\n",
    "    USER: str = 'user'\n",
    "    PASSWORD: str = 'password'\n",
    "\n",
    "class ClickhouseNode3:\n",
    "    HOST: str = 'clickhouse-node03'\n",
    "    PORT: int = 9000\n",
    "    USER: str = 'user'\n",
    "    PASSWORD: str = 'password'\n",
    "\n",
    "class ClickhouseNode4:\n",
    "    HOST: str = 'clickhouse-node04'\n",
    "    PORT: int = 9000\n",
    "    USER: str = 'user'\n",
    "    PASSWORD: str = 'password'\n",
    "\n",
    "CLICKHOUSE_CONFIG = ClickhouseSettings()\n",
    "NODES = [ClickhouseNode1(), ClickhouseNode2(), ClickhouseNode3(), ClickhouseNode4()]\n"
   ]
  },
  {
   "cell_type": "code",
   "execution_count": 2,
   "id": "20744ed6-78c5-4c40-b172-3ea1a5e4ce06",
   "metadata": {},
   "outputs": [],
   "source": [
    "clickhouse_url = f'jdbc:clickhouse://{NODES[0].HOST}:{NODES[0].PORT}'\n",
    "properties = {\n",
    "    'user': NODES[0].USER,\n",
    "    'password': NODES[0].PASSWORD,\n",
    "    'driver': 'com.github.housepower.jdbc.ClickHouseDriver'\n",
    "}"
   ]
  },
  {
   "cell_type": "code",
   "execution_count": null,
   "id": "34b4a431-7f14-4da6-98fe-4a538684031a",
   "metadata": {},
   "outputs": [],
   "source": [
    "from pyspark.sql import SparkSession\n",
    "\n",
    "appName='clickhouse_connector'\n",
    "spark = SparkSession \\\n",
    "    .builder \\\n",
    "    .appName(appName) \\\n",
    "    .master('spark://spark-master:7077') \\\n",
    "    .config('spark.jars', '/opt/clickhouse-native-jdbc-shaded-2.7.1.jar') \\\n",
    "    .getOrCreate()"
   ]
  },
  {
   "cell_type": "code",
   "execution_count": 6,
   "id": "3c29f508-7028-4397-9147-cfb67e19c99b",
   "metadata": {},
   "outputs": [],
   "source": [
    "query = 'SELECT * from default.candles ORDER BY begin DESC'\n",
    "d = spark.read.format(\"jdbc\") \\\n",
    "    .option('driver', properties.get('driver')) \\\n",
    "    .option('url', clickhouse_url) \\\n",
    "    .option('user', properties.get('user')) \\\n",
    "    .option('password',  properties.get('password')) \\\n",
    "    .option('query', query) \\\n",
    "    .load()"
   ]
  },
  {
   "cell_type": "code",
   "execution_count": 7,
   "id": "d0b6e2e7-43af-4d95-a744-7834997a64d7",
   "metadata": {},
   "outputs": [
    {
     "name": "stderr",
     "output_type": "stream",
     "text": [
      "                                                                                \r"
     ]
    },
    {
     "data": {
      "text/plain": [
       "[Row(id='0c0f3d29-16c0-4131-bef6-cfaf2045bf4a', secid='MTSS', open=251.65, close=251.65, high=251.65, low=251.65, value=27681.5, volume=110.0, begin=datetime.datetime(2023, 12, 7, 20, 49), end=datetime.datetime(2023, 12, 7, 20, 49, 59), created_at=datetime.datetime(2023, 12, 8, 1, 49, 54)),\n",
       " Row(id='7ac7522a-e495-41be-bd64-1c743168f920', secid='FLOT', open=121.88, close=121.88, high=121.88, low=121.76, value=135277.19999999995, volume=1110.0, begin=datetime.datetime(2023, 12, 7, 20, 49), end=datetime.datetime(2023, 12, 7, 20, 49, 59), created_at=datetime.datetime(2023, 12, 8, 1, 49, 54)),\n",
       " Row(id='8b3ecc1a-48a9-4d0b-b1a7-1c4e83095440', secid='PLZL', open=10593.5, close=10602.0, high=10604.0, low=10593.5, value=5841553.5, volume=551.0, begin=datetime.datetime(2023, 12, 7, 20, 49), end=datetime.datetime(2023, 12, 7, 20, 49, 59), created_at=datetime.datetime(2023, 12, 8, 1, 49, 54)),\n",
       " Row(id='d7fb26bc-c696-4a88-b0a8-a4eaa6da6557', secid='RUAL', open=35.98, close=36.0, high=36.0, low=35.97, value=20144.5, volume=560.0, begin=datetime.datetime(2023, 12, 7, 20, 49), end=datetime.datetime(2023, 12, 7, 20, 49, 59), created_at=datetime.datetime(2023, 12, 8, 1, 49, 54)),\n",
       " Row(id='5489bcbf-8e28-43e8-a86c-62b2fdc171e2', secid='QIWI', open=472.5, close=473.0, high=473.0, low=472.0, value=60893.0, volume=129.0, begin=datetime.datetime(2023, 12, 7, 20, 49), end=datetime.datetime(2023, 12, 7, 20, 49, 59), created_at=datetime.datetime(2023, 12, 8, 1, 49, 54)),\n",
       " Row(id='9c622555-78fa-44d5-a0b1-6a15fb205bf7', secid='OGKB', open=0.5424, close=0.5422, high=0.5424, low=0.5422, value=58027.4, volume=107000.0, begin=datetime.datetime(2023, 12, 7, 20, 49), end=datetime.datetime(2023, 12, 7, 20, 49, 59), created_at=datetime.datetime(2023, 12, 8, 1, 49, 54)),\n",
       " Row(id='82d823fb-27f2-4760-9ce6-53574b145210', secid='ENPG', open=449.6, close=449.8, high=449.8, low=449.6, value=22484.800000000003, volume=50.0, begin=datetime.datetime(2023, 12, 7, 20, 49), end=datetime.datetime(2023, 12, 7, 20, 49, 59), created_at=datetime.datetime(2023, 12, 8, 1, 49, 54)),\n",
       " Row(id='b7b3c988-9373-4b2e-9aaf-cd4417ac8b3e', secid='GMKN', open=16902.0, close=16912.0, high=16912.0, low=16902.0, value=625562.0, volume=37.0, begin=datetime.datetime(2023, 12, 7, 20, 49), end=datetime.datetime(2023, 12, 7, 20, 49, 59), created_at=datetime.datetime(2023, 12, 8, 1, 49, 54)),\n",
       " Row(id='318f096d-f241-4951-9a9b-21c02724473d', secid='POSI', open=2000.8, close=2000.6, high=2000.8, low=2000.6, value=12004.4, volume=6.0, begin=datetime.datetime(2023, 12, 7, 20, 49), end=datetime.datetime(2023, 12, 7, 20, 49, 59), created_at=datetime.datetime(2023, 12, 8, 1, 49, 54)),\n",
       " Row(id='5c4822a0-4384-4a0b-963c-187de4498529', secid='FIXP', open=287.0, close=287.1, high=287.1, low=287.0, value=28703.1, volume=100.0, begin=datetime.datetime(2023, 12, 7, 20, 49), end=datetime.datetime(2023, 12, 7, 20, 49, 59), created_at=datetime.datetime(2023, 12, 8, 1, 49, 54)),\n",
       " Row(id='967d9192-5988-4e6c-954f-c0a543f46a06', secid='ROSN', open=560.65, close=560.6, high=560.7, low=560.35, value=76223.2, volume=136.0, begin=datetime.datetime(2023, 12, 7, 20, 49), end=datetime.datetime(2023, 12, 7, 20, 49, 59), created_at=datetime.datetime(2023, 12, 8, 1, 49, 54)),\n",
       " Row(id='763876c2-4b13-461a-8932-a8822656b570', secid='PHOR', open=6661.0, close=6662.0, high=6662.0, low=6661.0, value=33306.0, volume=5.0, begin=datetime.datetime(2023, 12, 7, 20, 49), end=datetime.datetime(2023, 12, 7, 20, 49, 59), created_at=datetime.datetime(2023, 12, 8, 1, 49, 54)),\n",
       " Row(id='51179996-78f8-4009-87fd-af96b73c08d2', secid='TCSG', open=3109.0, close=3108.5, high=3109.5, low=3108.5, value=1010502.0, volume=325.0, begin=datetime.datetime(2023, 12, 7, 20, 49), end=datetime.datetime(2023, 12, 7, 20, 49, 59), created_at=datetime.datetime(2023, 12, 8, 1, 49, 54)),\n",
       " Row(id='77b3a4b8-42b3-43b4-83f8-43e9ee1e4715', secid='SGZH', open=3.958, close=3.958, high=3.959, low=3.958, value=119140.9, volume=30100.0, begin=datetime.datetime(2023, 12, 7, 20, 49), end=datetime.datetime(2023, 12, 7, 20, 49, 59), created_at=datetime.datetime(2023, 12, 8, 1, 49, 54)),\n",
       " Row(id='91c841cf-2088-4a5c-821c-6e1eec5aaea5', secid='PIKK', open=655.2, close=655.5, high=655.5, low=655.2, value=7210.2, volume=11.0, begin=datetime.datetime(2023, 12, 7, 20, 49), end=datetime.datetime(2023, 12, 7, 20, 49, 59), created_at=datetime.datetime(2023, 12, 8, 1, 49, 54))]"
      ]
     },
     "execution_count": 7,
     "metadata": {},
     "output_type": "execute_result"
    }
   ],
   "source": [
    "d.take(15)"
   ]
  },
  {
   "cell_type": "code",
   "execution_count": null,
   "id": "53a89556-a3ef-4793-8217-340f070bbfb9",
   "metadata": {},
   "outputs": [],
   "source": []
  }
 ],
 "metadata": {
  "kernelspec": {
   "display_name": "Python 3 (ipykernel)",
   "language": "python",
   "name": "python3"
  },
  "language_info": {
   "codemirror_mode": {
    "name": "ipython",
    "version": 3
   },
   "file_extension": ".py",
   "mimetype": "text/x-python",
   "name": "python",
   "nbconvert_exporter": "python",
   "pygments_lexer": "ipython3",
   "version": "3.11.6"
  }
 },
 "nbformat": 4,
 "nbformat_minor": 5
}
