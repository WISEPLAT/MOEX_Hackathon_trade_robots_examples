{
 "cells": [
  {
   "cell_type": "code",
   "execution_count": null,
   "metadata": {},
   "outputs": [],
   "source": [
    "class Config():\n",
    "    \n",
    "    def __init__(self):\n",
    "        \n",
    "        #Название торгового робота\n",
    "        self.robot_name = \"moex_robot_001\"\n",
    "\n",
    "        #МАРЖИНАЛЬНОЕ ПЛЕЧО: 1 - без маржинального плеча, 1.3 - плечо +30%\n",
    "        self.leverage = 1\n",
    "\n",
    "        #Определяем stop-loss (> 7-10%)\n",
    "        self.stop_loss = 1\n",
    "        \n",
    "        #портфель\n",
    "        self.portfel_reserv = 100 #Резерв портвеля (например под вывод среств)\n",
    "\n",
    "        #Число лотов\n",
    "        self.lots_count = 5\n",
    "\n",
    "        #Параметры телеграм робота и чата\n",
    "        self.token_tg_bot = 'aaaaaaaaaaaaaaaaaaaaaaaaaaaaaaaaaaaaaaaaaaaaaaaaaaa'\n",
    "        self.chat_id = '-aaaaaaaaaaaaaaaaaaaaaaaaaa'\n",
    "\n",
    "        #Ордера выставляются по рынку или лимированно?? False - по рынку; True - лимитирвоанно\n",
    "        self.order_limit_flag = True\n",
    "        \n",
    "        #Раз в сколько секунд обновляется выставленная цена лимитных ордеров??\n",
    "        self.update_limit_orders_time = 10 #Обновление лимитных ордеров 1 раз в 10 секунд\n",
    "        \n",
    "        #Флаг необходимости закрытия позиций в конце дня\n",
    "        self.close_end_day_flag = False\n",
    "        #Время в конце дня для закрытия позиций, в секундах\n",
    "        self.close_end_day_time = 3600\n",
    "        \n",
    "        #DB_config\n",
    "        self.db_host='127.0.0.1'\n",
    "        self.db_database='aaaaaaaaa'\n",
    "        self.db_user='aaaaaaaaa'\n",
    "        self.db_password='aaaaaaaaaa'\n",
    "        \n",
    "        #Параметры авторизации в торговом терминале MT5\n",
    "        self.login = 12345678\n",
    "        self.password = '12345678'\n",
    "        self.server = 'Just2Trade-MT5'\n",
    "        \n",
    "        #Постфикс тикеров SBER -> SBER.MM\n",
    "        #self.postfix = '.MM'\n",
    "        self.postfix = ''\n",
    "        \n",
    "        #id задачи по генерации сигналов\n",
    "        self.signals_task_id = 123\n",
    "        "
   ]
  }
 ],
 "metadata": {
  "kernelspec": {
   "display_name": "Python 3 (ipykernel)",
   "language": "python",
   "name": "python3"
  },
  "language_info": {
   "codemirror_mode": {
    "name": "ipython",
    "version": 3
   },
   "file_extension": ".py",
   "mimetype": "text/x-python",
   "name": "python",
   "nbconvert_exporter": "python",
   "pygments_lexer": "ipython3",
   "version": "3.10.8"
  }
 },
 "nbformat": 4,
 "nbformat_minor": 2
}
