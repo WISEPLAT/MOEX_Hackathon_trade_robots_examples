{
 "cells": [
  {
   "cell_type": "code",
   "execution_count": null,
   "metadata": {},
   "outputs": [],
   "source": [
    "class Config():\n",
    "    \n",
    "    def __init__(self):\n",
    "        \n",
    "        #DB_config\n",
    "        self.db_host='212.113.123.107'\n",
    "        self.db_database='default_db'\n",
    "        self.db_user='gen_user'\n",
    "        self.db_password='}P=KnQEN5!FB,('\n",
    "        self.port = 5432"
   ]
  }
 ],
 "metadata": {
  "kernelspec": {
   "display_name": "Python 3 (ipykernel)",
   "language": "python",
   "name": "python3"
  },
  "language_info": {
   "codemirror_mode": {
    "name": "ipython",
    "version": 3
   },
   "file_extension": ".py",
   "mimetype": "text/x-python",
   "name": "python",
   "nbconvert_exporter": "python",
   "pygments_lexer": "ipython3",
   "version": "3.10.8"
  }
 },
 "nbformat": 4,
 "nbformat_minor": 2
}
