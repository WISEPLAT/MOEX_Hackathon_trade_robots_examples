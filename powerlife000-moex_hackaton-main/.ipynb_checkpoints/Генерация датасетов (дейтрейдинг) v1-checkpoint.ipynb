{
 "cells": [
  {
   "cell_type": "markdown",
   "id": "80c828fe",
   "metadata": {},
   "source": [
    "# Импортируем библиотеки"
   ]
  },
  {
   "cell_type": "code",
   "execution_count": 2,
   "id": "b7e73a17",
   "metadata": {
    "scrolled": true
   },
   "outputs": [
    {
     "name": "stderr",
     "output_type": "stream",
     "text": [
      "C:\\Program Files\\Python310\\lib\\site-packages\\scipy\\__init__.py:177: UserWarning: A NumPy version >=1.18.5 and <1.26.0 is required for this version of SciPy (detected version 1.26.2\n",
      "  warnings.warn(f\"A NumPy version >={np_minversion} and <{np_maxversion}\"\n"
     ]
    }
   ],
   "source": [
    "import datetime\n",
    "import pytz\n",
    "import os\n",
    "from pathlib import Path\n",
    "\n",
    "import matplotlib.dates as mdates\n",
    "import matplotlib.pyplot as plt\n",
    "import base64\n",
    "import pandas as pd\n",
    "from matplotlib.dates import MONDAY, DateFormatter, DayLocator, WeekdayLocator\n",
    "\n",
    "import pandas_ta as ta\n",
    "import numpy as np\n",
    "\n",
    "import yfinance as yf\n",
    "import pickle\n",
    "\n",
    "from sklearn.model_selection import train_test_split"
   ]
  },
  {
   "cell_type": "code",
   "execution_count": 3,
   "id": "a677b781",
   "metadata": {},
   "outputs": [],
   "source": [
    "import json\n",
    "from moexalgo import Market, Ticker\n",
    "import io\n",
    "from PIL import Image\n",
    "import psycopg2"
   ]
  },
  {
   "cell_type": "code",
   "execution_count": 4,
   "id": "5b7c9f9d",
   "metadata": {},
   "outputs": [],
   "source": [
    "import warnings\n",
    "warnings.simplefilter(action='ignore', category=pd.errors.PerformanceWarning)"
   ]
  },
  {
   "cell_type": "code",
   "execution_count": 5,
   "id": "b0ad5333",
   "metadata": {},
   "outputs": [],
   "source": [
    "pd.options.mode.chained_assignment = None  # default='warn'"
   ]
  },
  {
   "cell_type": "code",
   "execution_count": 6,
   "id": "d2b359da",
   "metadata": {},
   "outputs": [],
   "source": [
    "#matplotlib qt"
   ]
  },
  {
   "cell_type": "markdown",
   "id": "c2915445",
   "metadata": {},
   "source": [
    "# Импортируем модули"
   ]
  },
  {
   "cell_type": "code",
   "execution_count": 7,
   "id": "10132406",
   "metadata": {},
   "outputs": [],
   "source": [
    "import sys\n",
    "import argparse"
   ]
  },
  {
   "cell_type": "code",
   "execution_count": 8,
   "id": "4d8899a8",
   "metadata": {},
   "outputs": [],
   "source": [
    "sys.path.insert(0, 'modules')"
   ]
  },
  {
   "cell_type": "code",
   "execution_count": 9,
   "id": "5c517873",
   "metadata": {},
   "outputs": [],
   "source": [
    "#Модули генерации датасета\n",
    "from date_filter import date_filter #Фильтрация данных по датам date_filter(quotes, filter_data_timezone, filter_data_start, filter_data_end)\n",
    "from show_quotes import show_quotes #Смотрим исходные данные show_quotes(quotes)\n",
    "from get_extrems import get_extrems #Получаем экстремумы get_extrems(dataset, delete_not_marking_data, count_points = 6)\n",
    "from show_quotes_with_trends import show_quotes_with_trends #Просмотр результатов разметки show_quotes_with_trends(quotes_with_extrems, show = False)\n",
    "from quotes_with_Y import quotes_with_Y#Разметка Y quotes_with_Y(quotes_with_extrems, extr_bar_count, Y_shift)\n",
    "from get_indicators import get_indicators #Получение индикаторов для котировок get_indicators(df, prefix = ':1d')\n",
    "from get_stoch_indicators import get_stoch_indicators#Обработка стохастика над индикаторами get_stoch_indicators(df, prefix = ':1d')\n",
    "from get_stoch_logic_data import get_stoch_logic_data#Генерация логического датасета над датасетом стохастика get_stoch_logic_data(df, prefix = ':1d')\n",
    "from norm_num_df import norm_num_df# Генерация нормализованного числового датасета norm_num_df(df, prefix = ':1d')\n",
    "from waves_dataset import waves_dataset#Генерация датасета по экстремумам waves_dataset(df, prefix = ':1d')\n",
    "from logic_dataset import logic_dataset#Генерация датасета на основании логических конструкций logic_dataset(df, prefix = ':1d')"
   ]
  },
  {
   "cell_type": "markdown",
   "id": "a7e2d100",
   "metadata": {},
   "source": [
    "# Параметры генерируемого датасета"
   ]
  },
  {
   "cell_type": "code",
   "execution_count": 10,
   "id": "f7caa753",
   "metadata": {},
   "outputs": [],
   "source": [
    "load_params_from_config_file = True #Загрузка параметров из файла\n",
    "load_params_from_command_line = False #Загрузка параметров из командной строки\n",
    "args = None\n",
    "\n",
    "try:\n",
    "    parser = argparse.ArgumentParser()\n",
    "    _ = parser.add_argument('--config_file', dest='config_file', action='store_true', help='Load config from file')\n",
    "    _ = parser.add_argument('--config_path', help='Path to config file: /app/cfg.json')\n",
    "    _ = parser.add_argument('--cmd_config', dest='cmd_config', action='store_true', help='Load config from cmd line')\n",
    "    _ = parser.add_argument('--task_id')\n",
    "    _ = parser.add_argument('--timeframe')\n",
    "    _ = parser.add_argument('--start_date')\n",
    "    _ = parser.add_argument('--end_date')\n",
    "    _ = parser.add_argument('--count_points')\n",
    "    _ = parser.add_argument('--extr_bar_count')\n",
    "    _ = parser.add_argument('--size_df')\n",
    "    _ = parser.add_argument('--max_unmark')\n",
    "    _ = parser.add_argument('--data_path')\n",
    "    args, unknown = parser.parse_known_args()\n",
    "    \n",
    "    if args.config_file:\n",
    "        load_params_from_config_file = True\n",
    "        load_params_from_command_line = False\n",
    "    \n",
    "    if args.cmd_config:\n",
    "            load_params_from_config_file = False\n",
    "            load_params_from_command_line = True\n",
    "except:\n",
    "    print(\"Ошибка парсинга параметров из командной строки\")"
   ]
  },
  {
   "cell_type": "code",
   "execution_count": 11,
   "id": "345acd21",
   "metadata": {},
   "outputs": [],
   "source": [
    "if load_params_from_config_file:\n",
    "    #Если есть параметры командной строки\n",
    "    if args:\n",
    "        #Если указан путь к конфигу\n",
    "        if args.config_path:\n",
    "            with open(config_path, 'r', encoding='utf_8') as cfg:\n",
    "                temp_data=cfg.read()\n",
    "        else:\n",
    "            with open('app/configs/1D/data_gen.json', 'r', encoding='utf_8') as cfg:\n",
    "                temp_data=cfg.read()\n",
    "\n",
    "    # parse file\n",
    "    config = json.loads(temp_data)\n",
    "    \n",
    "    task_id = str(config['task_id'])\n",
    "    interval = config['timeframe']\n",
    "    start_date = config['start_date'] #Начальная дата датасета\n",
    "    end_date = config['end_date'] #Конечная дата датасета\n",
    "    count_points = config['count_points'] #Параметр разметки экстремумов\n",
    "    #Сколько размечаем баров начиная с точки экстремума\n",
    "    extr_bar_count = config['extr_bar_count']\n",
    "    #Ограничения размера файла в Гигабайтах\n",
    "    size_df = config['size_df']\n",
    "    #Максимальное количество конечных баров волны в %, которые не размечаем\n",
    "    max_unmark = config['max_unmark']\n",
    "    #Путь для сохранения генерируемых данных\n",
    "    data_path = config['data_path'] #Путь должен быть без чёрточки в конце\n",
    "    \n",
    "if load_params_from_command_line:\n",
    "    task_id = str(args.task_id)\n",
    "    interval = str(args.timeframe)\n",
    "    start_date = str(args.start_date)\n",
    "    end_date = str(args.end_date) \n",
    "    count_points = int(args.count_points)\n",
    "    extr_bar_count = int(args.extr_bar_count) \n",
    "    size_df = int(args.size_df) \n",
    "    max_unmark = float(args.max_unmark) \n",
    "    data_path = str(args.data_path) \n",
    "\n",
    "Y_shift = 0"
   ]
  },
  {
   "cell_type": "code",
   "execution_count": null,
   "id": "9ee87a2c",
   "metadata": {},
   "outputs": [],
   "source": []
  },
  {
   "cell_type": "code",
   "execution_count": null,
   "id": "6835a7ab",
   "metadata": {},
   "outputs": [],
   "source": []
  },
  {
   "cell_type": "code",
   "execution_count": 12,
   "id": "d696ee65",
   "metadata": {},
   "outputs": [],
   "source": [
    "#Смещение категориальных признаков разметки\n",
    "Y_shift = 1\n",
    "\n",
    "#Флаг необходимости формирования трендовых признаков\n",
    "lag_flag = True\n",
    "\n",
    "#Число баров, которые мы кладём в датасет для формирования признаков трендовости\n",
    "#Число включает начальный бар без лага, то есть из 6: 1 - начальный + 5 лаговые\n",
    "#lag_count = 6 #(default)\n",
    "lag_count = 0\n",
    "\n",
    "#Дописывать данные (False) или заново записать датасет (True)\n",
    "new_df = False\n",
    "\n",
    "#Флаг наличия ограничений генерируемых датасетов по размеру\n",
    "size_flag = True\n",
    "\n",
    "#Флаг необходимости удаления не размеченных данных\n",
    "delete_not_marking_data = True"
   ]
  },
  {
   "cell_type": "code",
   "execution_count": 13,
   "id": "f7f1d0f4",
   "metadata": {},
   "outputs": [],
   "source": [
    "def plt_to_png(graph):\n",
    "    buffer = io.BytesIO()\n",
    "    graph.savefig(buffer, format='png')\n",
    "    buffer.seek(0)\n",
    "    image_png = buffer.getvalue()\n",
    "    buffer.close()\n",
    "    graphic = base64.b64encode(image_png)\n",
    "    graphic = graphic.decode('utf-8')\n",
    "    graph.close()\n",
    "\n",
    "    return graphic"
   ]
  },
  {
   "cell_type": "code",
   "execution_count": 14,
   "id": "c97a086e",
   "metadata": {},
   "outputs": [],
   "source": [
    "def main (ticker):\n",
    "    \n",
    "    #КОТИРОВКИ!\n",
    "    #Получаем дневные данные\n",
    "#     quotes_1d_temp=yf.Ticker(ticker)\n",
    "#     quotes_1d=quotes_1d_temp.history(\n",
    "#         interval = \"1d\",# valid intervals: 1m,2m,5m,15m,30m,60m,90m,1h,1d,5d,1wk,1mo,3mo\n",
    "#         period=\"max\"\n",
    "#     ) #  1d, 5d, 1mo, 3mo, 6mo, 1y, 2y, 5y, 10y, ytd, max\n",
    "#     quotes_1d = quotes_1d.dropna()\n",
    "#     quotes_1d.index = quotes_1d.index.tz_localize(None)\n",
    "#     quotes_1d.sort_index(ascending=True, inplace = True)\n",
    "#     quotes_1d.index.name = \"Datetime\"\n",
    "\n",
    "    # Акции\n",
    "    quotes_temp = Ticker(ticker)\n",
    "    # Свечи по акциям за период\n",
    "    quotes_1d = quotes_temp.candles(date = start_date, till_date = end_date, period=interval)\n",
    "    #quotes_1d.head()\n",
    "    quotes_1d = pd.DataFrame(quotes_1d)\n",
    "    \n",
    "    quotes_1d.rename(\n",
    "        columns = {\n",
    "            'begin' : 'Datetime',\n",
    "            'open' : 'Open',\n",
    "            'close' : 'Close',\n",
    "            'high' : 'High',\n",
    "            'low' : 'Low',\n",
    "            'volume' : 'Volume'\n",
    "        }, inplace = True\n",
    "    )\n",
    "    quotes_1d.index = quotes_1d['Datetime']\n",
    "    quotes_1d.sort_index(ascending=True, inplace = True)\n",
    "\n",
    "#     #Фильтруем данные\n",
    "#     if data_filter_flag:\n",
    "#         quotes_1d = date_filter(quotes_1d, filter_data_timezone, filter_data_start, filter_data_end)\n",
    "\n",
    "    #Получаем экстремумы по дневному графику\n",
    "    print('Получаем экстремумы по дневному графику')\n",
    "    quotes_1d_with_extrems = get_extrems(quotes_1d, delete_not_marking_data, count_points = count_points)\n",
    "\n",
    "    #Размечаем Y по дневному графику\n",
    "    quotes_1d_with_Y = quotes_with_Y(quotes_1d_with_extrems, extr_bar_count, Y_shift, max_unmark = max_unmark)\n",
    "\n",
    "    #Очищаем не размеченные данные\n",
    "    quotes_1d_with_Y = quotes_1d_with_Y.dropna(subset = ['Y'])\n",
    "\n",
    "    #Получаем данные индикаторов котировок дневного датафрейма\n",
    "    quotes_1d_indicators = get_indicators(quotes_1d_with_Y, prefix = ':5m')\n",
    "\n",
    "    #Получаем stoch датасет для котировок дневного таймфрейма\n",
    "    stoch_quotes_1d_dataset = get_stoch_indicators(quotes_1d_indicators, prefix = ':5m')\n",
    "\n",
    "    #Получаем датасет логики над стохастиком для котировок дневного таймфрейма\n",
    "    stoch_logic_quotes_1d_dataset = get_stoch_logic_data(stoch_quotes_1d_dataset, prefix = ':5m')\n",
    "    \n",
    "    #Получаем нормализованный числовой датасет для котировок дневного таймфрейма\n",
    "    norm_num_dataset_quotes_1d = norm_num_df(quotes_1d_indicators, prefix = ':5m')\n",
    "\n",
    "    #Свечной анализ\n",
    "    cdl_dataset_quotes_1d = quotes_1d.ta.cdl_pattern(name=\"all\")\n",
    "\n",
    "    #Датасет волн\n",
    "    waves_dataset_quotes_1d =  waves_dataset(quotes_1d_indicators, prefix = ':5m')\n",
    "\n",
    "    #Логический датасет\n",
    "    logic_dataset_quotes_1d =  logic_dataset(quotes_1d_indicators, prefix = ':5m')\n",
    "    \n",
    "    #Собираем датасеты\n",
    "    num_logic_df = pd.DataFrame()\n",
    "    \n",
    "    #Формируем индекс по древным котировкам\n",
    "    num_logic_df.index = quotes_1d.index\n",
    "    \n",
    "    #Инициализируем поля\n",
    "    num_logic_df['Close'] = quotes_1d_with_Y['Close']\n",
    "    num_logic_df['Y'] = quotes_1d_with_Y['Y']\n",
    "    \n",
    "    \n",
    "    #Джойним датасеты\n",
    "    num_logic_df = num_logic_df.join(norm_num_dataset_quotes_1d, lsuffix='_left_num_qout_5m', rsuffix='_right_num_qout_5m')#Нормализованные дневные котировки\n",
    "    \n",
    "    num_logic_df = num_logic_df.join(waves_dataset_quotes_1d, lsuffix='_left_num_qout_5m', rsuffix='_right_num_qout_5m')\n",
    "    \n",
    "    num_logic_df = num_logic_df.join(cdl_dataset_quotes_1d, lsuffix='_left_num_qout_5m', rsuffix='_right_num_qout_5m')\n",
    "    \n",
    "    num_logic_df = num_logic_df.join(stoch_quotes_1d_dataset, lsuffix='_left_stoch_qout_5m', rsuffix='_right_stoch_qout_5m')\n",
    "    \n",
    "    num_logic_df = num_logic_df.join(stoch_logic_quotes_1d_dataset, lsuffix='_left_stoch_qout_5m', rsuffix='_right_stoch_qout_5m')\n",
    "    \n",
    "    num_logic_df = num_logic_df.join(logic_dataset_quotes_1d, lsuffix='_left_logic_qout_5m', rsuffix='_right_logic_qout_5m')\n",
    "    \n",
    "    \n",
    "    #Заполняем пустые ячейки предыдущими значениями\n",
    "    num_logic_df = num_logic_df.fillna(method=\"ffill\")\n",
    "     \n",
    "    #Добавляем лаги\n",
    "    #num_df\n",
    "    columns = num_logic_df.columns.values   \n",
    "    for col in columns:\n",
    "        if col not in ['Close', 'Y']:\n",
    "            try:\n",
    "                for i in range(1,lag_count):\n",
    "                    num_logic_df[col+'shift_'+str(i)] = num_logic_df[col].copy(deep = True).shift(i)\n",
    "            except:\n",
    "                #print(\"Ошибка добавления лага в колонке: \", col)\n",
    "                pass\n",
    "    \n",
    "    \n",
    "    #Чистим от пустых значений\n",
    "    num_logic_df = num_logic_df.dropna()\n",
    "    \n",
    "    #Конвертируем индексы\n",
    "    num_logic_df.index = num_logic_df.index.astype(int)\n",
    "    \n",
    "    #Разбиваем датасеты\n",
    "    num_logic_df_train, num_logic_df_test = train_test_split(num_logic_df, test_size=0.1, shuffle=False)\n",
    "    \n",
    "    #Записываем датасеты\n",
    "    print(\"Записываем датасеты: \", ticker)\n",
    "    #Проверяем на существование Если не существуют то записываем первый раз с заголовком\n",
    "    #Если существуют до дописываем без заголовка\n",
    "    if not os.path.exists(data_path+\"/num_logic_1d_1w_train.csv\"):\n",
    "        num_logic_df_train.to_csv(data_path+\"/num_logic_1d_1w_train.csv\")\n",
    "    else:\n",
    "        num_logic_df_train.to_csv(data_path+\"/num_logic_1d_1w_train.csv\", mode='a', header= False)\n",
    "    \n",
    "    if not os.path.exists(\"app/data/num_logic_1d_1w_test.csv\"):\n",
    "        num_logic_df_test.to_csv(data_path+\"/num_logic_1d_1w_test.csv\")\n",
    "    else:\n",
    "        num_logic_df_test.to_csv(data_path+\"/num_logic_1d_1w_test.csv\", mode='a', header= False)"
   ]
  },
  {
   "cell_type": "code",
   "execution_count": 15,
   "id": "f37df652",
   "metadata": {},
   "outputs": [],
   "source": [
    "#main('SBER')\n",
    "#main('ABIO')"
   ]
  },
  {
   "cell_type": "markdown",
   "id": "754882e7",
   "metadata": {},
   "source": [
    "# Проверяем контрольную точку продолжения генерации датасетов"
   ]
  },
  {
   "cell_type": "code",
   "execution_count": 16,
   "id": "52648857",
   "metadata": {},
   "outputs": [],
   "source": [
    "def check_size():\n",
    "    #Проверяем наличие датасетов\n",
    "    folder = Path(data_path)\n",
    "    if os.path.exists(data_path):\n",
    "        if sum(1 for x in folder.iterdir()) > 0:\n",
    "            #Проверяем ограничения на размер файла\n",
    "            if size_flag:\n",
    "                size_arr = []\n",
    "                try:\n",
    "                    size_arr.append(os.path.getsize(data_path+\"/num_logic_1d_1w_train.csv\")/(1024*1024*1024))\n",
    "                except:\n",
    "                    size_arr.append(0)\n",
    "\n",
    "                max_size_df = max(size_arr)\n",
    "\n",
    "                if max_size_df > size_df:\n",
    "                    print (\"Достигнут предел по размеру датасетов\")\n",
    "                    return False\n",
    "                else:\n",
    "                    return True\n",
    "                \n",
    "        else:\n",
    "            return True\n",
    "            \n",
    "    else:\n",
    "        os.mkdir(data_path)\n",
    "        return True"
   ]
  },
  {
   "cell_type": "code",
   "execution_count": null,
   "id": "9f53f879",
   "metadata": {},
   "outputs": [],
   "source": []
  },
  {
   "cell_type": "code",
   "execution_count": 17,
   "id": "8aba69f4",
   "metadata": {},
   "outputs": [],
   "source": [
    "#Проверяем наличие датасетов\n",
    "folder = Path(data_path)\n",
    "if os.path.exists(data_path):\n",
    "    if sum(1 for x in folder.iterdir()) > 0:\n",
    "        #Проверяем ограничения на размер файла\n",
    "        if size_flag:\n",
    "            size_arr = []\n",
    "            try:\n",
    "                size_arr.append(os.path.getsize(data_path+\"/num_logic_1d_1w_train.csv\")/(1024*1024*1024))\n",
    "            except:\n",
    "                size_arr.append(0)\n",
    "            \n",
    "            max_size_df = max(size_arr)\n",
    "            \n",
    "            if max_size_df > size_df:\n",
    "                list_flag = False\n",
    "                print (\"Достигнут предел по размеру датасетов\")\n",
    "        \n",
    "        #Пытаемся загрузить последний тикер генерации датасета\n",
    "        try:\n",
    "            with open('save/last_ticker.pickle', 'rb') as f:\n",
    "                last_ticker = pickle.load(f)\n",
    "        except:\n",
    "            print(\"Отсутствуют данные сохранения\")\n",
    "else:\n",
    "    os.mkdir(\"app/data\")"
   ]
  },
  {
   "cell_type": "markdown",
   "id": "d6a8be67",
   "metadata": {},
   "source": [
    "# Загружаем список для генерации"
   ]
  },
  {
   "cell_type": "code",
   "execution_count": 25,
   "id": "ac5bc1be",
   "metadata": {},
   "outputs": [
    {
     "name": "stdout",
     "output_type": "stream",
     "text": [
      "Index(['ticker', 'tradedate', 'tradetime', 'pr_open', 'pr_high', 'pr_low',\n",
      "       'pr_close', 'pr_std', 'vol', 'val', 'trades', 'pr_vwap', 'pr_change',\n",
      "       'trades_b', 'trades_s', 'val_b', 'val_s', 'vol_b', 'vol_s', 'disb',\n",
      "       'pr_vwap_b', 'pr_vwap_s', 'systime'],\n",
      "      dtype='object')\n",
      "      ticker   tradedate tradetime   pr_open   pr_high    pr_low  pr_close  \\\n",
      "0       ABIO  2023-10-10  10:05:00   119.520   119.800   114.000   117.380   \n",
      "1       ABRD  2023-10-10  10:05:00   305.600   307.400   305.600   306.600   \n",
      "2       AFKS  2023-10-10  10:05:00    17.601    17.606    17.501    17.511   \n",
      "3       AFLT  2023-10-10  10:05:00    40.560    40.590    40.470    40.550   \n",
      "4       AGRO  2023-10-10  10:05:00  1200.000  1209.600  1200.000  1209.600   \n",
      "...      ...         ...       ...       ...       ...       ...       ...   \n",
      "19183   YNDX  2023-10-10  18:40:00  2493.600  2497.800  2490.800  2495.800   \n",
      "19184   YRSB  2023-10-10  18:40:00  1406.000  1406.000  1394.000  1394.000   \n",
      "19185  YRSBP  2023-10-10  18:40:00   413.000   413.000   405.000   405.000   \n",
      "19186   ZILL  2023-10-10  18:40:00  3515.000  3515.000  3510.000  3510.000   \n",
      "19187   ZVEZ  2023-10-10  18:40:00    16.175    16.175    16.175    16.175   \n",
      "\n",
      "       pr_std    vol         val  ...  trades_b  trades_s       val_b  \\\n",
      "0      0.0017  45904  53480659.0  ...       647       790  26741563.0   \n",
      "1      0.0007    480   1471600.0  ...        36        13   1141020.0   \n",
      "2      0.0003  10943  19184629.0  ...       206       152   5859774.0   \n",
      "3      0.0004   4517   1830400.0  ...       139        46   1352553.0   \n",
      "4      0.0004   5834   7036248.0  ...       265        60   5784024.0   \n",
      "...       ...    ...         ...  ...       ...       ...         ...   \n",
      "19183  0.0002   7295  18195830.0  ...       119       117   8701364.0   \n",
      "19184     NaN      2     28000.0  ...         1         1     14060.0   \n",
      "19185  0.0068      3     12250.0  ...         1         2      4130.0   \n",
      "19186     NaN      3     10535.0  ...         0         2         0.0   \n",
      "19187     NaN      2     32350.0  ...         0         2         0.0   \n",
      "\n",
      "            val_s  vol_b  vol_s  disb  pr_vwap_b  pr_vwap_s  \\\n",
      "0      26739095.0  22932  22972  0.00    116.610    116.400   \n",
      "1        330580.0    372    108  0.55    306.700    306.100   \n",
      "2      13324855.0   3341   7602 -0.39     17.539     17.528   \n",
      "3        477847.0   3337   1180  0.48     40.530     40.500   \n",
      "4       1252224.0   4795   1039  0.64   1206.300   1205.200   \n",
      "...           ...    ...    ...   ...        ...        ...   \n",
      "19183   9494466.0   3487   3808 -0.04   2495.400   2493.300   \n",
      "19184     13940.0      1      1  0.00   1406.000   1394.000   \n",
      "19185      8120.0      1      2 -0.33    413.000    406.000   \n",
      "19186     10535.0      0      3 -1.00        NaN   3512.000   \n",
      "19187     32350.0      0      2 -1.00        NaN     16.175   \n",
      "\n",
      "                  systime  \n",
      "0     2023-10-26 15:44:37  \n",
      "1     2023-10-26 15:44:37  \n",
      "2     2023-10-26 15:44:37  \n",
      "3     2023-10-26 15:44:37  \n",
      "4     2023-10-26 15:44:37  \n",
      "...                   ...  \n",
      "19183 2023-10-26 15:45:39  \n",
      "19184 2023-10-26 15:45:39  \n",
      "19185 2023-10-26 15:45:39  \n",
      "19186 2023-10-26 15:45:39  \n",
      "19187 2023-10-26 15:45:39  \n",
      "\n",
      "[19188 rows x 23 columns]\n",
      "['SBER' 'LKOH' 'GECO' 'GAZP' 'NVTK' 'MTLR' 'BSPB' 'ALRS' 'TATN' 'YNDX'\n",
      " 'SNGSP' 'ROSN' 'VTBR' 'MGNT' 'NLMK' 'BANEP' 'TRNFP' 'TCSG' 'AGRO' 'RASP'\n",
      " 'UNAC' 'RENI' 'SNGS' 'PLZL' 'OZON' 'MOEX' 'GMKN' 'SBERP' 'IRKT' 'PHOR'\n",
      " 'AFKS' 'SIBN' 'TATNP' 'BELU' 'CHMF' 'POLY' 'FIVE' 'FLOT' 'SOFL' 'MAGN'\n",
      " 'POSI' 'ABIO' 'MTSS' 'TRMK' 'MTLRP' 'FIXP' 'RUAL' 'LSNG' 'DVEC' 'RTKM'\n",
      " 'ROLO' 'FEES' 'AFLT' 'FESH' 'LIFE' 'NMTP' 'SGZH' 'SMLT' 'HYDR' 'SVAV'\n",
      " 'RNFT' 'IRAO' 'PIKK' 'SELG' 'UPRO' 'GTRK' 'ABRD' 'LSRG' 'RTKMP' 'OGKB'\n",
      " 'CBOM' 'LNZLP' 'NKHP' 'SPBE' 'LNZL' 'HHRU' 'BANE' 'AMEZ' 'APTK' 'QIWI'\n",
      " 'MRKZ' 'AVAN' 'AQUA' 'ETLN' 'ELFV' 'GLTR' 'AKRN' 'MSNG' 'WUSH' 'KMAZ'\n",
      " 'KROT' 'TGKA' 'ENPG' 'GCHE' 'CHMK' 'NSVZ' 'VSMO' 'CIAN' 'MSRS' 'UCSS'\n",
      " 'RUSI' 'BLNG' 'LSNGP' 'BSPBP' 'MRKP' 'OKEY' 'DSKY' 'MGTSP' 'UNKL' 'MSTT'\n",
      " 'TGKB' 'MRKS' 'MRKC' 'CARM' 'DZRDP' 'MRKY' 'TGKN' 'TTLK' 'MDMG' 'PRFN'\n",
      " 'NKNCP' 'MVID' 'YAKG' 'CNTLP' 'MRKV' 'KRKNP' 'KLSB' 'PMSB' 'ZVEZ' 'SFIN'\n",
      " 'KZOSP' 'INGR' 'VRSB' 'GEMC' 'KUBE' 'LVHK' 'RBCM' 'KAZT' 'CNTL' 'KMEZ'\n",
      " 'MRSB' 'MRKU' 'SVET' 'RKKE' 'LENT' 'PMSBP' 'GAZA' 'BISVP' 'TGKBP' 'TUZA'\n",
      " 'DZRD' 'VEON-RX' 'RGSS' 'NKNC' 'ASSB' 'HIMCP' 'KZOS' 'YKEN' 'PAZA' 'MFGS'\n",
      " 'KRKOP' 'MFGSP' 'KAZTP' 'RTSB' 'URKZ' 'VGSB' 'NFAZ' 'NKSH' 'SLEN' 'IGST'\n",
      " 'CHKZ' 'RTSBP' 'DIOD' 'MAGE' 'GAZAP' 'ROST' 'VLHZ' 'YKENP' 'KBSB' 'JNOSP'\n",
      " 'GEMA' 'UTAR' 'BRZL' 'VSYD' 'VJGZP' 'ROSB' 'EELT' 'STSBP' 'IGSTP' 'MRKK'\n",
      " 'RDRB' 'NAUK' 'VRSBP' 'KMTZ' 'CHGZ' 'VSYDP' 'TORS' 'STSB' 'KUZB' 'ELTZ'\n",
      " 'TNSE' 'USBN' 'MISBP' 'KCHEP' 'ZILL' 'YRSBP' 'UKUZ' 'TASB' 'ARSA' 'KROTP'\n",
      " 'SARE' 'KOGK' 'KTSB' 'KRSB' 'OMZZP' 'KCHE' 'MISB' 'SAGO' 'VJGZ' 'RTGZ'\n",
      " 'TASBP' 'MAGEP' 'HMSG' 'KTSBP' 'VGSBP' 'YRSB' 'TORSP' 'PRMB' 'RZSB'\n",
      " 'WTCM' 'KGKCP' 'JNOS' 'NNSB' 'KRSBP' 'SAREP' 'WTCMP' 'MGTS' 'KRKN'\n",
      " 'SAGOP' 'KGKC' 'NNSBP']\n"
     ]
    }
   ],
   "source": [
    "stocks = Market('stocks')\n",
    "\n",
    "tickers_list_temp = stocks.tradestats(date='2023-10-10')\n",
    "tickers_list = pd.DataFrame(tickers_list_temp).rename(\n",
    "    columns = {\n",
    "        'secid': 'ticker'\n",
    "    }\n",
    ")\n",
    "tickers_list = tickers_list.groupby('ticker').agg(\n",
    "    {\n",
    "        'val': 'sum'\n",
    "    }\n",
    ").sort_values(by = ['val'], ascending = False).reset_index()['ticker'].values"
   ]
  },
  {
   "cell_type": "markdown",
   "id": "e588ab3f",
   "metadata": {},
   "source": [
    "# Генерируем датасеты"
   ]
  },
  {
   "cell_type": "code",
   "execution_count": 20,
   "id": "711519d5",
   "metadata": {
    "scrolled": true
   },
   "outputs": [
    {
     "name": "stdout",
     "output_type": "stream",
     "text": [
      "SBER\n",
      "Начало обработки нового тикера:  SBER\n",
      "Получаем экстремумы по дневному графику\n",
      "Общее число данных графика для обработки:  4090\n"
     ]
    },
    {
     "name": "stderr",
     "output_type": "stream",
     "text": [
      "C:\\Users\\Adimin\\AppData\\Local\\Temp\\ipykernel_131648\\2737466279.py:114: FutureWarning: The behavior of .astype from datetime64[ns] to int32 is deprecated. In a future version, this astype will return exactly the specified dtype instead of int64, and will raise if that conversion overflows.\n",
      "  num_logic_df.index = num_logic_df.index.astype(int)\n"
     ]
    },
    {
     "name": "stdout",
     "output_type": "stream",
     "text": [
      "Записываем датасеты:  SBER\n",
      "LKOH\n",
      "Начало обработки нового тикера:  LKOH\n",
      "Получаем экстремумы по дневному графику\n",
      "Общее число данных графика для обработки:  4223\n"
     ]
    },
    {
     "name": "stderr",
     "output_type": "stream",
     "text": [
      "C:\\Users\\Adimin\\AppData\\Local\\Temp\\ipykernel_131648\\2737466279.py:114: FutureWarning: The behavior of .astype from datetime64[ns] to int32 is deprecated. In a future version, this astype will return exactly the specified dtype instead of int64, and will raise if that conversion overflows.\n",
      "  num_logic_df.index = num_logic_df.index.astype(int)\n"
     ]
    },
    {
     "name": "stdout",
     "output_type": "stream",
     "text": [
      "Записываем датасеты:  LKOH\n",
      "GECO\n",
      "Начало обработки нового тикера:  GECO\n",
      "Получаем экстремумы по дневному графику\n",
      "Общее число данных графика для обработки:  150\n",
      "stoch: indicator | EMA_89  k|  50  d|  3   'NoneType' object has no attribute 'name'\n"
     ]
    },
    {
     "name": "stderr",
     "output_type": "stream",
     "text": [
      "C:\\Users\\Adimin\\AppData\\Local\\Temp\\ipykernel_131648\\2737466279.py:114: FutureWarning: The behavior of .astype from datetime64[ns] to int32 is deprecated. In a future version, this astype will return exactly the specified dtype instead of int64, and will raise if that conversion overflows.\n",
      "  num_logic_df.index = num_logic_df.index.astype(int)\n"
     ]
    },
    {
     "name": "stdout",
     "output_type": "stream",
     "text": [
      "Ошибка генерации датасета:  GECO\n",
      "GAZP\n",
      "Начало обработки нового тикера:  GAZP\n",
      "Получаем экстремумы по дневному графику\n",
      "Общее число данных графика для обработки:  2372\n"
     ]
    },
    {
     "name": "stderr",
     "output_type": "stream",
     "text": [
      "C:\\Users\\Adimin\\AppData\\Local\\Temp\\ipykernel_131648\\2737466279.py:114: FutureWarning: The behavior of .astype from datetime64[ns] to int32 is deprecated. In a future version, this astype will return exactly the specified dtype instead of int64, and will raise if that conversion overflows.\n",
      "  num_logic_df.index = num_logic_df.index.astype(int)\n"
     ]
    },
    {
     "name": "stdout",
     "output_type": "stream",
     "text": [
      "Записываем датасеты:  GAZP\n",
      "NVTK\n",
      "Начало обработки нового тикера:  NVTK\n",
      "Получаем экстремумы по дневному графику\n",
      "Общее число данных графика для обработки:  3538\n"
     ]
    },
    {
     "name": "stderr",
     "output_type": "stream",
     "text": [
      "C:\\Users\\Adimin\\AppData\\Local\\Temp\\ipykernel_131648\\2737466279.py:114: FutureWarning: The behavior of .astype from datetime64[ns] to int32 is deprecated. In a future version, this astype will return exactly the specified dtype instead of int64, and will raise if that conversion overflows.\n",
      "  num_logic_df.index = num_logic_df.index.astype(int)\n"
     ]
    },
    {
     "name": "stdout",
     "output_type": "stream",
     "text": [
      "Записываем датасеты:  NVTK\n",
      "MTLR\n",
      "Начало обработки нового тикера:  MTLR\n",
      "Получаем экстремумы по дневному графику\n",
      "Общее число данных графика для обработки:  3679\n"
     ]
    },
    {
     "name": "stderr",
     "output_type": "stream",
     "text": [
      "C:\\Users\\Adimin\\AppData\\Local\\Temp\\ipykernel_131648\\2737466279.py:114: FutureWarning: The behavior of .astype from datetime64[ns] to int32 is deprecated. In a future version, this astype will return exactly the specified dtype instead of int64, and will raise if that conversion overflows.\n",
      "  num_logic_df.index = num_logic_df.index.astype(int)\n"
     ]
    },
    {
     "name": "stdout",
     "output_type": "stream",
     "text": [
      "Записываем датасеты:  MTLR\n",
      "BSPB\n",
      "Начало обработки нового тикера:  BSPB\n",
      "Получаем экстремумы по дневному графику\n",
      "Общее число данных графика для обработки:  2370\n"
     ]
    },
    {
     "name": "stderr",
     "output_type": "stream",
     "text": [
      "C:\\Users\\Adimin\\AppData\\Local\\Temp\\ipykernel_131648\\2737466279.py:114: FutureWarning: The behavior of .astype from datetime64[ns] to int32 is deprecated. In a future version, this astype will return exactly the specified dtype instead of int64, and will raise if that conversion overflows.\n",
      "  num_logic_df.index = num_logic_df.index.astype(int)\n"
     ]
    },
    {
     "name": "stdout",
     "output_type": "stream",
     "text": [
      "Записываем датасеты:  BSPB\n",
      "ALRS\n",
      "Начало обработки нового тикера:  ALRS\n",
      "Получаем экстремумы по дневному графику\n",
      "Общее число данных графика для обработки:  2791\n"
     ]
    },
    {
     "name": "stderr",
     "output_type": "stream",
     "text": [
      "C:\\Users\\Adimin\\AppData\\Local\\Temp\\ipykernel_131648\\2737466279.py:114: FutureWarning: The behavior of .astype from datetime64[ns] to int32 is deprecated. In a future version, this astype will return exactly the specified dtype instead of int64, and will raise if that conversion overflows.\n",
      "  num_logic_df.index = num_logic_df.index.astype(int)\n"
     ]
    },
    {
     "name": "stdout",
     "output_type": "stream",
     "text": [
      "Записываем датасеты:  ALRS\n",
      "TATN\n",
      "Начало обработки нового тикера:  TATN\n",
      "Получаем экстремумы по дневному графику\n",
      "Общее число данных графика для обработки:  4221\n"
     ]
    },
    {
     "name": "stderr",
     "output_type": "stream",
     "text": [
      "C:\\Users\\Adimin\\AppData\\Local\\Temp\\ipykernel_131648\\2737466279.py:114: FutureWarning: The behavior of .astype from datetime64[ns] to int32 is deprecated. In a future version, this astype will return exactly the specified dtype instead of int64, and will raise if that conversion overflows.\n",
      "  num_logic_df.index = num_logic_df.index.astype(int)\n"
     ]
    },
    {
     "name": "stdout",
     "output_type": "stream",
     "text": [
      "Записываем датасеты:  TATN\n",
      "YNDX\n",
      "Начало обработки нового тикера:  YNDX\n",
      "Получаем экстремумы по дневному графику\n",
      "Общее число данных графика для обработки:  2372\n"
     ]
    },
    {
     "name": "stderr",
     "output_type": "stream",
     "text": [
      "C:\\Users\\Adimin\\AppData\\Local\\Temp\\ipykernel_131648\\2737466279.py:114: FutureWarning: The behavior of .astype from datetime64[ns] to int32 is deprecated. In a future version, this astype will return exactly the specified dtype instead of int64, and will raise if that conversion overflows.\n",
      "  num_logic_df.index = num_logic_df.index.astype(int)\n"
     ]
    },
    {
     "name": "stdout",
     "output_type": "stream",
     "text": [
      "Записываем датасеты:  YNDX\n",
      "SNGSP\n",
      "Начало обработки нового тикера:  SNGSP\n",
      "Получаем экстремумы по дневному графику\n",
      "Общее число данных графика для обработки:  2372\n"
     ]
    },
    {
     "name": "stderr",
     "output_type": "stream",
     "text": [
      "C:\\Users\\Adimin\\AppData\\Local\\Temp\\ipykernel_131648\\2737466279.py:114: FutureWarning: The behavior of .astype from datetime64[ns] to int32 is deprecated. In a future version, this astype will return exactly the specified dtype instead of int64, and will raise if that conversion overflows.\n",
      "  num_logic_df.index = num_logic_df.index.astype(int)\n"
     ]
    },
    {
     "name": "stdout",
     "output_type": "stream",
     "text": [
      "Записываем датасеты:  SNGSP\n",
      "ROSN\n",
      "Начало обработки нового тикера:  ROSN\n",
      "Получаем экстремумы по дневному графику\n",
      "Общее число данных графика для обработки:  2372\n"
     ]
    },
    {
     "name": "stderr",
     "output_type": "stream",
     "text": [
      "C:\\Users\\Adimin\\AppData\\Local\\Temp\\ipykernel_131648\\2737466279.py:114: FutureWarning: The behavior of .astype from datetime64[ns] to int32 is deprecated. In a future version, this astype will return exactly the specified dtype instead of int64, and will raise if that conversion overflows.\n",
      "  num_logic_df.index = num_logic_df.index.astype(int)\n"
     ]
    },
    {
     "name": "stdout",
     "output_type": "stream",
     "text": [
      "Записываем датасеты:  ROSN\n",
      "VTBR\n",
      "Начало обработки нового тикера:  VTBR\n",
      "Получаем экстремумы по дневному графику\n",
      "Общее число данных графика для обработки:  2691\n"
     ]
    },
    {
     "name": "stderr",
     "output_type": "stream",
     "text": [
      "C:\\Users\\Adimin\\AppData\\Local\\Temp\\ipykernel_131648\\2737466279.py:114: FutureWarning: The behavior of .astype from datetime64[ns] to int32 is deprecated. In a future version, this astype will return exactly the specified dtype instead of int64, and will raise if that conversion overflows.\n",
      "  num_logic_df.index = num_logic_df.index.astype(int)\n"
     ]
    },
    {
     "name": "stdout",
     "output_type": "stream",
     "text": [
      "Записываем датасеты:  VTBR\n",
      "MGNT\n",
      "Начало обработки нового тикера:  MGNT\n",
      "Получаем экстремумы по дневному графику\n",
      "Общее число данных графика для обработки:  3230\n"
     ]
    },
    {
     "name": "stderr",
     "output_type": "stream",
     "text": [
      "C:\\Users\\Adimin\\AppData\\Local\\Temp\\ipykernel_131648\\2737466279.py:114: FutureWarning: The behavior of .astype from datetime64[ns] to int32 is deprecated. In a future version, this astype will return exactly the specified dtype instead of int64, and will raise if that conversion overflows.\n",
      "  num_logic_df.index = num_logic_df.index.astype(int)\n"
     ]
    },
    {
     "name": "stdout",
     "output_type": "stream",
     "text": [
      "Записываем датасеты:  MGNT\n",
      "NLMK\n",
      "Начало обработки нового тикера:  NLMK\n",
      "Получаем экстремумы по дневному графику\n",
      "Общее число данных графика для обработки:  2372\n"
     ]
    },
    {
     "name": "stderr",
     "output_type": "stream",
     "text": [
      "C:\\Users\\Adimin\\AppData\\Local\\Temp\\ipykernel_131648\\2737466279.py:114: FutureWarning: The behavior of .astype from datetime64[ns] to int32 is deprecated. In a future version, this astype will return exactly the specified dtype instead of int64, and will raise if that conversion overflows.\n",
      "  num_logic_df.index = num_logic_df.index.astype(int)\n"
     ]
    },
    {
     "name": "stdout",
     "output_type": "stream",
     "text": [
      "Записываем датасеты:  NLMK\n",
      "BANEP\n",
      "Начало обработки нового тикера:  BANEP\n",
      "Получаем экстремумы по дневному графику\n",
      "Общее число данных графика для обработки:  2370\n"
     ]
    },
    {
     "name": "stderr",
     "output_type": "stream",
     "text": [
      "C:\\Users\\Adimin\\AppData\\Local\\Temp\\ipykernel_131648\\2737466279.py:114: FutureWarning: The behavior of .astype from datetime64[ns] to int32 is deprecated. In a future version, this astype will return exactly the specified dtype instead of int64, and will raise if that conversion overflows.\n",
      "  num_logic_df.index = num_logic_df.index.astype(int)\n"
     ]
    },
    {
     "name": "stdout",
     "output_type": "stream",
     "text": [
      "Записываем датасеты:  BANEP\n",
      "TRNFP\n",
      "Начало обработки нового тикера:  TRNFP\n",
      "Получаем экстремумы по дневному графику\n",
      "Общее число данных графика для обработки:  2489\n"
     ]
    },
    {
     "name": "stderr",
     "output_type": "stream",
     "text": [
      "C:\\Users\\Adimin\\AppData\\Local\\Temp\\ipykernel_131648\\2737466279.py:114: FutureWarning: The behavior of .astype from datetime64[ns] to int32 is deprecated. In a future version, this astype will return exactly the specified dtype instead of int64, and will raise if that conversion overflows.\n",
      "  num_logic_df.index = num_logic_df.index.astype(int)\n"
     ]
    },
    {
     "name": "stdout",
     "output_type": "stream",
     "text": [
      "Записываем датасеты:  TRNFP\n",
      "TCSG\n",
      "Начало обработки нового тикера:  TCSG\n",
      "Получаем экстремумы по дневному графику\n",
      "Общее число данных графика для обработки:  1010\n"
     ]
    },
    {
     "name": "stderr",
     "output_type": "stream",
     "text": [
      "C:\\Users\\Adimin\\AppData\\Local\\Temp\\ipykernel_131648\\2737466279.py:114: FutureWarning: The behavior of .astype from datetime64[ns] to int32 is deprecated. In a future version, this astype will return exactly the specified dtype instead of int64, and will raise if that conversion overflows.\n",
      "  num_logic_df.index = num_logic_df.index.astype(int)\n"
     ]
    },
    {
     "name": "stdout",
     "output_type": "stream",
     "text": [
      "Записываем датасеты:  TCSG\n",
      "AGRO\n",
      "Начало обработки нового тикера:  AGRO\n",
      "Получаем экстремумы по дневному графику\n",
      "Общее число данных графика для обработки:  2215\n"
     ]
    },
    {
     "name": "stderr",
     "output_type": "stream",
     "text": [
      "C:\\Users\\Adimin\\AppData\\Local\\Temp\\ipykernel_131648\\2737466279.py:114: FutureWarning: The behavior of .astype from datetime64[ns] to int32 is deprecated. In a future version, this astype will return exactly the specified dtype instead of int64, and will raise if that conversion overflows.\n",
      "  num_logic_df.index = num_logic_df.index.astype(int)\n"
     ]
    },
    {
     "name": "stdout",
     "output_type": "stream",
     "text": [
      "Записываем датасеты:  AGRO\n",
      "RASP\n",
      "Начало обработки нового тикера:  RASP\n",
      "Получаем экстремумы по дневному графику\n",
      "Общее число данных графика для обработки:  2370\n"
     ]
    },
    {
     "name": "stderr",
     "output_type": "stream",
     "text": [
      "C:\\Users\\Adimin\\AppData\\Local\\Temp\\ipykernel_131648\\2737466279.py:114: FutureWarning: The behavior of .astype from datetime64[ns] to int32 is deprecated. In a future version, this astype will return exactly the specified dtype instead of int64, and will raise if that conversion overflows.\n",
      "  num_logic_df.index = num_logic_df.index.astype(int)\n"
     ]
    },
    {
     "name": "stdout",
     "output_type": "stream",
     "text": [
      "Записываем датасеты:  RASP\n",
      "UNAC\n",
      "Начало обработки нового тикера:  UNAC\n",
      "Получаем экстремумы по дневному графику\n",
      "Общее число данных графика для обработки:  2370\n"
     ]
    },
    {
     "name": "stderr",
     "output_type": "stream",
     "text": [
      "C:\\Users\\Adimin\\AppData\\Local\\Temp\\ipykernel_131648\\2737466279.py:114: FutureWarning: The behavior of .astype from datetime64[ns] to int32 is deprecated. In a future version, this astype will return exactly the specified dtype instead of int64, and will raise if that conversion overflows.\n",
      "  num_logic_df.index = num_logic_df.index.astype(int)\n"
     ]
    },
    {
     "name": "stdout",
     "output_type": "stream",
     "text": [
      "Записываем датасеты:  UNAC\n",
      "RENI\n",
      "Начало обработки нового тикера:  RENI\n",
      "Получаем экстремумы по дневному графику\n",
      "Общее число данных графика для обработки:  511\n"
     ]
    },
    {
     "name": "stderr",
     "output_type": "stream",
     "text": [
      "C:\\Users\\Adimin\\AppData\\Local\\Temp\\ipykernel_131648\\2737466279.py:114: FutureWarning: The behavior of .astype from datetime64[ns] to int32 is deprecated. In a future version, this astype will return exactly the specified dtype instead of int64, and will raise if that conversion overflows.\n",
      "  num_logic_df.index = num_logic_df.index.astype(int)\n"
     ]
    },
    {
     "name": "stdout",
     "output_type": "stream",
     "text": [
      "Записываем датасеты:  RENI\n",
      "SNGS\n",
      "Начало обработки нового тикера:  SNGS\n",
      "Получаем экстремумы по дневному графику\n",
      "Общее число данных графика для обработки:  2372\n"
     ]
    },
    {
     "name": "stderr",
     "output_type": "stream",
     "text": [
      "C:\\Users\\Adimin\\AppData\\Local\\Temp\\ipykernel_131648\\2737466279.py:114: FutureWarning: The behavior of .astype from datetime64[ns] to int32 is deprecated. In a future version, this astype will return exactly the specified dtype instead of int64, and will raise if that conversion overflows.\n",
      "  num_logic_df.index = num_logic_df.index.astype(int)\n"
     ]
    },
    {
     "name": "stdout",
     "output_type": "stream",
     "text": [
      "Записываем датасеты:  SNGS\n",
      "PLZL\n",
      "Начало обработки нового тикера:  PLZL\n",
      "Получаем экстремумы по дневному графику\n",
      "Общее число данных графика для обработки:  2372\n"
     ]
    },
    {
     "name": "stderr",
     "output_type": "stream",
     "text": [
      "C:\\Users\\Adimin\\AppData\\Local\\Temp\\ipykernel_131648\\2737466279.py:114: FutureWarning: The behavior of .astype from datetime64[ns] to int32 is deprecated. In a future version, this astype will return exactly the specified dtype instead of int64, and will raise if that conversion overflows.\n",
      "  num_logic_df.index = num_logic_df.index.astype(int)\n"
     ]
    },
    {
     "name": "stdout",
     "output_type": "stream",
     "text": [
      "Записываем датасеты:  PLZL\n",
      "OZON\n",
      "Начало обработки нового тикера:  OZON\n",
      "Получаем экстремумы по дневному графику\n",
      "Общее число данных графика для обработки:  742\n"
     ]
    },
    {
     "name": "stderr",
     "output_type": "stream",
     "text": [
      "C:\\Users\\Adimin\\AppData\\Local\\Temp\\ipykernel_131648\\2737466279.py:114: FutureWarning: The behavior of .astype from datetime64[ns] to int32 is deprecated. In a future version, this astype will return exactly the specified dtype instead of int64, and will raise if that conversion overflows.\n",
      "  num_logic_df.index = num_logic_df.index.astype(int)\n"
     ]
    },
    {
     "name": "stdout",
     "output_type": "stream",
     "text": [
      "Записываем датасеты:  OZON\n",
      "MOEX\n",
      "Начало обработки нового тикера:  MOEX\n",
      "Получаем экстремумы по дневному графику\n",
      "Общее число данных графика для обработки:  2667\n"
     ]
    },
    {
     "name": "stderr",
     "output_type": "stream",
     "text": [
      "C:\\Users\\Adimin\\AppData\\Local\\Temp\\ipykernel_131648\\2737466279.py:114: FutureWarning: The behavior of .astype from datetime64[ns] to int32 is deprecated. In a future version, this astype will return exactly the specified dtype instead of int64, and will raise if that conversion overflows.\n",
      "  num_logic_df.index = num_logic_df.index.astype(int)\n"
     ]
    },
    {
     "name": "stdout",
     "output_type": "stream",
     "text": [
      "Записываем датасеты:  MOEX\n",
      "GMKN\n",
      "Начало обработки нового тикера:  GMKN\n",
      "Получаем экстремумы по дневному графику\n",
      "Общее число данных графика для обработки:  2693\n"
     ]
    },
    {
     "name": "stderr",
     "output_type": "stream",
     "text": [
      "C:\\Users\\Adimin\\AppData\\Local\\Temp\\ipykernel_131648\\2737466279.py:114: FutureWarning: The behavior of .astype from datetime64[ns] to int32 is deprecated. In a future version, this astype will return exactly the specified dtype instead of int64, and will raise if that conversion overflows.\n",
      "  num_logic_df.index = num_logic_df.index.astype(int)\n"
     ]
    },
    {
     "name": "stdout",
     "output_type": "stream",
     "text": [
      "Записываем датасеты:  GMKN\n",
      "SBERP\n",
      "Начало обработки нового тикера:  SBERP\n",
      "Получаем экстремумы по дневному графику\n",
      "Общее число данных графика для обработки:  4090\n"
     ]
    },
    {
     "name": "stderr",
     "output_type": "stream",
     "text": [
      "C:\\Users\\Adimin\\AppData\\Local\\Temp\\ipykernel_131648\\2737466279.py:114: FutureWarning: The behavior of .astype from datetime64[ns] to int32 is deprecated. In a future version, this astype will return exactly the specified dtype instead of int64, and will raise if that conversion overflows.\n",
      "  num_logic_df.index = num_logic_df.index.astype(int)\n"
     ]
    },
    {
     "name": "stdout",
     "output_type": "stream",
     "text": [
      "Записываем датасеты:  SBERP\n",
      "IRKT\n",
      "Начало обработки нового тикера:  IRKT\n",
      "Получаем экстремумы по дневному графику\n",
      "Общее число данных графика для обработки:  2369\n"
     ]
    },
    {
     "name": "stderr",
     "output_type": "stream",
     "text": [
      "C:\\Users\\Adimin\\AppData\\Local\\Temp\\ipykernel_131648\\2737466279.py:114: FutureWarning: The behavior of .astype from datetime64[ns] to int32 is deprecated. In a future version, this astype will return exactly the specified dtype instead of int64, and will raise if that conversion overflows.\n",
      "  num_logic_df.index = num_logic_df.index.astype(int)\n"
     ]
    },
    {
     "name": "stdout",
     "output_type": "stream",
     "text": [
      "Записываем датасеты:  IRKT\n",
      "PHOR\n",
      "Начало обработки нового тикера:  PHOR\n",
      "Получаем экстремумы по дневному графику\n",
      "Общее число данных графика для обработки:  2691\n"
     ]
    },
    {
     "name": "stderr",
     "output_type": "stream",
     "text": [
      "C:\\Users\\Adimin\\AppData\\Local\\Temp\\ipykernel_131648\\2737466279.py:114: FutureWarning: The behavior of .astype from datetime64[ns] to int32 is deprecated. In a future version, this astype will return exactly the specified dtype instead of int64, and will raise if that conversion overflows.\n",
      "  num_logic_df.index = num_logic_df.index.astype(int)\n"
     ]
    },
    {
     "name": "stdout",
     "output_type": "stream",
     "text": [
      "Записываем датасеты:  PHOR\n",
      "AFKS\n",
      "Начало обработки нового тикера:  AFKS\n",
      "Получаем экстремумы по дневному графику\n",
      "Общее число данных графика для обработки:  2372\n"
     ]
    },
    {
     "name": "stderr",
     "output_type": "stream",
     "text": [
      "C:\\Users\\Adimin\\AppData\\Local\\Temp\\ipykernel_131648\\2737466279.py:114: FutureWarning: The behavior of .astype from datetime64[ns] to int32 is deprecated. In a future version, this astype will return exactly the specified dtype instead of int64, and will raise if that conversion overflows.\n",
      "  num_logic_df.index = num_logic_df.index.astype(int)\n"
     ]
    },
    {
     "name": "stdout",
     "output_type": "stream",
     "text": [
      "Записываем датасеты:  AFKS\n",
      "SIBN\n",
      "Начало обработки нового тикера:  SIBN\n",
      "Получаем экстремумы по дневному графику\n",
      "Общее число данных графика для обработки:  2370\n"
     ]
    },
    {
     "name": "stderr",
     "output_type": "stream",
     "text": [
      "C:\\Users\\Adimin\\AppData\\Local\\Temp\\ipykernel_131648\\2737466279.py:114: FutureWarning: The behavior of .astype from datetime64[ns] to int32 is deprecated. In a future version, this astype will return exactly the specified dtype instead of int64, and will raise if that conversion overflows.\n",
      "  num_logic_df.index = num_logic_df.index.astype(int)\n"
     ]
    },
    {
     "name": "stdout",
     "output_type": "stream",
     "text": [
      "Записываем датасеты:  SIBN\n",
      "TATNP\n",
      "Начало обработки нового тикера:  TATNP\n",
      "Получаем экстремумы по дневному графику\n",
      "Общее число данных графика для обработки:  4222\n"
     ]
    },
    {
     "name": "stderr",
     "output_type": "stream",
     "text": [
      "C:\\Users\\Adimin\\AppData\\Local\\Temp\\ipykernel_131648\\2737466279.py:114: FutureWarning: The behavior of .astype from datetime64[ns] to int32 is deprecated. In a future version, this astype will return exactly the specified dtype instead of int64, and will raise if that conversion overflows.\n",
      "  num_logic_df.index = num_logic_df.index.astype(int)\n"
     ]
    },
    {
     "name": "stdout",
     "output_type": "stream",
     "text": [
      "Записываем датасеты:  TATNP\n",
      "BELU\n",
      "Начало обработки нового тикера:  BELU\n",
      "Получаем экстремумы по дневному графику\n",
      "Общее число данных графика для обработки:  1538\n"
     ]
    },
    {
     "name": "stderr",
     "output_type": "stream",
     "text": [
      "C:\\Users\\Adimin\\AppData\\Local\\Temp\\ipykernel_131648\\2737466279.py:114: FutureWarning: The behavior of .astype from datetime64[ns] to int32 is deprecated. In a future version, this astype will return exactly the specified dtype instead of int64, and will raise if that conversion overflows.\n",
      "  num_logic_df.index = num_logic_df.index.astype(int)\n"
     ]
    },
    {
     "name": "stdout",
     "output_type": "stream",
     "text": [
      "Записываем датасеты:  BELU\n",
      "CHMF\n",
      "Начало обработки нового тикера:  CHMF\n",
      "Получаем экстремумы по дневному графику\n",
      "Общее число данных графика для обработки:  2372\n"
     ]
    },
    {
     "name": "stderr",
     "output_type": "stream",
     "text": [
      "C:\\Users\\Adimin\\AppData\\Local\\Temp\\ipykernel_131648\\2737466279.py:114: FutureWarning: The behavior of .astype from datetime64[ns] to int32 is deprecated. In a future version, this astype will return exactly the specified dtype instead of int64, and will raise if that conversion overflows.\n",
      "  num_logic_df.index = num_logic_df.index.astype(int)\n"
     ]
    },
    {
     "name": "stdout",
     "output_type": "stream",
     "text": [
      "Записываем датасеты:  CHMF\n",
      "POLY\n",
      "Начало обработки нового тикера:  POLY\n",
      "Получаем экстремумы по дневному графику\n",
      "Общее число данных графика для обработки:  2533\n"
     ]
    },
    {
     "name": "stderr",
     "output_type": "stream",
     "text": [
      "C:\\Users\\Adimin\\AppData\\Local\\Temp\\ipykernel_131648\\2737466279.py:114: FutureWarning: The behavior of .astype from datetime64[ns] to int32 is deprecated. In a future version, this astype will return exactly the specified dtype instead of int64, and will raise if that conversion overflows.\n",
      "  num_logic_df.index = num_logic_df.index.astype(int)\n"
     ]
    },
    {
     "name": "stdout",
     "output_type": "stream",
     "text": [
      "Записываем датасеты:  POLY\n",
      "FIVE\n",
      "Начало обработки нового тикера:  FIVE\n",
      "Получаем экстремумы по дневному графику\n",
      "Общее число данных графика для обработки:  1451\n"
     ]
    },
    {
     "name": "stderr",
     "output_type": "stream",
     "text": [
      "C:\\Users\\Adimin\\AppData\\Local\\Temp\\ipykernel_131648\\2737466279.py:114: FutureWarning: The behavior of .astype from datetime64[ns] to int32 is deprecated. In a future version, this astype will return exactly the specified dtype instead of int64, and will raise if that conversion overflows.\n",
      "  num_logic_df.index = num_logic_df.index.astype(int)\n"
     ]
    },
    {
     "name": "stdout",
     "output_type": "stream",
     "text": [
      "Записываем датасеты:  FIVE\n",
      "FLOT\n",
      "Начало обработки нового тикера:  FLOT\n",
      "Получаем экстремумы по дневному графику\n",
      "Общее число данных графика для обработки:  776\n"
     ]
    },
    {
     "name": "stderr",
     "output_type": "stream",
     "text": [
      "C:\\Users\\Adimin\\AppData\\Local\\Temp\\ipykernel_131648\\2737466279.py:114: FutureWarning: The behavior of .astype from datetime64[ns] to int32 is deprecated. In a future version, this astype will return exactly the specified dtype instead of int64, and will raise if that conversion overflows.\n",
      "  num_logic_df.index = num_logic_df.index.astype(int)\n"
     ]
    },
    {
     "name": "stdout",
     "output_type": "stream",
     "text": [
      "Записываем датасеты:  FLOT\n",
      "SOFL\n",
      "Начало обработки нового тикера:  SOFL\n",
      "Получаем экстремумы по дневному графику\n",
      "Общее число данных графика для обработки:  45\n",
      "stoch: indicator | Close  k|  50  d|  3   'NoneType' object is not subscriptable\n",
      "stoch: indicator | Open  k|  50  d|  3   'NoneType' object is not subscriptable\n",
      "stoch: indicator | High  k|  50  d|  3   'NoneType' object is not subscriptable\n",
      "stoch: indicator | Low  k|  50  d|  3   'NoneType' object is not subscriptable\n",
      "stoch: indicator | EMA_3  k|  50  d|  3   'NoneType' object is not subscriptable\n",
      "stoch: indicator | EMA_5  k|  50  d|  3   'NoneType' object is not subscriptable\n",
      "stoch: indicator | EMA_8  k|  50  d|  3   'NoneType' object is not subscriptable\n",
      "stoch: indicator | EMA_9  k|  50  d|  3   'NoneType' object is not subscriptable\n",
      "stoch: indicator | EMA_13  k|  50  d|  3   'NoneType' object is not subscriptable\n",
      "stoch: indicator | EMA_14  k|  20  d|  3   'NoneType' object has no attribute 'name'\n",
      "stoch: indicator | EMA_14  k|  50  d|  3   'NoneType' object is not subscriptable\n",
      "stoch: indicator | EMA_20  k|  14  d|  3   'NoneType' object has no attribute 'name'\n",
      "stoch: indicator | EMA_20  k|  20  d|  3   inputs are all NaN\n",
      "stoch: indicator | EMA_20  k|  50  d|  3   'NoneType' object is not subscriptable\n",
      "stoch: indicator | EMA_25  k|  9  d|  3   'NoneType' object has no attribute 'name'\n",
      "stoch: indicator | EMA_25  k|  14  d|  3   inputs are all NaN\n",
      "stoch: indicator | EMA_25  k|  20  d|  3   inputs are all NaN\n",
      "stoch: indicator | EMA_25  k|  50  d|  3   'NoneType' object is not subscriptable\n",
      "stoch: indicator | EMA_49  k|  3  d|  3   inputs are all NaN\n",
      "stoch: indicator | EMA_49  k|  5  d|  3   inputs are all NaN\n",
      "stoch: indicator | EMA_49  k|  7  d|  3   inputs are all NaN\n",
      "stoch: indicator | EMA_49  k|  9  d|  3   inputs are all NaN\n",
      "stoch: indicator | EMA_49  k|  14  d|  3   inputs are all NaN\n",
      "stoch: indicator | EMA_49  k|  20  d|  3   inputs are all NaN\n",
      "stoch: indicator | EMA_49  k|  50  d|  3   'NoneType' object is not subscriptable\n",
      "stoch: indicator | EMA_50  k|  3  d|  3   inputs are all NaN\n",
      "stoch: indicator | EMA_50  k|  5  d|  3   inputs are all NaN\n",
      "stoch: indicator | EMA_50  k|  7  d|  3   inputs are all NaN\n",
      "stoch: indicator | EMA_50  k|  9  d|  3   inputs are all NaN\n",
      "stoch: indicator | EMA_50  k|  14  d|  3   inputs are all NaN\n",
      "stoch: indicator | EMA_50  k|  20  d|  3   inputs are all NaN\n",
      "stoch: indicator | EMA_50  k|  50  d|  3   'NoneType' object is not subscriptable\n",
      "stoch: indicator | EMA_89  k|  3  d|  3   inputs are all NaN\n",
      "stoch: indicator | EMA_89  k|  5  d|  3   inputs are all NaN\n",
      "stoch: indicator | EMA_89  k|  7  d|  3   inputs are all NaN\n",
      "stoch: indicator | EMA_89  k|  9  d|  3   inputs are all NaN\n",
      "stoch: indicator | EMA_89  k|  14  d|  3   inputs are all NaN\n",
      "stoch: indicator | EMA_89  k|  20  d|  3   inputs are all NaN\n",
      "stoch: indicator | EMA_89  k|  50  d|  3   'NoneType' object is not subscriptable\n",
      "stoch: indicator | KC_20_10_3.2_UPPER  k|  14  d|  3   'NoneType' object has no attribute 'name'\n",
      "stoch: indicator | KC_20_10_3.2_UPPER  k|  20  d|  3   inputs are all NaN\n",
      "stoch: indicator | KC_20_10_3.2_UPPER  k|  50  d|  3   'NoneType' object is not subscriptable\n",
      "stoch: indicator | KC_20_10_3.2_LOWER  k|  14  d|  3   'NoneType' object has no attribute 'name'\n",
      "stoch: indicator | KC_20_10_3.2_LOWER  k|  20  d|  3   inputs are all NaN\n",
      "stoch: indicator | KC_20_10_3.2_LOWER  k|  50  d|  3   'NoneType' object is not subscriptable\n",
      "stoch: indicator | KC_50_18_3.2_UPPER  k|  3  d|  3   inputs are all NaN\n",
      "stoch: indicator | KC_50_18_3.2_UPPER  k|  5  d|  3   inputs are all NaN\n",
      "stoch: indicator | KC_50_18_3.2_UPPER  k|  7  d|  3   inputs are all NaN\n",
      "stoch: indicator | KC_50_18_3.2_UPPER  k|  9  d|  3   inputs are all NaN\n",
      "stoch: indicator | KC_50_18_3.2_UPPER  k|  14  d|  3   inputs are all NaN\n",
      "stoch: indicator | KC_50_18_3.2_UPPER  k|  20  d|  3   inputs are all NaN\n",
      "stoch: indicator | KC_50_18_3.2_UPPER  k|  50  d|  3   'NoneType' object is not subscriptable\n",
      "stoch: indicator | KC_50_18_3.2_LOWER  k|  3  d|  3   inputs are all NaN\n",
      "stoch: indicator | KC_50_18_3.2_LOWER  k|  5  d|  3   inputs are all NaN\n",
      "stoch: indicator | KC_50_18_3.2_LOWER  k|  7  d|  3   inputs are all NaN\n",
      "stoch: indicator | KC_50_18_3.2_LOWER  k|  9  d|  3   inputs are all NaN\n",
      "stoch: indicator | KC_50_18_3.2_LOWER  k|  14  d|  3   inputs are all NaN\n",
      "stoch: indicator | KC_50_18_3.2_LOWER  k|  20  d|  3   inputs are all NaN\n",
      "stoch: indicator | KC_50_18_3.2_LOWER  k|  50  d|  3   'NoneType' object is not subscriptable\n",
      "stoch: indicator | BBL_20_2.0  k|  14  d|  3   'NoneType' object has no attribute 'name'\n",
      "stoch: indicator | BBL_20_2.0  k|  20  d|  3   inputs are all NaN\n",
      "stoch: indicator | BBL_20_2.0  k|  50  d|  3   'NoneType' object is not subscriptable\n",
      "stoch: indicator | BBM_20_2.0  k|  14  d|  3   'NoneType' object has no attribute 'name'\n",
      "stoch: indicator | BBM_20_2.0  k|  20  d|  3   inputs are all NaN\n",
      "stoch: indicator | BBM_20_2.0  k|  50  d|  3   'NoneType' object is not subscriptable\n",
      "stoch: indicator | BBU_20_2.0  k|  14  d|  3   'NoneType' object has no attribute 'name'\n",
      "stoch: indicator | BBU_20_2.0  k|  20  d|  3   inputs are all NaN\n",
      "stoch: indicator | BBU_20_2.0  k|  50  d|  3   'NoneType' object is not subscriptable\n",
      "stoch: indicator | BBL_20_3.0  k|  14  d|  3   'NoneType' object has no attribute 'name'\n",
      "stoch: indicator | BBL_20_3.0  k|  20  d|  3   inputs are all NaN\n",
      "stoch: indicator | BBL_20_3.0  k|  50  d|  3   'NoneType' object is not subscriptable\n",
      "stoch: indicator | BBM_20_3.0  k|  14  d|  3   'NoneType' object has no attribute 'name'\n",
      "stoch: indicator | BBM_20_3.0  k|  20  d|  3   inputs are all NaN\n",
      "stoch: indicator | BBM_20_3.0  k|  50  d|  3   'NoneType' object is not subscriptable\n",
      "stoch: indicator | BBU_20_3.0  k|  14  d|  3   'NoneType' object has no attribute 'name'\n",
      "stoch: indicator | BBU_20_3.0  k|  20  d|  3   inputs are all NaN\n",
      "stoch: indicator | BBU_20_3.0  k|  50  d|  3   'NoneType' object is not subscriptable\n",
      "stoch: indicator | BBL_50_2.0  k|  3  d|  3   inputs are all NaN\n",
      "stoch: indicator | BBL_50_2.0  k|  5  d|  3   inputs are all NaN\n",
      "stoch: indicator | BBL_50_2.0  k|  7  d|  3   inputs are all NaN\n",
      "stoch: indicator | BBL_50_2.0  k|  9  d|  3   inputs are all NaN\n",
      "stoch: indicator | BBL_50_2.0  k|  14  d|  3   inputs are all NaN\n",
      "stoch: indicator | BBL_50_2.0  k|  20  d|  3   inputs are all NaN\n",
      "stoch: indicator | BBL_50_2.0  k|  50  d|  3   'NoneType' object is not subscriptable\n",
      "stoch: indicator | BBM_50_2.0  k|  3  d|  3   inputs are all NaN\n",
      "stoch: indicator | BBM_50_2.0  k|  5  d|  3   inputs are all NaN\n",
      "stoch: indicator | BBM_50_2.0  k|  7  d|  3   inputs are all NaN\n",
      "stoch: indicator | BBM_50_2.0  k|  9  d|  3   inputs are all NaN\n",
      "stoch: indicator | BBM_50_2.0  k|  14  d|  3   inputs are all NaN\n",
      "stoch: indicator | BBM_50_2.0  k|  20  d|  3   inputs are all NaN\n",
      "stoch: indicator | BBM_50_2.0  k|  50  d|  3   'NoneType' object is not subscriptable\n",
      "stoch: indicator | BBU_50_2.0  k|  3  d|  3   inputs are all NaN\n",
      "stoch: indicator | BBU_50_2.0  k|  5  d|  3   inputs are all NaN\n",
      "stoch: indicator | BBU_50_2.0  k|  7  d|  3   inputs are all NaN\n",
      "stoch: indicator | BBU_50_2.0  k|  9  d|  3   inputs are all NaN\n",
      "stoch: indicator | BBU_50_2.0  k|  14  d|  3   inputs are all NaN\n",
      "stoch: indicator | BBU_50_2.0  k|  20  d|  3   inputs are all NaN\n",
      "stoch: indicator | BBU_50_2.0  k|  50  d|  3   'NoneType' object is not subscriptable\n",
      "stoch: indicator | BBL_50_3.0  k|  3  d|  3   inputs are all NaN\n",
      "stoch: indicator | BBL_50_3.0  k|  5  d|  3   inputs are all NaN\n",
      "stoch: indicator | BBL_50_3.0  k|  7  d|  3   inputs are all NaN\n",
      "stoch: indicator | BBL_50_3.0  k|  9  d|  3   inputs are all NaN\n",
      "stoch: indicator | BBL_50_3.0  k|  14  d|  3   inputs are all NaN\n",
      "stoch: indicator | BBL_50_3.0  k|  20  d|  3   inputs are all NaN\n",
      "stoch: indicator | BBL_50_3.0  k|  50  d|  3   'NoneType' object is not subscriptable\n",
      "stoch: indicator | BBM_50_3.0  k|  3  d|  3   inputs are all NaN\n",
      "stoch: indicator | BBM_50_3.0  k|  5  d|  3   inputs are all NaN\n",
      "stoch: indicator | BBM_50_3.0  k|  7  d|  3   inputs are all NaN\n",
      "stoch: indicator | BBM_50_3.0  k|  9  d|  3   inputs are all NaN\n",
      "stoch: indicator | BBM_50_3.0  k|  14  d|  3   inputs are all NaN\n",
      "stoch: indicator | BBM_50_3.0  k|  20  d|  3   inputs are all NaN\n",
      "stoch: indicator | BBM_50_3.0  k|  50  d|  3   'NoneType' object is not subscriptable\n",
      "stoch: indicator | BBU_50_3.0  k|  3  d|  3   inputs are all NaN\n",
      "stoch: indicator | BBU_50_3.0  k|  5  d|  3   inputs are all NaN\n",
      "stoch: indicator | BBU_50_3.0  k|  7  d|  3   inputs are all NaN\n",
      "stoch: indicator | BBU_50_3.0  k|  9  d|  3   inputs are all NaN\n",
      "stoch: indicator | BBU_50_3.0  k|  14  d|  3   inputs are all NaN\n",
      "stoch: indicator | BBU_50_3.0  k|  20  d|  3   inputs are all NaN\n",
      "stoch: indicator | BBU_50_3.0  k|  50  d|  3   'NoneType' object is not subscriptable\n",
      "stoch: indicator | RSI_14  k|  20  d|  3   'NoneType' object has no attribute 'name'\n",
      "stoch: indicator | RSI_14  k|  50  d|  3   'NoneType' object is not subscriptable\n",
      "stoch: indicator | CCI_9  k|  50  d|  3   'NoneType' object is not subscriptable\n",
      "stoch: indicator | STOCHRSIk_14  k|  5  d|  3   'NoneType' object has no attribute 'name'\n",
      "stoch: indicator | STOCHRSIk_14  k|  7  d|  3   'NoneType' object has no attribute 'loc'\n",
      "stoch: indicator | STOCHRSIk_14  k|  9  d|  3   inputs are all NaN\n",
      "stoch: indicator | STOCHRSIk_14  k|  14  d|  3   inputs are all NaN\n",
      "stoch: indicator | STOCHRSIk_14  k|  20  d|  3   inputs are all NaN\n",
      "stoch: indicator | STOCHRSIk_14  k|  50  d|  3   'NoneType' object is not subscriptable\n"
     ]
    },
    {
     "name": "stdout",
     "output_type": "stream",
     "text": [
      "stoch: indicator | OBV  k|  50  d|  3   'NoneType' object is not subscriptable\n",
      "stoch: indicator | MACD_12_26_9  k|  3  d|  3   'NoneType' object has no attribute 'loc'\n",
      "stoch: indicator | MACD_12_26_9  k|  5  d|  3   inputs are all NaN\n",
      "stoch: indicator | MACD_12_26_9  k|  7  d|  3   inputs are all NaN\n",
      "stoch: indicator | MACD_12_26_9  k|  9  d|  3   inputs are all NaN\n",
      "stoch: indicator | MACD_12_26_9  k|  14  d|  3   inputs are all NaN\n",
      "stoch: indicator | MACD_12_26_9  k|  20  d|  3   inputs are all NaN\n",
      "stoch: indicator | MACD_12_26_9  k|  50  d|  3   'NoneType' object is not subscriptable\n",
      "stoch: indicator | MACDh_12_26_9  k|  3  d|  3   'NoneType' object has no attribute 'loc'\n",
      "stoch: indicator | MACDh_12_26_9  k|  5  d|  3   inputs are all NaN\n",
      "stoch: indicator | MACDh_12_26_9  k|  7  d|  3   inputs are all NaN\n",
      "stoch: indicator | MACDh_12_26_9  k|  9  d|  3   inputs are all NaN\n",
      "stoch: indicator | MACDh_12_26_9  k|  14  d|  3   inputs are all NaN\n",
      "stoch: indicator | MACDh_12_26_9  k|  20  d|  3   inputs are all NaN\n",
      "stoch: indicator | MACDh_12_26_9  k|  50  d|  3   'NoneType' object is not subscriptable\n",
      "stoch: indicator | MACDs_12_26_9  k|  3  d|  3   'NoneType' object has no attribute 'loc'\n",
      "stoch: indicator | MACDs_12_26_9  k|  5  d|  3   inputs are all NaN\n",
      "stoch: indicator | MACDs_12_26_9  k|  7  d|  3   inputs are all NaN\n",
      "stoch: indicator | MACDs_12_26_9  k|  9  d|  3   inputs are all NaN\n",
      "stoch: indicator | MACDs_12_26_9  k|  14  d|  3   inputs are all NaN\n",
      "stoch: indicator | MACDs_12_26_9  k|  20  d|  3   inputs are all NaN\n",
      "stoch: indicator | MACDs_12_26_9  k|  50  d|  3   'NoneType' object is not subscriptable\n",
      "stoch: indicator | AC  k|  3  d|  3   inputs are all NaN\n",
      "stoch: indicator | AC  k|  5  d|  3   inputs are all NaN\n",
      "stoch: indicator | AC  k|  7  d|  3   inputs are all NaN\n",
      "stoch: indicator | AC  k|  9  d|  3   inputs are all NaN\n",
      "stoch: indicator | AC  k|  14  d|  3   inputs are all NaN\n",
      "stoch: indicator | AC  k|  20  d|  3   inputs are all NaN\n",
      "stoch: indicator | AC  k|  50  d|  3   'NoneType' object is not subscriptable\n",
      "stoch: indicator | FI_14  k|  20  d|  3   'NoneType' object has no attribute 'name'\n",
      "stoch: indicator | FI_14  k|  50  d|  3   'NoneType' object is not subscriptable\n",
      "stoch: indicator | BEARS_14  k|  20  d|  3   'NoneType' object has no attribute 'name'\n",
      "stoch: indicator | BEARS_14  k|  50  d|  3   'NoneType' object is not subscriptable\n",
      "Ошибка генерации датасета:  SOFL\n",
      "MAGN\n",
      "Начало обработки нового тикера:  MAGN\n",
      "Получаем экстремумы по дневному графику\n",
      "Общее число данных графика для обработки:  2372\n"
     ]
    },
    {
     "name": "stderr",
     "output_type": "stream",
     "text": [
      "C:\\Users\\Adimin\\AppData\\Local\\Temp\\ipykernel_131648\\2737466279.py:114: FutureWarning: The behavior of .astype from datetime64[ns] to int32 is deprecated. In a future version, this astype will return exactly the specified dtype instead of int64, and will raise if that conversion overflows.\n",
      "  num_logic_df.index = num_logic_df.index.astype(int)\n"
     ]
    },
    {
     "name": "stdout",
     "output_type": "stream",
     "text": [
      "Записываем датасеты:  MAGN\n",
      "POSI\n",
      "Начало обработки нового тикера:  POSI\n",
      "Получаем экстремумы по дневному графику\n",
      "Общее число данных графика для обработки:  471\n"
     ]
    },
    {
     "name": "stderr",
     "output_type": "stream",
     "text": [
      "C:\\Users\\Adimin\\AppData\\Local\\Temp\\ipykernel_131648\\2737466279.py:114: FutureWarning: The behavior of .astype from datetime64[ns] to int32 is deprecated. In a future version, this astype will return exactly the specified dtype instead of int64, and will raise if that conversion overflows.\n",
      "  num_logic_df.index = num_logic_df.index.astype(int)\n"
     ]
    },
    {
     "name": "stdout",
     "output_type": "stream",
     "text": [
      "Записываем датасеты:  POSI\n",
      "ABIO\n",
      "Начало обработки нового тикера:  ABIO\n",
      "Получаем экстремумы по дневному графику\n",
      "Общее число данных графика для обработки:  2352\n"
     ]
    },
    {
     "name": "stderr",
     "output_type": "stream",
     "text": [
      "C:\\Users\\Adimin\\AppData\\Local\\Temp\\ipykernel_131648\\2737466279.py:114: FutureWarning: The behavior of .astype from datetime64[ns] to int32 is deprecated. In a future version, this astype will return exactly the specified dtype instead of int64, and will raise if that conversion overflows.\n",
      "  num_logic_df.index = num_logic_df.index.astype(int)\n"
     ]
    },
    {
     "name": "stdout",
     "output_type": "stream",
     "text": [
      "Записываем датасеты:  ABIO\n",
      "MTSS\n",
      "Начало обработки нового тикера:  MTSS\n",
      "Получаем экстремумы по дневному графику\n",
      "Общее число данных графика для обработки:  3272\n"
     ]
    },
    {
     "name": "stderr",
     "output_type": "stream",
     "text": [
      "C:\\Users\\Adimin\\AppData\\Local\\Temp\\ipykernel_131648\\2737466279.py:114: FutureWarning: The behavior of .astype from datetime64[ns] to int32 is deprecated. In a future version, this astype will return exactly the specified dtype instead of int64, and will raise if that conversion overflows.\n",
      "  num_logic_df.index = num_logic_df.index.astype(int)\n"
     ]
    },
    {
     "name": "stdout",
     "output_type": "stream",
     "text": [
      "Записываем датасеты:  MTSS\n",
      "TRMK\n",
      "Начало обработки нового тикера:  TRMK\n",
      "Получаем экстремумы по дневному графику\n",
      "Общее число данных графика для обработки:  3599\n"
     ]
    },
    {
     "name": "stderr",
     "output_type": "stream",
     "text": [
      "C:\\Users\\Adimin\\AppData\\Local\\Temp\\ipykernel_131648\\2737466279.py:114: FutureWarning: The behavior of .astype from datetime64[ns] to int32 is deprecated. In a future version, this astype will return exactly the specified dtype instead of int64, and will raise if that conversion overflows.\n",
      "  num_logic_df.index = num_logic_df.index.astype(int)\n"
     ]
    },
    {
     "name": "stdout",
     "output_type": "stream",
     "text": [
      "Записываем датасеты:  TRMK\n",
      "MTLRP\n",
      "Начало обработки нового тикера:  MTLRP\n",
      "Получаем экстремумы по дневному графику\n",
      "Общее число данных графика для обработки:  3087\n"
     ]
    },
    {
     "name": "stderr",
     "output_type": "stream",
     "text": [
      "C:\\Users\\Adimin\\AppData\\Local\\Temp\\ipykernel_131648\\2737466279.py:114: FutureWarning: The behavior of .astype from datetime64[ns] to int32 is deprecated. In a future version, this astype will return exactly the specified dtype instead of int64, and will raise if that conversion overflows.\n",
      "  num_logic_df.index = num_logic_df.index.astype(int)\n"
     ]
    },
    {
     "name": "stdout",
     "output_type": "stream",
     "text": [
      "Записываем датасеты:  MTLRP\n",
      "FIXP\n",
      "Начало обработки нового тикера:  FIXP\n",
      "Получаем экстремумы по дневному графику\n",
      "Общее число данных графика для обработки:  670\n"
     ]
    },
    {
     "name": "stderr",
     "output_type": "stream",
     "text": [
      "C:\\Users\\Adimin\\AppData\\Local\\Temp\\ipykernel_131648\\2737466279.py:114: FutureWarning: The behavior of .astype from datetime64[ns] to int32 is deprecated. In a future version, this astype will return exactly the specified dtype instead of int64, and will raise if that conversion overflows.\n",
      "  num_logic_df.index = num_logic_df.index.astype(int)\n"
     ]
    },
    {
     "name": "stdout",
     "output_type": "stream",
     "text": [
      "Записываем датасеты:  FIXP\n",
      "RUAL\n",
      "Начало обработки нового тикера:  RUAL\n",
      "Получаем экстремумы по дневному графику\n",
      "Общее число данных графика для обработки:  2167\n"
     ]
    },
    {
     "name": "stderr",
     "output_type": "stream",
     "text": [
      "C:\\Users\\Adimin\\AppData\\Local\\Temp\\ipykernel_131648\\2737466279.py:114: FutureWarning: The behavior of .astype from datetime64[ns] to int32 is deprecated. In a future version, this astype will return exactly the specified dtype instead of int64, and will raise if that conversion overflows.\n",
      "  num_logic_df.index = num_logic_df.index.astype(int)\n"
     ]
    },
    {
     "name": "stdout",
     "output_type": "stream",
     "text": [
      "Записываем датасеты:  RUAL\n",
      "LSNG\n",
      "Начало обработки нового тикера:  LSNG\n",
      "Получаем экстремумы по дневному графику\n",
      "Общее число данных графика для обработки:  2328\n"
     ]
    },
    {
     "name": "stderr",
     "output_type": "stream",
     "text": [
      "C:\\Users\\Adimin\\AppData\\Local\\Temp\\ipykernel_131648\\2737466279.py:114: FutureWarning: The behavior of .astype from datetime64[ns] to int32 is deprecated. In a future version, this astype will return exactly the specified dtype instead of int64, and will raise if that conversion overflows.\n",
      "  num_logic_df.index = num_logic_df.index.astype(int)\n"
     ]
    },
    {
     "name": "stdout",
     "output_type": "stream",
     "text": [
      "Записываем датасеты:  LSNG\n",
      "DVEC\n",
      "Начало обработки нового тикера:  DVEC\n",
      "Получаем экстремумы по дневному графику\n",
      "Общее число данных графика для обработки:  2335\n"
     ]
    },
    {
     "name": "stderr",
     "output_type": "stream",
     "text": [
      "C:\\Users\\Adimin\\AppData\\Local\\Temp\\ipykernel_131648\\2737466279.py:114: FutureWarning: The behavior of .astype from datetime64[ns] to int32 is deprecated. In a future version, this astype will return exactly the specified dtype instead of int64, and will raise if that conversion overflows.\n",
      "  num_logic_df.index = num_logic_df.index.astype(int)\n"
     ]
    },
    {
     "name": "stdout",
     "output_type": "stream",
     "text": [
      "Записываем датасеты:  DVEC\n",
      "RTKM\n",
      "Начало обработки нового тикера:  RTKM\n",
      "Получаем экстремумы по дневному графику\n",
      "Общее число данных графика для обработки:  4213\n"
     ]
    },
    {
     "name": "stderr",
     "output_type": "stream",
     "text": [
      "C:\\Users\\Adimin\\AppData\\Local\\Temp\\ipykernel_131648\\2737466279.py:114: FutureWarning: The behavior of .astype from datetime64[ns] to int32 is deprecated. In a future version, this astype will return exactly the specified dtype instead of int64, and will raise if that conversion overflows.\n",
      "  num_logic_df.index = num_logic_df.index.astype(int)\n"
     ]
    },
    {
     "name": "stdout",
     "output_type": "stream",
     "text": [
      "Записываем датасеты:  RTKM\n",
      "ROLO\n",
      "Начало обработки нового тикера:  ROLO\n",
      "Получаем экстремумы по дневному графику\n",
      "Общее число данных графика для обработки:  2150\n",
      "stoch: indicator | EMA_49  k|  50  d|  3   inputs are all NaN\n",
      "stoch: indicator | EMA_50  k|  50  d|  3   inputs are all NaN\n",
      "stoch: indicator | EMA_89  k|  3  d|  3   'NoneType' object has no attribute 'loc'\n",
      "stoch: indicator | EMA_89  k|  5  d|  3   inputs are all NaN\n",
      "stoch: indicator | EMA_89  k|  7  d|  3   inputs are all NaN\n",
      "stoch: indicator | EMA_89  k|  9  d|  3   inputs are all NaN\n",
      "stoch: indicator | EMA_89  k|  14  d|  3   inputs are all NaN\n",
      "stoch: indicator | EMA_89  k|  20  d|  3   inputs are all NaN\n",
      "stoch: indicator | EMA_89  k|  50  d|  3   inputs are all NaN\n",
      "stoch: indicator | KC_50_18_3.2_UPPER  k|  50  d|  3   inputs are all NaN\n",
      "stoch: indicator | KC_50_18_3.2_LOWER  k|  50  d|  3   inputs are all NaN\n",
      "stoch: indicator | BBL_50_2.0  k|  50  d|  3   inputs are all NaN\n",
      "stoch: indicator | BBM_50_2.0  k|  50  d|  3   inputs are all NaN\n",
      "stoch: indicator | BBU_50_2.0  k|  50  d|  3   inputs are all NaN\n",
      "stoch: indicator | BBL_50_3.0  k|  50  d|  3   inputs are all NaN\n",
      "stoch: indicator | BBM_50_3.0  k|  50  d|  3   inputs are all NaN\n",
      "stoch: indicator | BBU_50_3.0  k|  50  d|  3   inputs are all NaN\n"
     ]
    },
    {
     "name": "stderr",
     "output_type": "stream",
     "text": [
      "C:\\Users\\Adimin\\AppData\\Local\\Temp\\ipykernel_131648\\2737466279.py:114: FutureWarning: The behavior of .astype from datetime64[ns] to int32 is deprecated. In a future version, this astype will return exactly the specified dtype instead of int64, and will raise if that conversion overflows.\n",
      "  num_logic_df.index = num_logic_df.index.astype(int)\n"
     ]
    },
    {
     "name": "stdout",
     "output_type": "stream",
     "text": [
      "Ошибка генерации датасета:  ROLO\n",
      "FEES\n",
      "Начало обработки нового тикера:  FEES\n",
      "Получаем экстремумы по дневному графику\n",
      "Общее число данных графика для обработки:  2358\n"
     ]
    },
    {
     "name": "stderr",
     "output_type": "stream",
     "text": [
      "C:\\Users\\Adimin\\AppData\\Local\\Temp\\ipykernel_131648\\2737466279.py:114: FutureWarning: The behavior of .astype from datetime64[ns] to int32 is deprecated. In a future version, this astype will return exactly the specified dtype instead of int64, and will raise if that conversion overflows.\n",
      "  num_logic_df.index = num_logic_df.index.astype(int)\n"
     ]
    },
    {
     "name": "stdout",
     "output_type": "stream",
     "text": [
      "Записываем датасеты:  FEES\n",
      "AFLT\n",
      "Начало обработки нового тикера:  AFLT\n",
      "Получаем экстремумы по дневному графику\n",
      "Общее число данных графика для обработки:  3944\n"
     ]
    },
    {
     "name": "stderr",
     "output_type": "stream",
     "text": [
      "C:\\Users\\Adimin\\AppData\\Local\\Temp\\ipykernel_131648\\2737466279.py:114: FutureWarning: The behavior of .astype from datetime64[ns] to int32 is deprecated. In a future version, this astype will return exactly the specified dtype instead of int64, and will raise if that conversion overflows.\n",
      "  num_logic_df.index = num_logic_df.index.astype(int)\n"
     ]
    },
    {
     "name": "stdout",
     "output_type": "stream",
     "text": [
      "Записываем датасеты:  AFLT\n",
      "FESH\n",
      "Начало обработки нового тикера:  FESH\n",
      "Получаем экстремумы по дневному графику\n",
      "Общее число данных графика для обработки:  2370\n"
     ]
    },
    {
     "name": "stderr",
     "output_type": "stream",
     "text": [
      "C:\\Users\\Adimin\\AppData\\Local\\Temp\\ipykernel_131648\\2737466279.py:114: FutureWarning: The behavior of .astype from datetime64[ns] to int32 is deprecated. In a future version, this astype will return exactly the specified dtype instead of int64, and will raise if that conversion overflows.\n",
      "  num_logic_df.index = num_logic_df.index.astype(int)\n"
     ]
    },
    {
     "name": "stdout",
     "output_type": "stream",
     "text": [
      "Записываем датасеты:  FESH\n",
      "LIFE\n",
      "Начало обработки нового тикера:  LIFE\n",
      "Получаем экстремумы по дневному графику\n",
      "Общее число данных графика для обработки:  2261\n"
     ]
    },
    {
     "name": "stderr",
     "output_type": "stream",
     "text": [
      "C:\\Users\\Adimin\\AppData\\Local\\Temp\\ipykernel_131648\\2737466279.py:114: FutureWarning: The behavior of .astype from datetime64[ns] to int32 is deprecated. In a future version, this astype will return exactly the specified dtype instead of int64, and will raise if that conversion overflows.\n",
      "  num_logic_df.index = num_logic_df.index.astype(int)\n"
     ]
    },
    {
     "name": "stdout",
     "output_type": "stream",
     "text": [
      "Записываем датасеты:  LIFE\n",
      "NMTP\n",
      "Начало обработки нового тикера:  NMTP\n",
      "Получаем экстремумы по дневному графику\n",
      "Общее число данных графика для обработки:  2370\n"
     ]
    },
    {
     "name": "stderr",
     "output_type": "stream",
     "text": [
      "C:\\Users\\Adimin\\AppData\\Local\\Temp\\ipykernel_131648\\2737466279.py:114: FutureWarning: The behavior of .astype from datetime64[ns] to int32 is deprecated. In a future version, this astype will return exactly the specified dtype instead of int64, and will raise if that conversion overflows.\n",
      "  num_logic_df.index = num_logic_df.index.astype(int)\n"
     ]
    },
    {
     "name": "stdout",
     "output_type": "stream",
     "text": [
      "Записываем датасеты:  NMTP\n",
      "SGZH\n",
      "Начало обработки нового тикера:  SGZH\n",
      "Получаем экстремумы по дневному графику\n",
      "Общее число данных графика для обработки:  636\n"
     ]
    },
    {
     "name": "stderr",
     "output_type": "stream",
     "text": [
      "C:\\Users\\Adimin\\AppData\\Local\\Temp\\ipykernel_131648\\2737466279.py:114: FutureWarning: The behavior of .astype from datetime64[ns] to int32 is deprecated. In a future version, this astype will return exactly the specified dtype instead of int64, and will raise if that conversion overflows.\n",
      "  num_logic_df.index = num_logic_df.index.astype(int)\n"
     ]
    },
    {
     "name": "stdout",
     "output_type": "stream",
     "text": [
      "Записываем датасеты:  SGZH\n",
      "SMLT\n",
      "Начало обработки нового тикера:  SMLT\n",
      "Получаем экстремумы по дневному графику\n",
      "Общее число данных графика для обработки:  760\n"
     ]
    },
    {
     "name": "stderr",
     "output_type": "stream",
     "text": [
      "C:\\Users\\Adimin\\AppData\\Local\\Temp\\ipykernel_131648\\2737466279.py:114: FutureWarning: The behavior of .astype from datetime64[ns] to int32 is deprecated. In a future version, this astype will return exactly the specified dtype instead of int64, and will raise if that conversion overflows.\n",
      "  num_logic_df.index = num_logic_df.index.astype(int)\n"
     ]
    },
    {
     "name": "stdout",
     "output_type": "stream",
     "text": [
      "Записываем датасеты:  SMLT\n",
      "HYDR\n",
      "Начало обработки нового тикера:  HYDR\n",
      "Получаем экстремумы по дневному графику\n",
      "Общее число данных графика для обработки:  3813\n"
     ]
    },
    {
     "name": "stderr",
     "output_type": "stream",
     "text": [
      "C:\\Users\\Adimin\\AppData\\Local\\Temp\\ipykernel_131648\\2737466279.py:114: FutureWarning: The behavior of .astype from datetime64[ns] to int32 is deprecated. In a future version, this astype will return exactly the specified dtype instead of int64, and will raise if that conversion overflows.\n",
      "  num_logic_df.index = num_logic_df.index.astype(int)\n"
     ]
    },
    {
     "name": "stdout",
     "output_type": "stream",
     "text": [
      "Записываем датасеты:  HYDR\n",
      "SVAV\n",
      "Начало обработки нового тикера:  SVAV\n",
      "Получаем экстремумы по дневному графику\n",
      "Общее число данных графика для обработки:  2370\n"
     ]
    },
    {
     "name": "stderr",
     "output_type": "stream",
     "text": [
      "C:\\Users\\Adimin\\AppData\\Local\\Temp\\ipykernel_131648\\2737466279.py:114: FutureWarning: The behavior of .astype from datetime64[ns] to int32 is deprecated. In a future version, this astype will return exactly the specified dtype instead of int64, and will raise if that conversion overflows.\n",
      "  num_logic_df.index = num_logic_df.index.astype(int)\n"
     ]
    },
    {
     "name": "stdout",
     "output_type": "stream",
     "text": [
      "Записываем датасеты:  SVAV\n",
      "RNFT\n",
      "Начало обработки нового тикера:  RNFT\n",
      "Получаем экстремумы по дневному графику\n",
      "Общее число данных графика для обработки:  1750\n"
     ]
    },
    {
     "name": "stderr",
     "output_type": "stream",
     "text": [
      "C:\\Users\\Adimin\\AppData\\Local\\Temp\\ipykernel_131648\\2737466279.py:114: FutureWarning: The behavior of .astype from datetime64[ns] to int32 is deprecated. In a future version, this astype will return exactly the specified dtype instead of int64, and will raise if that conversion overflows.\n",
      "  num_logic_df.index = num_logic_df.index.astype(int)\n"
     ]
    },
    {
     "name": "stdout",
     "output_type": "stream",
     "text": [
      "Записываем датасеты:  RNFT\n",
      "IRAO\n",
      "Начало обработки нового тикера:  IRAO\n",
      "Получаем экстремумы по дневному графику\n",
      "Общее число данных графика для обработки:  3033\n"
     ]
    },
    {
     "name": "stderr",
     "output_type": "stream",
     "text": [
      "C:\\Users\\Adimin\\AppData\\Local\\Temp\\ipykernel_131648\\2737466279.py:114: FutureWarning: The behavior of .astype from datetime64[ns] to int32 is deprecated. In a future version, this astype will return exactly the specified dtype instead of int64, and will raise if that conversion overflows.\n",
      "  num_logic_df.index = num_logic_df.index.astype(int)\n"
     ]
    },
    {
     "name": "stdout",
     "output_type": "stream",
     "text": [
      "Записываем датасеты:  IRAO\n",
      "PIKK\n",
      "Начало обработки нового тикера:  PIKK\n",
      "Получаем экстремумы по дневному графику\n",
      "Общее число данных графика для обработки:  3065\n"
     ]
    },
    {
     "name": "stderr",
     "output_type": "stream",
     "text": [
      "C:\\Users\\Adimin\\AppData\\Local\\Temp\\ipykernel_131648\\2737466279.py:114: FutureWarning: The behavior of .astype from datetime64[ns] to int32 is deprecated. In a future version, this astype will return exactly the specified dtype instead of int64, and will raise if that conversion overflows.\n",
      "  num_logic_df.index = num_logic_df.index.astype(int)\n"
     ]
    },
    {
     "name": "stdout",
     "output_type": "stream",
     "text": [
      "Записываем датасеты:  PIKK\n",
      "SELG\n",
      "Начало обработки нового тикера:  SELG\n",
      "Получаем экстремумы по дневному графику\n",
      "Общее число данных графика для обработки:  2504\n"
     ]
    },
    {
     "name": "stderr",
     "output_type": "stream",
     "text": [
      "C:\\Users\\Adimin\\AppData\\Local\\Temp\\ipykernel_131648\\2737466279.py:114: FutureWarning: The behavior of .astype from datetime64[ns] to int32 is deprecated. In a future version, this astype will return exactly the specified dtype instead of int64, and will raise if that conversion overflows.\n",
      "  num_logic_df.index = num_logic_df.index.astype(int)\n"
     ]
    },
    {
     "name": "stdout",
     "output_type": "stream",
     "text": [
      "Записываем датасеты:  SELG\n",
      "UPRO\n",
      "Начало обработки нового тикера:  UPRO\n",
      "Получаем экстремумы по дневному графику\n",
      "Общее число данных графика для обработки:  1854\n"
     ]
    },
    {
     "name": "stderr",
     "output_type": "stream",
     "text": [
      "C:\\Users\\Adimin\\AppData\\Local\\Temp\\ipykernel_131648\\2737466279.py:114: FutureWarning: The behavior of .astype from datetime64[ns] to int32 is deprecated. In a future version, this astype will return exactly the specified dtype instead of int64, and will raise if that conversion overflows.\n",
      "  num_logic_df.index = num_logic_df.index.astype(int)\n"
     ]
    },
    {
     "name": "stdout",
     "output_type": "stream",
     "text": [
      "Записываем датасеты:  UPRO\n",
      "GTRK\n",
      "Начало обработки нового тикера:  GTRK\n",
      "Получаем экстремумы по дневному графику\n",
      "Общее число данных графика для обработки:  1450\n"
     ]
    },
    {
     "name": "stderr",
     "output_type": "stream",
     "text": [
      "C:\\Users\\Adimin\\AppData\\Local\\Temp\\ipykernel_131648\\2737466279.py:114: FutureWarning: The behavior of .astype from datetime64[ns] to int32 is deprecated. In a future version, this astype will return exactly the specified dtype instead of int64, and will raise if that conversion overflows.\n",
      "  num_logic_df.index = num_logic_df.index.astype(int)\n"
     ]
    },
    {
     "name": "stdout",
     "output_type": "stream",
     "text": [
      "Записываем датасеты:  GTRK\n",
      "ABRD\n",
      "Начало обработки нового тикера:  ABRD\n",
      "Получаем экстремумы по дневному графику\n",
      "Общее число данных графика для обработки:  2065\n"
     ]
    },
    {
     "name": "stderr",
     "output_type": "stream",
     "text": [
      "C:\\Users\\Adimin\\AppData\\Local\\Temp\\ipykernel_131648\\2737466279.py:114: FutureWarning: The behavior of .astype from datetime64[ns] to int32 is deprecated. In a future version, this astype will return exactly the specified dtype instead of int64, and will raise if that conversion overflows.\n",
      "  num_logic_df.index = num_logic_df.index.astype(int)\n"
     ]
    },
    {
     "name": "stdout",
     "output_type": "stream",
     "text": [
      "Записываем датасеты:  ABRD\n",
      "LSRG\n",
      "Начало обработки нового тикера:  LSRG\n",
      "Получаем экстремумы по дневному графику\n",
      "Общее число данных графика для обработки:  3204\n"
     ]
    },
    {
     "name": "stderr",
     "output_type": "stream",
     "text": [
      "C:\\Users\\Adimin\\AppData\\Local\\Temp\\ipykernel_131648\\2737466279.py:114: FutureWarning: The behavior of .astype from datetime64[ns] to int32 is deprecated. In a future version, this astype will return exactly the specified dtype instead of int64, and will raise if that conversion overflows.\n",
      "  num_logic_df.index = num_logic_df.index.astype(int)\n"
     ]
    },
    {
     "name": "stdout",
     "output_type": "stream",
     "text": [
      "Записываем датасеты:  LSRG\n",
      "RTKMP\n",
      "Начало обработки нового тикера:  RTKMP\n",
      "Получаем экстремумы по дневному графику\n",
      "Общее число данных графика для обработки:  4211\n"
     ]
    },
    {
     "name": "stderr",
     "output_type": "stream",
     "text": [
      "C:\\Users\\Adimin\\AppData\\Local\\Temp\\ipykernel_131648\\2737466279.py:114: FutureWarning: The behavior of .astype from datetime64[ns] to int32 is deprecated. In a future version, this astype will return exactly the specified dtype instead of int64, and will raise if that conversion overflows.\n",
      "  num_logic_df.index = num_logic_df.index.astype(int)\n"
     ]
    },
    {
     "name": "stdout",
     "output_type": "stream",
     "text": [
      "Записываем датасеты:  RTKMP\n",
      "OGKB\n",
      "Начало обработки нового тикера:  OGKB\n",
      "Получаем экстремумы по дневному графику\n",
      "Общее число данных графика для обработки:  3254\n"
     ]
    },
    {
     "name": "stderr",
     "output_type": "stream",
     "text": [
      "C:\\Users\\Adimin\\AppData\\Local\\Temp\\ipykernel_131648\\2737466279.py:114: FutureWarning: The behavior of .astype from datetime64[ns] to int32 is deprecated. In a future version, this astype will return exactly the specified dtype instead of int64, and will raise if that conversion overflows.\n",
      "  num_logic_df.index = num_logic_df.index.astype(int)\n"
     ]
    },
    {
     "name": "stdout",
     "output_type": "stream",
     "text": [
      "Записываем датасеты:  OGKB\n",
      "CBOM\n",
      "Начало обработки нового тикера:  CBOM\n",
      "Получаем экстремумы по дневному графику\n",
      "Общее число данных графика для обработки:  2108\n"
     ]
    },
    {
     "name": "stderr",
     "output_type": "stream",
     "text": [
      "C:\\Users\\Adimin\\AppData\\Local\\Temp\\ipykernel_131648\\2737466279.py:114: FutureWarning: The behavior of .astype from datetime64[ns] to int32 is deprecated. In a future version, this astype will return exactly the specified dtype instead of int64, and will raise if that conversion overflows.\n",
      "  num_logic_df.index = num_logic_df.index.astype(int)\n"
     ]
    },
    {
     "name": "stdout",
     "output_type": "stream",
     "text": [
      "Записываем датасеты:  CBOM\n",
      "LNZLP\n",
      "Начало обработки нового тикера:  LNZLP\n",
      "Получаем экстремумы по дневному графику\n",
      "Общее число данных графика для обработки:  2368\n"
     ]
    },
    {
     "name": "stderr",
     "output_type": "stream",
     "text": [
      "C:\\Users\\Adimin\\AppData\\Local\\Temp\\ipykernel_131648\\2737466279.py:114: FutureWarning: The behavior of .astype from datetime64[ns] to int32 is deprecated. In a future version, this astype will return exactly the specified dtype instead of int64, and will raise if that conversion overflows.\n",
      "  num_logic_df.index = num_logic_df.index.astype(int)\n"
     ]
    },
    {
     "name": "stdout",
     "output_type": "stream",
     "text": [
      "Записываем датасеты:  LNZLP\n",
      "NKHP\n",
      "Начало обработки нового тикера:  NKHP\n",
      "Получаем экстремумы по дневному графику\n",
      "Общее число данных графика для обработки:  1978\n"
     ]
    },
    {
     "name": "stderr",
     "output_type": "stream",
     "text": [
      "C:\\Users\\Adimin\\AppData\\Local\\Temp\\ipykernel_131648\\2737466279.py:114: FutureWarning: The behavior of .astype from datetime64[ns] to int32 is deprecated. In a future version, this astype will return exactly the specified dtype instead of int64, and will raise if that conversion overflows.\n",
      "  num_logic_df.index = num_logic_df.index.astype(int)\n"
     ]
    },
    {
     "name": "stdout",
     "output_type": "stream",
     "text": [
      "Записываем датасеты:  NKHP\n",
      "SPBE\n",
      "Достигнут предел по размеру датасетов\n"
     ]
    }
   ],
   "source": [
    "if len(tickers_list) > 0:\n",
    "    for ticker in tickers_list:\n",
    "\n",
    "        print(ticker)\n",
    "        if check_size():\n",
    "\n",
    "            #Генерируем датасет\n",
    "            print(\"Начало обработки нового тикера: \", ticker)\n",
    "            try:\n",
    "                main(ticker)\n",
    "            except:\n",
    "                print(\"Ошибка генерации датасета: \", ticker)\n",
    "\n",
    "        else:\n",
    "            break\n",
    "\n",
    "else:\n",
    "    print(\"Список для обработки пуст\")"
   ]
  },
  {
   "cell_type": "markdown",
   "id": "c8cda888",
   "metadata": {},
   "source": [
    "# Сохранение результатов"
   ]
  },
  {
   "cell_type": "code",
   "execution_count": 14,
   "id": "ad9976be",
   "metadata": {},
   "outputs": [],
   "source": [
    "result = {\n",
    "    'task_id': task_id,\n",
    "    'status': 'done'\n",
    "}"
   ]
  },
  {
   "cell_type": "code",
   "execution_count": 15,
   "id": "39c88679",
   "metadata": {},
   "outputs": [],
   "source": [
    "with open('results/data_gen.json', 'w') as f:\n",
    "    json.dump(result, f)"
   ]
  },
  {
   "cell_type": "code",
   "execution_count": 21,
   "id": "eab8430c",
   "metadata": {},
   "outputs": [],
   "source": [
    "# #Соединение с БД\n",
    "# def connect():\n",
    "#     return psycopg2.connect(\n",
    "#         host=global_config.db_host,\n",
    "#         database=global_config.db_database,\n",
    "#         user=global_config.db_user,\n",
    "#         password=global_config.db_password\n",
    "#     )\n",
    "# conn = connect()"
   ]
  },
  {
   "cell_type": "code",
   "execution_count": 22,
   "id": "616a72bf",
   "metadata": {},
   "outputs": [],
   "source": [
    "# #Обновляем данные по задаче\n",
    "# if conn.closed == 1:\n",
    "#     conn = connect()\n",
    "# cur = conn.cursor()\n",
    "\n",
    "# sql = \"\"\" UPDATE public.data_gen_tasks\n",
    "#             SET task_status = %s\n",
    "#             WHERE id = %s\"\"\"\n",
    "# try:\n",
    "#     cur.execute(sql, ('done', task_id))\n",
    "# except:\n",
    "#     print(\"Ошибка записи информации о закрытии задачи в БД\")"
   ]
  },
  {
   "cell_type": "code",
   "execution_count": 23,
   "id": "a7d6a261",
   "metadata": {},
   "outputs": [],
   "source": [
    "# conn.close()"
   ]
  },
  {
   "cell_type": "code",
   "execution_count": null,
   "id": "0bfcf0b7",
   "metadata": {},
   "outputs": [],
   "source": []
  },
  {
   "cell_type": "code",
   "execution_count": null,
   "id": "f1559e07",
   "metadata": {},
   "outputs": [],
   "source": []
  },
  {
   "cell_type": "code",
   "execution_count": null,
   "id": "1c0482c9",
   "metadata": {},
   "outputs": [],
   "source": []
  },
  {
   "cell_type": "code",
   "execution_count": null,
   "id": "53b2587d",
   "metadata": {},
   "outputs": [],
   "source": []
  },
  {
   "cell_type": "code",
   "execution_count": null,
   "id": "6b7bdbc5",
   "metadata": {},
   "outputs": [],
   "source": []
  },
  {
   "cell_type": "code",
   "execution_count": null,
   "id": "ef512e25",
   "metadata": {},
   "outputs": [],
   "source": []
  },
  {
   "cell_type": "code",
   "execution_count": null,
   "id": "2cf3f864",
   "metadata": {},
   "outputs": [],
   "source": []
  },
  {
   "cell_type": "code",
   "execution_count": null,
   "id": "ec1e81ec",
   "metadata": {},
   "outputs": [],
   "source": []
  },
  {
   "cell_type": "code",
   "execution_count": null,
   "id": "c8f6208e",
   "metadata": {},
   "outputs": [],
   "source": []
  },
  {
   "cell_type": "code",
   "execution_count": null,
   "id": "4d8fc4da",
   "metadata": {},
   "outputs": [],
   "source": []
  },
  {
   "cell_type": "code",
   "execution_count": null,
   "id": "d8640071",
   "metadata": {},
   "outputs": [],
   "source": []
  }
 ],
 "metadata": {
  "kernelspec": {
   "display_name": "Python 3 (ipykernel)",
   "language": "python",
   "name": "python3"
  },
  "language_info": {
   "codemirror_mode": {
    "name": "ipython",
    "version": 3
   },
   "file_extension": ".py",
   "mimetype": "text/x-python",
   "name": "python",
   "nbconvert_exporter": "python",
   "pygments_lexer": "ipython3",
   "version": "3.10.8"
  }
 },
 "nbformat": 4,
 "nbformat_minor": 5
}
