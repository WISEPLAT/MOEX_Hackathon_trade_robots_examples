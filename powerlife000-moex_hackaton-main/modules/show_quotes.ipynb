{
 "cells": [
  {
   "cell_type": "code",
   "execution_count": null,
   "id": "c9bf8cf4",
   "metadata": {},
   "outputs": [],
   "source": [
    "#Смотрим исходные данные\n",
    "def show_quotes(quotes):\n",
    "    import matplotlib.dates as mdates\n",
    "    import matplotlib.pyplot as plt\n",
    "    import pandas as pd\n",
    "    from matplotlib.dates import MONDAY, DateFormatter, DayLocator, WeekdayLocator  \n",
    "\n",
    "    from mpl_finance import candlestick_ohlc  #  pip install mpl-finance\n",
    "    import mplfinance as mpf\n",
    "    \n",
    "    fig, ax = plt.subplots(figsize=(26,18))\n",
    "    fig.subplots_adjust(bottom=0.2)\n",
    "    #ax.xaxis.set_major_locator(mondays)\n",
    "    #ax.xaxis.set_minor_locator(alldays)\n",
    "    #ax.xaxis.set_major_formatter(weekFormatter)\n",
    "    ax.xaxis.set_major_formatter(mdates.DateFormatter(\"%d %b %Y\"))\n",
    "    #ax.xaxis.set_minor_formatter(dayFormatter)\n",
    "\n",
    "    # plot_day_summary(ax, quotes, ticksize=3)\n",
    "    candlestick_ohlc(ax, zip(mdates.date2num(quotes.index),\n",
    "                             quotes['Open'], quotes['High'],\n",
    "                             quotes['Low'], quotes['Close']),\n",
    "                     width=4)\n",
    "\n",
    "    ax.xaxis_date()\n",
    "    ax.autoscale_view()\n",
    "    plt.setp(plt.gca().get_xticklabels(), rotation=90, horizontalalignment='right')\n",
    "\n",
    "    plt.show()"
   ]
  }
 ],
 "metadata": {
  "kernelspec": {
   "display_name": "Python 3 (ipykernel)",
   "language": "python",
   "name": "python3"
  },
  "language_info": {
   "codemirror_mode": {
    "name": "ipython",
    "version": 3
   },
   "file_extension": ".py",
   "mimetype": "text/x-python",
   "name": "python",
   "nbconvert_exporter": "python",
   "pygments_lexer": "ipython3",
   "version": "3.10.8"
  }
 },
 "nbformat": 4,
 "nbformat_minor": 5
}
