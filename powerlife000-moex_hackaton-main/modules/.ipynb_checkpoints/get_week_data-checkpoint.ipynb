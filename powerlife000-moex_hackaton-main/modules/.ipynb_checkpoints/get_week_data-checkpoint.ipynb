{
 "cells": [
  {
   "cell_type": "code",
   "execution_count": null,
   "id": "c09f801d",
   "metadata": {},
   "outputs": [],
   "source": [
    "#Недельные данные\n",
    "def start(ticker):\n",
    "    import pandas as pd\n",
    "    from matplotlib.dates import MONDAY, DateFormatter, DayLocator, WeekdayLocator\n",
    "    \n",
    "    mondays = WeekdayLocator(MONDAY)        # major ticks on the mondays\n",
    "    alldays = DayLocator()              # minor ticks on the days\n",
    "    weekFormatter = DateFormatter('%b %d')  # e.g., Jan 12\n",
    "    dayFormatter = DateFormatter('%d')      # e.g., 12\n",
    "\n",
    "    quotes_5d = pd.read_csv('data/'+ticker+'_5d.csv',\n",
    "                         index_col=0,\n",
    "                         parse_dates=True,\n",
    "                         #infer_datetime_format=True\n",
    "                        )\n",
    "    quotes_5d = quotes_5d.dropna()\n",
    "    return quotes_5d"
   ]
  }
 ],
 "metadata": {
  "kernelspec": {
   "display_name": "Python 3 (ipykernel)",
   "language": "python",
   "name": "python3"
  },
  "language_info": {
   "codemirror_mode": {
    "name": "ipython",
    "version": 3
   },
   "file_extension": ".py",
   "mimetype": "text/x-python",
   "name": "python",
   "nbconvert_exporter": "python",
   "pygments_lexer": "ipython3",
   "version": "3.10.8"
  }
 },
 "nbformat": 4,
 "nbformat_minor": 5
}
