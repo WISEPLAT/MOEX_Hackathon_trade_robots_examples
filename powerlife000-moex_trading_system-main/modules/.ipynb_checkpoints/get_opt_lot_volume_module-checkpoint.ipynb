{
 "cells": [
  {
   "cell_type": "code",
   "execution_count": null,
   "id": "0cf749bb",
   "metadata": {},
   "outputs": [],
   "source": [
    "def get_opt_lot_volume(config, usd_rub):\n",
    "    #Минимальный оптимальный объем лота в долларах, для минимизации издержек за комисиию\n",
    "    try:\n",
    "        if config.comission_type == 'percent':\n",
    "            if config.comission_currency == 'usd':\n",
    "                opt_lot_volume = 100*config.min_commission_usd/config.commission_by_percent\n",
    "            elif config.comission_currency == 'rub':\n",
    "                opt_lot_volume_rub = 100*config.min_commission_rub/config.commission_by_percent\n",
    "                opt_lot_volume = opt_lot_volume_rub / usd_rub\n",
    "        elif config.comission_type == 'share':\n",
    "            if config.comission_currency == 'usd':\n",
    "                opt_lot_volume = config.average_shape_price_usd*config.min_commission_usd/config.commission_by_share\n",
    "            elif config.comission_currency == 'rub':\n",
    "                opt_lot_volume = config.average_shape_price_rub*config.min_commission_rub/(config.commission_by_share*usd_rub)\n",
    "        \n",
    "        return opt_lot_volume\n",
    "    except:\n",
    "        print(\"Error get optimum lot volume\")\n",
    "        \n",
    "        return None"
   ]
  }
 ],
 "metadata": {
  "kernelspec": {
   "display_name": "Python 3 (ipykernel)",
   "language": "python",
   "name": "python3"
  },
  "language_info": {
   "codemirror_mode": {
    "name": "ipython",
    "version": 3
   },
   "file_extension": ".py",
   "mimetype": "text/x-python",
   "name": "python",
   "nbconvert_exporter": "python",
   "pygments_lexer": "ipython3",
   "version": "3.10.8"
  }
 },
 "nbformat": 4,
 "nbformat_minor": 5
}
