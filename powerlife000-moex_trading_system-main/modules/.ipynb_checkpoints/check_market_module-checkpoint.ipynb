{
 "cells": [
  {
   "cell_type": "code",
   "execution_count": null,
   "id": "ebe5b2da",
   "metadata": {},
   "outputs": [],
   "source": [
    "def check_market(config, is_notebook):\n",
    "    import pandas_market_calendars as mcal\n",
    "    from datetime import datetime\n",
    "    import pandas as pd\n",
    "    import numpy as np\n",
    "\n",
    "    status = 'closed'\n",
    "\n",
    "    # Create a calendar\n",
    "    nyse = mcal.get_calendar('XMOS')\n",
    "\n",
    "    now = datetime.now().strftime(\"%Y-%m-%d\")\n",
    "\n",
    "    early = nyse.schedule(start_date=now, end_date=now)\n",
    "\n",
    "    if early.shape[0] != 0:\n",
    "        utcnow = datetime.utcnow().strftime(\"%Y-%m-%d %H:%M:%S\")\n",
    "\n",
    "        early['now'] = np.datetime64(utcnow)\n",
    "        early['now'] = early['now'].dt.tz_localize('UTC')\n",
    "\n",
    "        early['check_market'] = (early['now'] >= early['market_open']) & (early['now'] < early['market_close'])\n",
    "\n",
    "        early['time_to_close'] = early['market_close'] - early['now']\n",
    "\n",
    "        if early.shape[0] > 0:\n",
    "            if early.iloc[0]['check_market'] == True:\n",
    "                status = 'open'\n",
    "\n",
    "        time_to_close = early.iloc[0]['time_to_close'].total_seconds()\n",
    "    else:\n",
    "        status = 'closed'\n",
    "        time_to_close = None\n",
    "\n",
    "    return status, time_to_close"
   ]
  }
 ],
 "metadata": {
  "kernelspec": {
   "display_name": "Python 3 (ipykernel)",
   "language": "python",
   "name": "python3"
  },
  "language_info": {
   "codemirror_mode": {
    "name": "ipython",
    "version": 3
   },
   "file_extension": ".py",
   "mimetype": "text/x-python",
   "name": "python",
   "nbconvert_exporter": "python",
   "pygments_lexer": "ipython3",
   "version": "3.10.8"
  }
 },
 "nbformat": 4,
 "nbformat_minor": 5
}
