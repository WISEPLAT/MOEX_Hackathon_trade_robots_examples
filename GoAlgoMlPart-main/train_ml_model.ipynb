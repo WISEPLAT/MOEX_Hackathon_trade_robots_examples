{
 "cells": [
  {
   "cell_type": "markdown",
   "metadata": {},
   "source": [
    "# Демонстрация обучения модели"
   ]
  },
  {
   "cell_type": "code",
   "execution_count": 9,
   "metadata": {},
   "outputs": [],
   "source": [
    "from SimpleDataset import SimpleDataset\n",
    "from NewBacktest import NewBacktest\n",
    "import pandas as pd\n",
    "from TrainModel import TrainModel"
   ]
  },
  {
   "cell_type": "code",
   "execution_count": 10,
   "metadata": {},
   "outputs": [],
   "source": [
    "timestamp = \"10m\" # Гранулярность данных\n",
    "ticker = \"WUSH\" # Акция"
   ]
  },
  {
   "cell_type": "markdown",
   "metadata": {},
   "source": [
    "## Зададим признаки для обучения модели"
   ]
  },
  {
   "cell_type": "code",
   "execution_count": 11,
   "metadata": {},
   "outputs": [],
   "source": [
    "features = {'lags': {'features': ['open', 'close', 'target'], # Выбираем параметры и размеры лагов \n",
    "                     'period': [1, 2, 3]}, \n",
    "\n",
    "            'cma': {'features': ['open', 'close', 'volume']}, # Параметры для построение CMA (без таргета, чтобы избежать лика)\n",
    "\n",
    "            'sma': {'features': ['open', 'close', 'volume'], # Параметры для построения SMA (без таргета, чтобы избежать лика)\n",
    "                    'period': [2, 3, 4, 10, 100]},\n",
    "\n",
    "            'ema': {'features': ['open', 'close', 'volume'], # Параметры для построения EMA (без таргета, чтобы избежать лика)\n",
    "                    'period': [2, 3, 4, 10, 100]},\n",
    "\n",
    "            'green_candles_ratio': {'period': [2, 5, 7, 14]}, # Соотношение зеленых свечей и всех свечей на разных периодах\n",
    "\n",
    "            'red_candles_ratio': {'period': [2, 5, 7, 14]}, # Соотношение красынх свечей и всех свечей на разных периодаъ\n",
    "\n",
    "            'rsi': {'period': [5, 10, 15, 20]},  # Параметры для построения RSI на нескольких периодах\n",
    "\n",
    "            'macd': {'period': [(12, 26)]}, # только (12, 26) # Парамтеры для построения macd\n",
    "\n",
    "            'bollinger': {'period': 10, 'degree_of_lift': 2}, # Параметры для линий Боллинджера\n",
    "\n",
    "            'time_features': {'month':True, # Признаки времени\n",
    "                              'week':True,\n",
    "                              'day_of_month':True,\n",
    "                              'day_of_week':True,\n",
    "                              'hour':True,\n",
    "                              'minute': True},\n",
    "            'model': 'catboost'} # Выбираем модель для обучения"
   ]
  },
  {
   "cell_type": "markdown",
   "metadata": {},
   "source": [
    "## Обучение модели"
   ]
  },
  {
   "cell_type": "code",
   "execution_count": 12,
   "metadata": {},
   "outputs": [],
   "source": [
    "learner = TrainModel(\n",
    "    features=features,\n",
    "    ticker=ticker,\n",
    "    timeframe=timestamp,\n",
    "    model_id=\"test_model_id\",\n",
    "    notebook=True,\n",
    ")"
   ]
  },
  {
   "cell_type": "code",
   "execution_count": 13,
   "metadata": {},
   "outputs": [
    {
     "name": "stdout",
     "output_type": "stream",
     "text": [
      "\u001b[1mtrain\u001b[0m\n",
      "Period from: 2023-03-23 15:49:59 to 2023-10-19 12:39:59\n",
      "Target mean: 2.1e-05\n",
      "Target std: 0.004\n",
      "Target max: 0.075944\n",
      "Target min: -0.053087\n",
      "Shape of sample: (7920, 70)\n",
      "--------------------------------------------------------------------\n",
      "\u001b[1mvalid\u001b[0m\n",
      "Period from: 2023-10-19 12:49:59 to 2023-11-14 15:39:59\n",
      "Target mean: 2.7e-05\n",
      "Target std: 0.003002\n",
      "Target max: 0.034584\n",
      "Target min: -0.035268\n",
      "Shape of sample: (990, 70)\n",
      "--------------------------------------------------------------------\n",
      "\u001b[1mhold-out for backtest\u001b[0m\n",
      "Period from: 2023-11-14 15:49:59 to 2023-12-08 18:39:59\n",
      "Target mean: -6.2e-05\n",
      "Target std: 0.00391\n",
      "Target max: 0.022147\n",
      "Target min: -0.061096\n",
      "Shape of sample: (990, 70)\n",
      "--------------------------------------------------------------------\n",
      "CatBoost RMSE score on validation set: 0.0030001332559561247\n",
      "Threshold from Xtest 0.00016694409573937244\n"
     ]
    }
   ],
   "source": [
    "outp = learner.train()"
   ]
  },
  {
   "cell_type": "markdown",
   "metadata": {},
   "source": [
    "## Backtest на последних свечах"
   ]
  },
  {
   "cell_type": "code",
   "execution_count": 14,
   "metadata": {},
   "outputs": [],
   "source": [
    "PART_OF_SUM_FOR_BUY = 0.1\n",
    "PERCENT_TRAILING = 6\n",
    "START_SUM = 100_000\n",
    "PERC_FOR_STOP = 1.2"
   ]
  },
  {
   "cell_type": "code",
   "execution_count": 15,
   "metadata": {},
   "outputs": [],
   "source": [
    "backtest = NewBacktest(\n",
    "    type=\"ml_model\",\n",
    "    model_id=\"test_model_id\",\n",
    "    ticker=ticker,\n",
    "    timestamp=timestamp,\n",
    "    part_of_sum_for_buy=PART_OF_SUM_FOR_BUY,\n",
    "    percent_trailing=PERCENT_TRAILING,\n",
    "    start_sum=START_SUM,\n",
    "    perc_for_stop=PERC_FOR_STOP,\n",
    "    model_features=outp,\n",
    "    notebook=True,\n",
    ")"
   ]
  },
  {
   "cell_type": "code",
   "execution_count": 16,
   "metadata": {},
   "outputs": [
    {
     "data": {
      "text/plain": [
       "Start                     2023-11-14 15:50:00\n",
       "End                       2023-12-08 18:40:00\n",
       "Duration                     24 days 02:50:00\n",
       "Exposure Time [%]                    99.79798\n",
       "Equity Final [$]                100548.252311\n",
       "Equity Peak [$]                 103802.393753\n",
       "Return [%]                           0.548252\n",
       "Buy & Hold Return [%]               -6.468328\n",
       "Return (Ann.) [%]                    5.771371\n",
       "Volatility (Ann.) [%]                31.14398\n",
       "Sharpe Ratio                         0.185313\n",
       "Sortino Ratio                         0.37542\n",
       "Calmar Ratio                         0.772081\n",
       "Max. Drawdown [%]                   -7.475089\n",
       "Avg. Drawdown [%]                    -2.90175\n",
       "Max. Drawdown Duration       16 days 22:10:00\n",
       "Avg. Drawdown Duration        4 days 00:20:00\n",
       "# Trades                                  797\n",
       "Win Rate [%]                        44.165621\n",
       "Best Trade [%]                        9.64187\n",
       "Worst Trade [%]                     -4.366173\n",
       "Avg. Trade [%]                       0.063492\n",
       "Max. Trade Duration           3 days 23:50:00\n",
       "Avg. Trade Duration           1 days 04:29:00\n",
       "Profit Factor                         1.12762\n",
       "Expectancy [%]                       0.083987\n",
       "SQN                                   0.35394\n",
       "_strategy                          MyStrategy\n",
       "_equity_curve                             ...\n",
       "_trades                        Size  Entry...\n",
       "dtype: object"
      ]
     },
     "execution_count": 16,
     "metadata": {},
     "output_type": "execute_result"
    }
   ],
   "source": [
    "backtest.do_backtest(candles=990)"
   ]
  }
 ],
 "metadata": {
  "kernelspec": {
   "display_name": "main_env",
   "language": "python",
   "name": "python3"
  },
  "language_info": {
   "codemirror_mode": {
    "name": "ipython",
    "version": 3
   },
   "file_extension": ".py",
   "mimetype": "text/x-python",
   "name": "python",
   "nbconvert_exporter": "python",
   "pygments_lexer": "ipython3",
   "version": "3.11.5"
  }
 },
 "nbformat": 4,
 "nbformat_minor": 2
}
