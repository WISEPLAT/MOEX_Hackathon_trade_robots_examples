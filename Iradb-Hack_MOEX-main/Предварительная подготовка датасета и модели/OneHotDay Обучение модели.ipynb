{
 "cells": [
  {
   "cell_type": "code",
   "execution_count": 1,
   "id": "10fca7cd",
   "metadata": {},
   "outputs": [],
   "source": [
    "# загрузка библиотек\n",
    "import pandas as pd\n",
    "import numpy as np\n",
    "from datetime import datetime, timedelta\n",
    "\n",
    "import warnings\n",
    "warnings.filterwarnings(\"ignore\")\n",
    "import matplotlib.pyplot as plt\n",
    "import gc\n",
    "from sklearn.model_selection import train_test_split\n",
    "from sklearn.metrics import mean_absolute_percentage_error\n",
    "from catboost import CatBoostRegressor, Pool\n",
    "import seaborn as sns\n",
    "import matplotlib.pyplot as plt\n",
    "%matplotlib inline\n",
    "pd.set_option('display.max_columns', None)"
   ]
  },
  {
   "cell_type": "code",
   "execution_count": 2,
   "id": "bd467d17",
   "metadata": {},
   "outputs": [],
   "source": [
    "from moexalgo import Market, Ticker\n",
    "# Акции SBER\n",
    "sber = Ticker('SBER')\n",
    "\n",
    "# Все акции\n",
    "stocks = Market('stocks')\n"
   ]
  },
  {
   "cell_type": "code",
   "execution_count": 3,
   "id": "08842432",
   "metadata": {},
   "outputs": [],
   "source": [
    "# считывание данных. условия считывания - разделитель десятичных точка, разделитель столбцов точка в запятой\n",
    "df = pd.read_csv('Norm8Dataset.csv',  sep=';', index_col=None)\n"
   ]
  },
  {
   "cell_type": "code",
   "execution_count": 4,
   "id": "34d2cbe6",
   "metadata": {
    "scrolled": true
   },
   "outputs": [],
   "source": [
    "df['TimeValue'] = pd.to_datetime(df.TimeValue)"
   ]
  },
  {
   "cell_type": "code",
   "execution_count": 5,
   "id": "69412e87",
   "metadata": {},
   "outputs": [],
   "source": [
    "#df['PrognozTime'] = pd.to_datetime(df.PrognozTime)\n"
   ]
  },
  {
   "cell_type": "code",
   "execution_count": 6,
   "id": "d8a4285b",
   "metadata": {
    "scrolled": true
   },
   "outputs": [
    {
     "name": "stdout",
     "output_type": "stream",
     "text": [
      "<class 'pandas.core.frame.DataFrame'>\n",
      "RangeIndex: 7816600 entries, 0 to 7816599\n",
      "Data columns (total 23 columns):\n",
      " #   Column            Dtype         \n",
      "---  ------            -----         \n",
      " 0   TimeValue         datetime64[ns]\n",
      " 1   ticker            object        \n",
      " 2   NormPrognozValue  float64       \n",
      " 3   val               float64       \n",
      " 4   val_b             float64       \n",
      " 5   val_s             float64       \n",
      " 6   disb              float64       \n",
      " 7   vol               int64         \n",
      " 8   trades            int64         \n",
      " 9   trades_b          int64         \n",
      " 10  trades_s          int64         \n",
      " 11  vol_b             int64         \n",
      " 12  vol_s             int64         \n",
      " 13  Normpr_open       float64       \n",
      " 14  Normpr_high       float64       \n",
      " 15  Normpr_low        float64       \n",
      " 16  Normpr_close      float64       \n",
      " 17  Normpr_vwap       float64       \n",
      " 18  Normpr_vwap_b     float64       \n",
      " 19  Normpr_vwap_s     float64       \n",
      " 20  pr_change         float64       \n",
      " 21  pr_std            float64       \n",
      " 22  sector            object        \n",
      "dtypes: datetime64[ns](1), float64(14), int64(6), object(2)\n",
      "memory usage: 1.3+ GB\n"
     ]
    }
   ],
   "source": [
    "df.info()"
   ]
  },
  {
   "cell_type": "code",
   "execution_count": 7,
   "id": "8e884ecc",
   "metadata": {},
   "outputs": [
    {
     "data": {
      "text/plain": [
       "Index(['TimeValue', 'ticker', 'NormPrognozValue', 'val', 'val_b', 'val_s',\n",
       "       'disb', 'vol', 'trades', 'trades_b', 'trades_s', 'vol_b', 'vol_s',\n",
       "       'Normpr_open', 'Normpr_high', 'Normpr_low', 'Normpr_close',\n",
       "       'Normpr_vwap', 'Normpr_vwap_b', 'Normpr_vwap_s', 'pr_change', 'pr_std',\n",
       "       'sector', 'dayofweek', 'quarter', 'month', 'year', 'dayofyear',\n",
       "       'dayofmonth', 'hour', 'minute'],\n",
       "      dtype='object')"
      ]
     },
     "execution_count": 7,
     "metadata": {},
     "output_type": "execute_result"
    }
   ],
   "source": [
    "# Создание категориальных переменных по характеристикам времени для входа в модель CatBoost\n",
    "df['dayofweek'] = df['TimeValue'].dt.dayofweek\n",
    "df['quarter'] = df['TimeValue'].dt.quarter\n",
    "df['month'] = df['TimeValue'].dt.month\n",
    "df['year'] = df['TimeValue'].dt.year\n",
    "df['dayofyear'] = df['TimeValue'].dt.dayofyear\n",
    "df['dayofmonth'] = df['TimeValue'].dt.day\n",
    "#df['weekofyear'] = df['TimeValue'].dt.weekofyear\n",
    "df['hour'] = df['TimeValue'].dt.hour\n",
    "df['minute'] = df['TimeValue'].dt.minute\n",
    "df.columns"
   ]
  },
  {
   "cell_type": "code",
   "execution_count": 8,
   "id": "9c2a0d5d",
   "metadata": {},
   "outputs": [],
   "source": [
    "# Определение входных переменных набора\n",
    "columns_to_train=[ 'ticker',  'vol', 'trades',\n",
    "       'trades_b', 'trades_s', 'vol_b', 'vol_s',\n",
    "       'Normpr_open', 'Normpr_high', 'Normpr_low', 'Normpr_close', 'val','pr_std','sector',\n",
    "       'pr_change', 'val_b', 'val_s', 'disb', 'Normpr_vwap', 'Normpr_vwap_b', 'Normpr_vwap_s',\n",
    "        'dayofweek', 'quarter', 'month', 'year', 'dayofyear',\n",
    "       'dayofmonth',  'hour', 'minute'\n",
    "]"
   ]
  },
  {
   "cell_type": "code",
   "execution_count": 9,
   "id": "4e1a5064",
   "metadata": {},
   "outputs": [],
   "source": [
    "# создание входного набора данных для обучения и выходного набора по значению закрытия на прогнозе\n",
    "\n",
    "#X_train_all=df[columns_to_train]\n",
    "#y_train_all=df['NormPrognozValue']\n",
    "\n"
   ]
  },
  {
   "cell_type": "code",
   "execution_count": 10,
   "id": "3ad434f8",
   "metadata": {},
   "outputs": [],
   "source": [
    "#model_test = CatBoostRegressor()\n",
    "#model_test.load_model('catboost_model.bin')"
   ]
  },
  {
   "cell_type": "code",
   "execution_count": 11,
   "id": "183b2a93",
   "metadata": {},
   "outputs": [],
   "source": [
    "#model_test.predict(X_test)"
   ]
  },
  {
   "cell_type": "code",
   "execution_count": 12,
   "id": "dde36a9b",
   "metadata": {},
   "outputs": [],
   "source": [
    "# Разделение основного набора на обучающую и тестовую выборки\n",
    "#X_train,X_test,y_train,y_test = train_test_split(X_train_all, \n",
    "#                                                 y_train_all, \n",
    "#                                                 test_size=0.15, \n",
    "#                                                 random_state=45,shuffle=True, stratify=X_train_all['ticker'])"
   ]
  },
  {
   "cell_type": "code",
   "execution_count": 13,
   "id": "9a3ee50e",
   "metadata": {},
   "outputs": [],
   "source": [
    "# Разделение основного набора на обучающую и тестовую выборки по TimeSplit\n",
    "Train_all=df.loc[df['TimeValue']<='2023-10-01']\n",
    "Test_all=df.loc[df['TimeValue']>'2023-10-01']       \n",
    "X_train=Train_all[columns_to_train]\n",
    "X_test=Test_all[columns_to_train]\n",
    "y_train=Train_all['NormPrognozValue']\n",
    "y_test=Test_all['NormPrognozValue']"
   ]
  },
  {
   "cell_type": "code",
   "execution_count": 14,
   "id": "56abb575",
   "metadata": {},
   "outputs": [],
   "source": [
    "#testnet=X_test\n",
    "#del df\n",
    "#del X_train_all\n",
    "#del y_train_all\n",
    "#gc.collect()"
   ]
  },
  {
   "cell_type": "code",
   "execution_count": 15,
   "id": "466b154d",
   "metadata": {},
   "outputs": [
    {
     "data": {
      "text/plain": [
       "77"
      ]
     },
     "execution_count": 15,
     "metadata": {},
     "output_type": "execute_result"
    }
   ],
   "source": [
    "del df\n",
    "del Train_all\n",
    "del Test_all\n",
    "gc.collect()"
   ]
  },
  {
   "cell_type": "code",
   "execution_count": 28,
   "id": "efc67411",
   "metadata": {
    "scrolled": false
   },
   "outputs": [
    {
     "name": "stdout",
     "output_type": "stream",
     "text": [
      "0:\tlearn: 0.1810629\ttest: 0.3247250\tbest: 0.3247250 (0)\ttotal: 32.1s\tremaining: 8h 53m 42s\n",
      "1:\tlearn: 0.1681502\ttest: 0.3106414\tbest: 0.3106414 (1)\ttotal: 53.8s\tremaining: 7h 27m 48s\n",
      "2:\tlearn: 0.1558172\ttest: 0.2966995\tbest: 0.2966995 (2)\ttotal: 1m 18s\tremaining: 7h 16m 3s\n",
      "3:\tlearn: 0.1441007\ttest: 0.2828545\tbest: 0.2828545 (3)\ttotal: 1m 38s\tremaining: 6h 50m 23s\n",
      "4:\tlearn: 0.1331081\ttest: 0.2692033\tbest: 0.2692033 (4)\ttotal: 1m 59s\tremaining: 6h 37m 33s\n",
      "5:\tlearn: 0.1228124\ttest: 0.2560144\tbest: 0.2560144 (5)\ttotal: 2m 19s\tremaining: 6h 25m 41s\n",
      "6:\tlearn: 0.1131732\ttest: 0.2428787\tbest: 0.2428787 (6)\ttotal: 2m 39s\tremaining: 6h 16m 40s\n",
      "7:\tlearn: 0.1042063\ttest: 0.2298270\tbest: 0.2298270 (7)\ttotal: 2m 59s\tremaining: 6h 9m 58s\n",
      "8:\tlearn: 0.0959091\ttest: 0.2171798\tbest: 0.2171798 (8)\ttotal: 3m 20s\tremaining: 6h 8m 7s\n",
      "9:\tlearn: 0.0882643\ttest: 0.2047784\tbest: 0.2047784 (9)\ttotal: 3m 42s\tremaining: 6h 6m 23s\n",
      "10:\tlearn: 0.0812412\ttest: 0.1927196\tbest: 0.1927196 (10)\ttotal: 4m 1s\tremaining: 6h 1m 41s\n",
      "11:\tlearn: 0.0748243\ttest: 0.1809322\tbest: 0.1809322 (11)\ttotal: 4m 21s\tremaining: 5h 58m 38s\n",
      "12:\tlearn: 0.0690242\ttest: 0.1699750\tbest: 0.1699750 (12)\ttotal: 4m 42s\tremaining: 5h 57m 28s\n",
      "13:\tlearn: 0.0637739\ttest: 0.1593166\tbest: 0.1593166 (13)\ttotal: 5m 1s\tremaining: 5h 54m 22s\n",
      "14:\tlearn: 0.0591385\ttest: 0.1487582\tbest: 0.1487582 (14)\ttotal: 5m 26s\tremaining: 5h 57m 28s\n",
      "15:\tlearn: 0.0550077\ttest: 0.1387034\tbest: 0.1387034 (15)\ttotal: 5m 46s\tremaining: 5h 55m 30s\n",
      "16:\tlearn: 0.0513532\ttest: 0.1292927\tbest: 0.1292927 (16)\ttotal: 6m 7s\tremaining: 5h 54m\n",
      "17:\tlearn: 0.0481367\ttest: 0.1198293\tbest: 0.1198293 (17)\ttotal: 6m 26s\tremaining: 5h 51m 40s\n",
      "18:\tlearn: 0.0452101\ttest: 0.1107967\tbest: 0.1107967 (18)\ttotal: 6m 44s\tremaining: 5h 47m 40s\n",
      "19:\tlearn: 0.0425199\ttest: 0.1021194\tbest: 0.1021194 (19)\ttotal: 7m 2s\tremaining: 5h 45m 8s\n",
      "20:\tlearn: 0.0400555\ttest: 0.0939550\tbest: 0.0939550 (20)\ttotal: 7m 24s\tremaining: 5h 44m 58s\n",
      "21:\tlearn: 0.0376732\ttest: 0.0862353\tbest: 0.0862353 (21)\ttotal: 7m 44s\tremaining: 5h 43m 58s\n",
      "22:\tlearn: 0.0354958\ttest: 0.0791293\tbest: 0.0791293 (22)\ttotal: 7m 58s\tremaining: 5h 38m 50s\n",
      "23:\tlearn: 0.0334885\ttest: 0.0725687\tbest: 0.0725687 (23)\ttotal: 8m 18s\tremaining: 5h 37m 58s\n",
      "24:\tlearn: 0.0316195\ttest: 0.0664563\tbest: 0.0664563 (24)\ttotal: 8m 37s\tremaining: 5h 36m 26s\n",
      "25:\tlearn: 0.0298851\ttest: 0.0612400\tbest: 0.0612400 (25)\ttotal: 8m 51s\tremaining: 5h 32m 5s\n",
      "26:\tlearn: 0.0282955\ttest: 0.0562899\tbest: 0.0562899 (26)\ttotal: 9m 8s\tremaining: 5h 29m 30s\n",
      "27:\tlearn: 0.0268501\ttest: 0.0518714\tbest: 0.0518714 (27)\ttotal: 9m 27s\tremaining: 5h 28m 11s\n",
      "28:\tlearn: 0.0255484\ttest: 0.0499614\tbest: 0.0499614 (28)\ttotal: 9m 46s\tremaining: 5h 27m 5s\n",
      "29:\tlearn: 0.0243561\ttest: 0.0464798\tbest: 0.0464798 (29)\ttotal: 10m 5s\tremaining: 5h 26m 31s\n",
      "30:\tlearn: 0.0233222\ttest: 0.0452444\tbest: 0.0452444 (30)\ttotal: 10m 23s\tremaining: 5h 24m 54s\n",
      "31:\tlearn: 0.0224096\ttest: 0.0422969\tbest: 0.0422969 (31)\ttotal: 10m 46s\tremaining: 5h 26m 1s\n",
      "32:\tlearn: 0.0216184\ttest: 0.0396153\tbest: 0.0396153 (32)\ttotal: 11m 11s\tremaining: 5h 28m 9s\n",
      "33:\tlearn: 0.0209377\ttest: 0.0371317\tbest: 0.0371317 (33)\ttotal: 11m 31s\tremaining: 5h 27m 26s\n",
      "34:\tlearn: 0.0203326\ttest: 0.0349557\tbest: 0.0349557 (34)\ttotal: 11m 49s\tremaining: 5h 26m 12s\n",
      "35:\tlearn: 0.0197933\ttest: 0.0331030\tbest: 0.0331030 (35)\ttotal: 12m 6s\tremaining: 5h 24m 17s\n",
      "36:\tlearn: 0.0193429\ttest: 0.0312666\tbest: 0.0312666 (36)\ttotal: 12m 24s\tremaining: 5h 22m 46s\n",
      "37:\tlearn: 0.0188851\ttest: 0.0302801\tbest: 0.0302801 (37)\ttotal: 12m 41s\tremaining: 5h 21m 21s\n",
      "38:\tlearn: 0.0185480\ttest: 0.0289893\tbest: 0.0289893 (38)\ttotal: 12m 59s\tremaining: 5h 20m 6s\n",
      "39:\tlearn: 0.0182823\ttest: 0.0281612\tbest: 0.0281612 (39)\ttotal: 13m 20s\tremaining: 5h 20m 18s\n",
      "40:\tlearn: 0.0180139\ttest: 0.0277263\tbest: 0.0277263 (40)\ttotal: 13m 41s\tremaining: 5h 20m 9s\n",
      "41:\tlearn: 0.0178218\ttest: 0.0275934\tbest: 0.0275934 (41)\ttotal: 13m 58s\tremaining: 5h 18m 52s\n",
      "42:\tlearn: 0.0176484\ttest: 0.0269233\tbest: 0.0269233 (42)\ttotal: 14m 19s\tremaining: 5h 18m 39s\n",
      "43:\tlearn: 0.0174938\ttest: 0.0270238\tbest: 0.0269233 (42)\ttotal: 14m 37s\tremaining: 5h 17m 38s\n",
      "44:\tlearn: 0.0173255\ttest: 0.0262043\tbest: 0.0262043 (44)\ttotal: 14m 58s\tremaining: 5h 17m 42s\n",
      "45:\tlearn: 0.0172162\ttest: 0.0259684\tbest: 0.0259684 (45)\ttotal: 15m 17s\tremaining: 5h 17m 8s\n",
      "46:\tlearn: 0.0171418\ttest: 0.0256744\tbest: 0.0256744 (46)\ttotal: 16m 1s\tremaining: 5h 24m 57s\n",
      "47:\tlearn: 0.0168910\ttest: 0.0258106\tbest: 0.0256744 (46)\ttotal: 16m 34s\tremaining: 5h 28m 40s\n",
      "48:\tlearn: 0.0168207\ttest: 0.0258857\tbest: 0.0256744 (46)\ttotal: 16m 55s\tremaining: 5h 28m 19s\n",
      "49:\tlearn: 0.0167473\ttest: 0.0255643\tbest: 0.0255643 (49)\ttotal: 17m 14s\tremaining: 5h 27m 26s\n",
      "50:\tlearn: 0.0166991\ttest: 0.0258448\tbest: 0.0255643 (49)\ttotal: 17m 52s\tremaining: 5h 32m 35s\n",
      "51:\tlearn: 0.0166598\ttest: 0.0258780\tbest: 0.0255643 (49)\ttotal: 18m 16s\tremaining: 5h 33m 3s\n",
      "52:\tlearn: 0.0166366\ttest: 0.0257151\tbest: 0.0255643 (49)\ttotal: 18m 49s\tremaining: 5h 36m 28s\n",
      "53:\tlearn: 0.0165788\ttest: 0.0258957\tbest: 0.0255643 (49)\ttotal: 19m 14s\tremaining: 5h 37m 1s\n",
      "54:\tlearn: 0.0165262\ttest: 0.0259958\tbest: 0.0255643 (49)\ttotal: 19m 34s\tremaining: 5h 36m 23s\n",
      "55:\tlearn: 0.0164780\ttest: 0.0261398\tbest: 0.0255643 (49)\ttotal: 20m 7s\tremaining: 5h 39m 21s\n",
      "56:\tlearn: 0.0164427\ttest: 0.0262081\tbest: 0.0255643 (49)\ttotal: 20m 31s\tremaining: 5h 39m 35s\n",
      "57:\tlearn: 0.0163706\ttest: 0.0265005\tbest: 0.0255643 (49)\ttotal: 20m 50s\tremaining: 5h 38m 28s\n",
      "58:\tlearn: 0.0163375\ttest: 0.0266192\tbest: 0.0255643 (49)\ttotal: 21m 13s\tremaining: 5h 38m 32s\n",
      "59:\tlearn: 0.0162988\ttest: 0.0264192\tbest: 0.0255643 (49)\ttotal: 21m 38s\tremaining: 5h 39m 6s\n",
      "Stopped by overfitting detector  (10 iterations wait)\n",
      "\n",
      "bestTest = 0.02556426472\n",
      "bestIteration = 49\n",
      "\n",
      "Shrink model to first 50 iterations.\n"
     ]
    },
    {
     "data": {
      "text/plain": [
       "<catboost.core.CatBoostRegressor at 0x14455970580>"
      ]
     },
     "execution_count": 28,
     "metadata": {},
     "output_type": "execute_result"
    }
   ],
   "source": [
    "##### Обучаем \n",
    "pool_train_solution = Pool(X_train, y_train,cat_features = ['ticker','sector','dayofweek', 'quarter', 'month', 'year',\n",
    "       'dayofyear', 'dayofmonth', 'hour', 'minute'])\n",
    "\n",
    "pool_test_solution = Pool(X_test,y_test,cat_features = ['ticker','sector','dayofweek', 'quarter', 'month', 'year',\n",
    "       'dayofyear', 'dayofmonth', 'hour', 'minute'])\n",
    "#testnet_solution = Pool(testnet,cat_features = ['ticker','dayofweek', 'quarter', 'month', 'year',\n",
    "#       'dayofyear', 'dayofmonth', 'weekofyear','hour', 'minute'])\n",
    "\n",
    "model_test = CatBoostRegressor(iterations=1000, learning_rate=0.015,task_type='CPU',depth=8, verbose =True, random_seed=64,#max_leaves=128,\n",
    "                               leaf_estimation_method= 'Gradient',bootstrap_type= 'MVS',eval_metric = 'MAPE',loss_function= 'MAPE')\n",
    "#model_test.fit(pool_train_solution,verbose=True)\n",
    "model_test.fit(pool_train_solution,eval_set=pool_test_solution,verbose=True,early_stopping_rounds=10 )"
   ]
  },
  {
   "cell_type": "code",
   "execution_count": 29,
   "id": "82ed7a2e",
   "metadata": {},
   "outputs": [],
   "source": [
    "B=model_test.get_best_iteration()"
   ]
  },
  {
   "cell_type": "code",
   "execution_count": 30,
   "id": "60096f03",
   "metadata": {},
   "outputs": [
    {
     "data": {
      "text/plain": [
       "49"
      ]
     },
     "execution_count": 30,
     "metadata": {},
     "output_type": "execute_result"
    }
   ],
   "source": [
    "B"
   ]
  },
  {
   "cell_type": "code",
   "execution_count": 31,
   "id": "fa911472",
   "metadata": {},
   "outputs": [],
   "source": [
    "A=model_test.get_best_score()\n",
    "#submission.to_csv('submission_catboost.csv', sep=';', index=False)"
   ]
  },
  {
   "cell_type": "code",
   "execution_count": 32,
   "id": "2e2c7d96",
   "metadata": {},
   "outputs": [
    {
     "data": {
      "text/plain": [
       "{'learn': {'MAPE': 0.01629876531661675},\n",
       " 'validation': {'MAPE': 0.025564264722005136}}"
      ]
     },
     "execution_count": 32,
     "metadata": {},
     "output_type": "execute_result"
    }
   ],
   "source": [
    "A"
   ]
  },
  {
   "cell_type": "code",
   "execution_count": 33,
   "id": "c9db93b6",
   "metadata": {},
   "outputs": [],
   "source": [
    "\n",
    "import csv\n",
    "input_variable = [\n",
    "    [A],\n",
    "    [B],]\n",
    "\n",
    "with open('Example.csv', 'w', newline = '') as csvfile:\n",
    "    my_writer = csv.writer(csvfile, delimiter = ' ')\n",
    "    my_writer.writerow(input_variable)"
   ]
  },
  {
   "cell_type": "code",
   "execution_count": 34,
   "id": "c30493e7",
   "metadata": {},
   "outputs": [
    {
     "data": {
      "image/png": "[encoded data removed]",
      "text/plain": [
       "<Figure size 720x720 with 1 Axes>"
      ]
     },
     "metadata": {
      "needs_background": "light"
     },
     "output_type": "display_data"
    }
   ],
   "source": [
    "# Значимость признаков CatBoost в модели прогностики\n",
    "\n",
    "def plot_feature_importance(importance,names,model_type):\n",
    "    \n",
    "    #Create arrays from feature importance and feature names\n",
    "    feature_importance = np.array(importance)\n",
    "    feature_names = np.array(names)\n",
    "    \n",
    "    #Create a DataFrame using a Dictionary\n",
    "    data={'feature_names':feature_names,'feature_importance':feature_importance}\n",
    "    fi_df = pd.DataFrame(data)\n",
    "    \n",
    "    #Sort the DataFrame in order decreasing feature importance\n",
    "    fi_df.sort_values(by=['feature_importance'], ascending=False,inplace=True)\n",
    "    \n",
    "    #Define size of bar plot\n",
    "    plt.figure(figsize=(10,10))\n",
    "    #Plot Searborn bar chart\n",
    "    sns.barplot(x=fi_df['feature_importance'], y=fi_df['feature_names'])\n",
    "    #Add chart labels\n",
    "    plt.title(model_type + 'FEATURE IMPORTANCE')\n",
    "    plt.xlabel('FEATURE IMPORTANCE')\n",
    "    plt.ylabel('FEATURE NAMES')\n",
    "\n",
    "#plot the catboost result\n",
    "plot_feature_importance(model_test.get_feature_importance(),X_train.columns,'CATBOOST')"
   ]
  },
  {
   "cell_type": "code",
   "execution_count": 35,
   "id": "c03b9a8d",
   "metadata": {},
   "outputs": [],
   "source": [
    "# сохранение лучшей модели\n",
    "model_test.save_model('catboost_model_timesplit1.bin')"
   ]
  },
  {
   "cell_type": "code",
   "execution_count": null,
   "id": "ab61f7f4",
   "metadata": {},
   "outputs": [],
   "source": []
  }
 ],
 "metadata": {
  "kernelspec": {
   "display_name": "Python 3 (ipykernel)",
   "language": "python",
   "name": "python3"
  },
  "language_info": {
   "codemirror_mode": {
    "name": "ipython",
    "version": 3
   },
   "file_extension": ".py",
   "mimetype": "text/x-python",
   "name": "python",
   "nbconvert_exporter": "python",
   "pygments_lexer": "ipython3",
   "version": "3.8.1"
  }
 },
 "nbformat": 4,
 "nbformat_minor": 5
}
