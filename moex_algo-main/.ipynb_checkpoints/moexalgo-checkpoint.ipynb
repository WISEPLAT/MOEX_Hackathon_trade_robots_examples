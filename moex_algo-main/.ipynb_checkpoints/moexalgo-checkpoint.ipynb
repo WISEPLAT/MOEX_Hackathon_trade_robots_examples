{
 "cells": [
  {
   "cell_type": "code",
   "execution_count": 2,
   "id": "a72023a3",
   "metadata": {},
   "outputs": [],
   "source": [
    "import json\n",
    "import requests\n",
    "import pandas as pd\n",
    "import matplotlib.pyplot as plt\n",
    "import numpy as np\n",
    "from scipy.optimize import curve_fit"
   ]
  },
  {
   "cell_type": "code",
   "execution_count": 8,
   "id": "f64db9c8",
   "metadata": {},
   "outputs": [],
   "source": [
    "def sin_func(x, a, b):\n",
    "    d = 0.000000001\n",
    "    return a + b * np.sin(x*d)\n",
    "\n",
    "def line_func(x, a, b):\n",
    "    return a*x+b\n",
    "\n",
    "def get_data(trade_code):\n",
    "    base_url = \"http://iss.moex.com/iss/history/engines/stock/markets/shares/boards/TQBR/securities.json\"\n",
    "    response = requests.get(base_url)\n",
    "    result = json.loads(response.text)\n",
    "    col_name = result['history']['columns']\n",
    "    data_shares = pd.DataFrame(columns=col_name)\n",
    "\n",
    "    url_share = f'http://iss.moex.com/iss/history/engines/stock/markets/shares/boards/TQBR/securities/{trade_code}.json'\n",
    "    response = requests.get(url_share)\n",
    "    result = json.loads(response.text)\n",
    "    resp_date = result['history']['data']\n",
    "    data_shares = pd.DataFrame(resp_date, columns=col_name)\n",
    "    a = len(resp_date)\n",
    "\n",
    "    b = 100\n",
    "    while a == 100:\n",
    "        url_opt = '?start=' + str(b)\n",
    "        url_next_page = url_share + url_opt\n",
    "        response = requests.get(url_next_page)\n",
    "        result = json.loads(response.text)\n",
    "        resp_date = result['history']['data']\n",
    "        data_next_page = pd.DataFrame(resp_date, columns=col_name)\n",
    "        data_shares = pd.concat([data_shares, data_next_page], ignore_index=True)\n",
    "        a = len(resp_date)\n",
    "        b = b + 100\n",
    "    return data_shares\n",
    "\n",
    "def show_plot(x1, y1, label_1, x2, y2, label_2):\n",
    "    fig, axs = plt.subplots(1, 1, figsize=(5, 4))\n",
    "    plt.plot(x1, y1, label=label_1)\n",
    "    plt.plot(x2, y2, label=label_2)\n",
    "    plt.legend()\n",
    "    plt.xlabel('Date')\n",
    "    plt.ylabel('Open');\n",
    "\n",
    "def line_sin_predict(size, x, y, curve_type = 'line'):\n",
    "    # return 1 if func is increasing and 0 if func is decreasing\n",
    "    x_sized = x[-size:]\n",
    "    y_sized = y[-size:]\n",
    "    if curve_type == 'line':\n",
    "        params, cov = curve_fit(line_func, x_sized, y_sized)\n",
    "        y_predict = [line_func(x_sized[i], *params) for i in range(len(x_sized))]\n",
    "    else:\n",
    "        params, cov = curve_fit(sin_func, x_sized, y_sized)\n",
    "        y_predict = [sin_func(x_sized[i], *params) for i in range(len(x_sized))]\n",
    "    show_plot(x_sized, y_sized, 'origin', x_sized, y_predict, 'predict')\n",
    "    if y_predict[-1]>y_predict[-2]:\n",
    "        return 1\n",
    "    else:\n",
    "        return 0\n",
    "    \n",
    "def get_prediction(trade_code):\n",
    "    data_shares = get_data(trade_code)\n",
    "    if len(data_shares)==0:\n",
    "        return 2, 2, 2\n",
    "    time_and_open_df = data_shares[['TRADEDATE', 'OPEN']]\n",
    "    time_and_open_df = time_and_open_df.dropna()\n",
    "    time_and_open_df['TRADEDATE'] = time_and_open_df['TRADEDATE'].astype(\"datetime64[ns]\")\n",
    "    time_and_open_df['TRADEDATE'] = time_and_open_df['TRADEDATE'].values.astype(\"float64\")\n",
    "\n",
    "    x = time_and_open_df['TRADEDATE'].to_list()\n",
    "    y = time_and_open_df['OPEN'].to_list()\n",
    "    \n",
    "    short_predict = line_sin_predict(10, x, y, curve_type='line')\n",
    "    middle_predict = line_sin_predict(20, x, y, curve_type='sin')\n",
    "    long_predict = line_sin_predict(0, x, y, curve_type='line')\n",
    "    print(short_predict, middle_predict, long_predict)\n",
    "    \n",
    "    return short_predict, middle_predict, long_predict"
   ]
  },
  {
   "cell_type": "code",
   "execution_count": 9,
   "id": "7dff7d4e",
   "metadata": {},
   "outputs": [
    {
     "data": {
      "text/plain": [
       "(2, 2, 2)"
      ]
     },
     "execution_count": 9,
     "metadata": {},
     "output_type": "execute_result"
    }
   ],
   "source": [
    "get_prediction('RTSM')\n"
   ]
  }
 ],
 "metadata": {
  "kernelspec": {
   "display_name": "task_01",
   "language": "python",
   "name": "task_01"
  },
  "language_info": {
   "codemirror_mode": {
    "name": "ipython",
    "version": 3
   },
   "file_extension": ".py",
   "mimetype": "text/x-python",
   "name": "python",
   "nbconvert_exporter": "python",
   "pygments_lexer": "ipython3",
   "version": "3.11.4"
  }
 },
 "nbformat": 4,
 "nbformat_minor": 5
}
