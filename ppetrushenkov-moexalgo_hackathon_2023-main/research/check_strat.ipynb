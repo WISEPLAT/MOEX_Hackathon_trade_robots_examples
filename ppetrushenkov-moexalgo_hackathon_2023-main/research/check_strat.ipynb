{
 "cells": [
  {
   "cell_type": "code",
   "execution_count": 1,
   "metadata": {},
   "outputs": [],
   "source": [
    "from backtesting import Backtest, Strategy\n",
    "from backtesting.lib import crossover, resample_apply\n",
    "import pandas_ta as pta\n",
    "import pandas as pd"
   ]
  },
  {
   "cell_type": "code",
   "execution_count": 2,
   "metadata": {},
   "outputs": [],
   "source": [
    "def load_ticker_data(path2data: str):\n",
    "    data = pd.read_csv(path2data)\n",
    "    data = data[['begin', 'open', 'high', 'low', 'close', 'volume']]\n",
    "    data.columns = ['Date', 'Open', 'High', 'Low', 'Close', 'Volume']\n",
    "    data['Date'] = pd.to_datetime(data['Date'])\n",
    "    data.set_index('Date', inplace=True)\n",
    "    return data"
   ]
  },
  {
   "cell_type": "code",
   "execution_count": 17,
   "metadata": {},
   "outputs": [
    {
     "data": {
      "text/html": [
       "<div>\n",
       "<style scoped>\n",
       "    .dataframe tbody tr th:only-of-type {\n",
       "        vertical-align: middle;\n",
       "    }\n",
       "\n",
       "    .dataframe tbody tr th {\n",
       "        vertical-align: top;\n",
       "    }\n",
       "\n",
       "    .dataframe thead th {\n",
       "        text-align: right;\n",
       "    }\n",
       "</style>\n",
       "<table border=\"1\" class=\"dataframe\">\n",
       "  <thead>\n",
       "    <tr style=\"text-align: right;\">\n",
       "      <th></th>\n",
       "      <th>Open</th>\n",
       "      <th>High</th>\n",
       "      <th>Low</th>\n",
       "      <th>Close</th>\n",
       "      <th>Volume</th>\n",
       "    </tr>\n",
       "    <tr>\n",
       "      <th>Date</th>\n",
       "      <th></th>\n",
       "      <th></th>\n",
       "      <th></th>\n",
       "      <th></th>\n",
       "      <th></th>\n",
       "    </tr>\n",
       "  </thead>\n",
       "  <tbody>\n",
       "    <tr>\n",
       "      <th>2010-01-11</th>\n",
       "      <td>86.56</td>\n",
       "      <td>88.17</td>\n",
       "      <td>85.51</td>\n",
       "      <td>86.69</td>\n",
       "      <td>149200144.0</td>\n",
       "    </tr>\n",
       "    <tr>\n",
       "      <th>2010-01-12</th>\n",
       "      <td>86.55</td>\n",
       "      <td>86.77</td>\n",
       "      <td>84.90</td>\n",
       "      <td>85.00</td>\n",
       "      <td>130321911.0</td>\n",
       "    </tr>\n",
       "    <tr>\n",
       "      <th>2010-01-13</th>\n",
       "      <td>84.30</td>\n",
       "      <td>87.23</td>\n",
       "      <td>84.10</td>\n",
       "      <td>86.61</td>\n",
       "      <td>128818253.0</td>\n",
       "    </tr>\n",
       "    <tr>\n",
       "      <th>2010-01-14</th>\n",
       "      <td>87.50</td>\n",
       "      <td>87.87</td>\n",
       "      <td>86.75</td>\n",
       "      <td>87.55</td>\n",
       "      <td>111469807.0</td>\n",
       "    </tr>\n",
       "    <tr>\n",
       "      <th>2010-01-15</th>\n",
       "      <td>87.50</td>\n",
       "      <td>88.67</td>\n",
       "      <td>87.16</td>\n",
       "      <td>88.15</td>\n",
       "      <td>142265882.0</td>\n",
       "    </tr>\n",
       "  </tbody>\n",
       "</table>\n",
       "</div>"
      ],
      "text/plain": [
       "             Open   High    Low  Close       Volume\n",
       "Date                                               \n",
       "2010-01-11  86.56  88.17  85.51  86.69  149200144.0\n",
       "2010-01-12  86.55  86.77  84.90  85.00  130321911.0\n",
       "2010-01-13  84.30  87.23  84.10  86.61  128818253.0\n",
       "2010-01-14  87.50  87.87  86.75  87.55  111469807.0\n",
       "2010-01-15  87.50  88.67  87.16  88.15  142265882.0"
      ]
     },
     "execution_count": 17,
     "metadata": {},
     "output_type": "execute_result"
    }
   ],
   "source": [
    "data = load_ticker_data('data/d1/SBER.csv')\n",
    "data.head()"
   ]
  },
  {
   "cell_type": "code",
   "execution_count": 18,
   "metadata": {},
   "outputs": [],
   "source": [
    "def ma(price, period=21):\n",
    "    return pta.sma(price, period).to_numpy()"
   ]
  },
  {
   "cell_type": "code",
   "execution_count": 19,
   "metadata": {},
   "outputs": [],
   "source": [
    "class SmaCross(Strategy):\n",
    "    # Define the two MA lags as *class variables*\n",
    "    # for later optimization\n",
    "    n1 = 21\n",
    "    n2 = 252\n",
    "    \n",
    "    def init(self):\n",
    "        # Precompute the two moving averages\n",
    "        self.sma1 = self.I(ma, self.data.Close.s, self.n1)\n",
    "        self.sma2 = self.I(ma, self.data.Close.s, self.n2)\n",
    "    \n",
    "    def next(self):\n",
    "        # If sma1 crosses above sma2, close any existing\n",
    "        # short trades, and buy the asset\n",
    "        if crossover(self.sma1, self.sma2):\n",
    "            self.position.close()\n",
    "            self.buy()\n",
    "\n",
    "        # Else, if sma1 crosses below sma2, close any existing\n",
    "        # long trades, and sell the asset\n",
    "        elif crossover(self.sma2, self.sma1):\n",
    "            self.position.close()\n",
    "            self.sell()"
   ]
  },
  {
   "cell_type": "code",
   "execution_count": 20,
   "metadata": {},
   "outputs": [
    {
     "name": "stdout",
     "output_type": "stream",
     "text": [
      "Start                     2010-01-11 00:00:00\n",
      "End                       2023-12-06 00:00:00\n",
      "Duration                   5077 days 00:00:00\n",
      "Exposure Time [%]                   88.586177\n",
      "Equity Final [$]                  14397.43576\n",
      "Equity Peak [$]                   14750.86576\n",
      "Return [%]                          43.974358\n",
      "Buy & Hold Return [%]               209.23982\n",
      "Return (Ann.) [%]                    2.668926\n",
      "Volatility (Ann.) [%]               28.455693\n",
      "Sharpe Ratio                         0.093792\n",
      "Sortino Ratio                        0.144266\n",
      "Calmar Ratio                         0.039527\n",
      "Max. Drawdown [%]                  -67.521995\n",
      "Avg. Drawdown [%]                  -12.093506\n",
      "Max. Drawdown Duration     2311 days 00:00:00\n",
      "Avg. Drawdown Duration      320 days 00:00:00\n",
      "# Trades                                   24\n",
      "Win Rate [%]                             25.0\n",
      "Best Trade [%]                       90.81201\n",
      "Worst Trade [%]                    -24.372456\n",
      "Avg. Trade [%]                        1.59589\n",
      "Max. Trade Duration         702 days 00:00:00\n",
      "Avg. Trade Duration         188 days 00:00:00\n",
      "Profit Factor                        1.680433\n",
      "Expectancy [%]                       4.718473\n",
      "SQN                                  0.463293\n",
      "_strategy                            SmaCross\n",
      "_equity_curve                             ...\n",
      "_trades                       Size  EntryB...\n",
      "dtype: object\n"
     ]
    }
   ],
   "source": [
    "bt = Backtest(data, SmaCross, commission=.002, exclusive_orders=True)\n",
    "stats = bt.run()\n",
    "print(stats)"
   ]
  },
  {
   "cell_type": "code",
   "execution_count": 21,
   "metadata": {},
   "outputs": [],
   "source": [
    "import os"
   ]
  },
  {
   "cell_type": "code",
   "execution_count": 41,
   "metadata": {},
   "outputs": [
    {
     "name": "stdout",
     "output_type": "stream",
     "text": [
      "ELFV.csv\n",
      "Indicator \"ma(C,252)\" errored with exception: 'NoneType' object has no attribute 'to_numpy'\n"
     ]
    },
    {
     "name": "stderr",
     "output_type": "stream",
     "text": [
      "/tmp/ipykernel_19493/2126137720.py:7: UserWarning: Some prices are larger than initial cash value. Note that fractional trading is not supported. If you want to trade Bitcoin, increase initial cash, or trade μBTC or satoshis instead (GH-134).\n",
      "  bt = Backtest(data, SmaCross, commission=.002, exclusive_orders=True)\n",
      "/tmp/ipykernel_19493/2126137720.py:7: UserWarning: Some prices are larger than initial cash value. Note that fractional trading is not supported. If you want to trade Bitcoin, increase initial cash, or trade μBTC or satoshis instead (GH-134).\n",
      "  bt = Backtest(data, SmaCross, commission=.002, exclusive_orders=True)\n",
      "/tmp/ipykernel_19493/2126137720.py:7: UserWarning: Some prices are larger than initial cash value. Note that fractional trading is not supported. If you want to trade Bitcoin, increase initial cash, or trade μBTC or satoshis instead (GH-134).\n",
      "  bt = Backtest(data, SmaCross, commission=.002, exclusive_orders=True)\n",
      "/tmp/ipykernel_19493/2126137720.py:7: UserWarning: Some prices are larger than initial cash value. Note that fractional trading is not supported. If you want to trade Bitcoin, increase initial cash, or trade μBTC or satoshis instead (GH-134).\n",
      "  bt = Backtest(data, SmaCross, commission=.002, exclusive_orders=True)\n",
      "/tmp/ipykernel_19493/2126137720.py:7: UserWarning: Some prices are larger than initial cash value. Note that fractional trading is not supported. If you want to trade Bitcoin, increase initial cash, or trade μBTC or satoshis instead (GH-134).\n",
      "  bt = Backtest(data, SmaCross, commission=.002, exclusive_orders=True)\n"
     ]
    },
    {
     "name": "stdout",
     "output_type": "stream",
     "text": [
      "GAZS.csv\n",
      "Indicator \"ma(C,21)\" errored with exception: 'NoneType' object has no attribute 'to_numpy'\n"
     ]
    },
    {
     "name": "stderr",
     "output_type": "stream",
     "text": [
      "/tmp/ipykernel_19493/2126137720.py:7: UserWarning: Some prices are larger than initial cash value. Note that fractional trading is not supported. If you want to trade Bitcoin, increase initial cash, or trade μBTC or satoshis instead (GH-134).\n",
      "  bt = Backtest(data, SmaCross, commission=.002, exclusive_orders=True)\n",
      "/tmp/ipykernel_19493/2126137720.py:7: UserWarning: Some prices are larger than initial cash value. Note that fractional trading is not supported. If you want to trade Bitcoin, increase initial cash, or trade μBTC or satoshis instead (GH-134).\n",
      "  bt = Backtest(data, SmaCross, commission=.002, exclusive_orders=True)\n",
      "/tmp/ipykernel_19493/2126137720.py:7: UserWarning: Some prices are larger than initial cash value. Note that fractional trading is not supported. If you want to trade Bitcoin, increase initial cash, or trade μBTC or satoshis instead (GH-134).\n",
      "  bt = Backtest(data, SmaCross, commission=.002, exclusive_orders=True)\n",
      "/tmp/ipykernel_19493/2126137720.py:7: UserWarning: Some prices are larger than initial cash value. Note that fractional trading is not supported. If you want to trade Bitcoin, increase initial cash, or trade μBTC or satoshis instead (GH-134).\n",
      "  bt = Backtest(data, SmaCross, commission=.002, exclusive_orders=True)\n",
      "/tmp/ipykernel_19493/2126137720.py:7: UserWarning: Some prices are larger than initial cash value. Note that fractional trading is not supported. If you want to trade Bitcoin, increase initial cash, or trade μBTC or satoshis instead (GH-134).\n",
      "  bt = Backtest(data, SmaCross, commission=.002, exclusive_orders=True)\n",
      "/home/statixx/anaconda3/envs/algo/lib/python3.11/site-packages/backtesting/backtesting.py:149: RuntimeWarning: divide by zero encountered in divide\n",
      "  x = value / self._data.Close\n",
      "/tmp/ipykernel_19493/2126137720.py:7: UserWarning: Some prices are larger than initial cash value. Note that fractional trading is not supported. If you want to trade Bitcoin, increase initial cash, or trade μBTC or satoshis instead (GH-134).\n",
      "  bt = Backtest(data, SmaCross, commission=.002, exclusive_orders=True)\n",
      "/tmp/ipykernel_19493/2126137720.py:7: UserWarning: Some prices are larger than initial cash value. Note that fractional trading is not supported. If you want to trade Bitcoin, increase initial cash, or trade μBTC or satoshis instead (GH-134).\n",
      "  bt = Backtest(data, SmaCross, commission=.002, exclusive_orders=True)\n"
     ]
    },
    {
     "name": "stdout",
     "output_type": "stream",
     "text": [
      "EUTR.csv\n",
      "Indicator \"ma(C,21)\" errored with exception: 'NoneType' object has no attribute 'to_numpy'\n",
      "ASTR.csv\n",
      "Indicator \"ma(C,252)\" errored with exception: 'NoneType' object has no attribute 'to_numpy'\n",
      "UGLD.csv\n",
      "Indicator \"ma(C,21)\" errored with exception: 'NoneType' object has no attribute 'to_numpy'\n",
      "GECO.csv\n",
      "Indicator \"ma(C,252)\" errored with exception: 'NoneType' object has no attribute 'to_numpy'\n"
     ]
    },
    {
     "name": "stderr",
     "output_type": "stream",
     "text": [
      "/tmp/ipykernel_19493/2126137720.py:7: UserWarning: Some prices are larger than initial cash value. Note that fractional trading is not supported. If you want to trade Bitcoin, increase initial cash, or trade μBTC or satoshis instead (GH-134).\n",
      "  bt = Backtest(data, SmaCross, commission=.002, exclusive_orders=True)\n",
      "/tmp/ipykernel_19493/2126137720.py:7: UserWarning: Some prices are larger than initial cash value. Note that fractional trading is not supported. If you want to trade Bitcoin, increase initial cash, or trade μBTC or satoshis instead (GH-134).\n",
      "  bt = Backtest(data, SmaCross, commission=.002, exclusive_orders=True)\n",
      "/tmp/ipykernel_19493/2126137720.py:7: UserWarning: Some prices are larger than initial cash value. Note that fractional trading is not supported. If you want to trade Bitcoin, increase initial cash, or trade μBTC or satoshis instead (GH-134).\n",
      "  bt = Backtest(data, SmaCross, commission=.002, exclusive_orders=True)\n",
      "/tmp/ipykernel_19493/2126137720.py:7: UserWarning: Some prices are larger than initial cash value. Note that fractional trading is not supported. If you want to trade Bitcoin, increase initial cash, or trade μBTC or satoshis instead (GH-134).\n",
      "  bt = Backtest(data, SmaCross, commission=.002, exclusive_orders=True)\n",
      "/tmp/ipykernel_19493/2126137720.py:7: UserWarning: Some prices are larger than initial cash value. Note that fractional trading is not supported. If you want to trade Bitcoin, increase initial cash, or trade μBTC or satoshis instead (GH-134).\n",
      "  bt = Backtest(data, SmaCross, commission=.002, exclusive_orders=True)\n",
      "/tmp/ipykernel_19493/2126137720.py:7: UserWarning: Some prices are larger than initial cash value. Note that fractional trading is not supported. If you want to trade Bitcoin, increase initial cash, or trade μBTC or satoshis instead (GH-134).\n",
      "  bt = Backtest(data, SmaCross, commission=.002, exclusive_orders=True)\n"
     ]
    },
    {
     "name": "stdout",
     "output_type": "stream",
     "text": [
      "CARM.csv\n",
      "Indicator \"ma(C,252)\" errored with exception: 'NoneType' object has no attribute 'to_numpy'\n",
      "HNFG.csv\n",
      "Indicator \"ma(C,252)\" errored with exception: 'NoneType' object has no attribute 'to_numpy'\n",
      "GAZT.csv\n",
      "Indicator \"ma(C,21)\" errored with exception: 'NoneType' object has no attribute 'to_numpy'\n"
     ]
    },
    {
     "name": "stderr",
     "output_type": "stream",
     "text": [
      "/tmp/ipykernel_19493/2126137720.py:7: UserWarning: Some prices are larger than initial cash value. Note that fractional trading is not supported. If you want to trade Bitcoin, increase initial cash, or trade μBTC or satoshis instead (GH-134).\n",
      "  bt = Backtest(data, SmaCross, commission=.002, exclusive_orders=True)\n"
     ]
    },
    {
     "name": "stdout",
     "output_type": "stream",
     "text": [
      "GAZC.csv\n",
      "Indicator \"ma(C,21)\" errored with exception: 'NoneType' object has no attribute 'to_numpy'\n"
     ]
    },
    {
     "name": "stderr",
     "output_type": "stream",
     "text": [
      "/tmp/ipykernel_19493/2126137720.py:7: UserWarning: Some prices are larger than initial cash value. Note that fractional trading is not supported. If you want to trade Bitcoin, increase initial cash, or trade μBTC or satoshis instead (GH-134).\n",
      "  bt = Backtest(data, SmaCross, commission=.002, exclusive_orders=True)\n",
      "/tmp/ipykernel_19493/2126137720.py:7: UserWarning: Some prices are larger than initial cash value. Note that fractional trading is not supported. If you want to trade Bitcoin, increase initial cash, or trade μBTC or satoshis instead (GH-134).\n",
      "  bt = Backtest(data, SmaCross, commission=.002, exclusive_orders=True)\n",
      "/tmp/ipykernel_19493/2126137720.py:7: UserWarning: Some prices are larger than initial cash value. Note that fractional trading is not supported. If you want to trade Bitcoin, increase initial cash, or trade μBTC or satoshis instead (GH-134).\n",
      "  bt = Backtest(data, SmaCross, commission=.002, exclusive_orders=True)\n"
     ]
    },
    {
     "name": "stdout",
     "output_type": "stream",
     "text": [
      "SOFL.csv\n",
      "Indicator \"ma(C,252)\" errored with exception: 'NoneType' object has no attribute 'to_numpy'\n"
     ]
    },
    {
     "name": "stderr",
     "output_type": "stream",
     "text": [
      "/tmp/ipykernel_19493/2126137720.py:7: UserWarning: Some prices are larger than initial cash value. Note that fractional trading is not supported. If you want to trade Bitcoin, increase initial cash, or trade μBTC or satoshis instead (GH-134).\n",
      "  bt = Backtest(data, SmaCross, commission=.002, exclusive_orders=True)\n",
      "/tmp/ipykernel_19493/2126137720.py:7: UserWarning: Some prices are larger than initial cash value. Note that fractional trading is not supported. If you want to trade Bitcoin, increase initial cash, or trade μBTC or satoshis instead (GH-134).\n",
      "  bt = Backtest(data, SmaCross, commission=.002, exclusive_orders=True)\n"
     ]
    },
    {
     "name": "stdout",
     "output_type": "stream",
     "text": [
      "WUSH.csv\n",
      "Indicator \"ma(C,252)\" errored with exception: 'NoneType' object has no attribute 'to_numpy'\n"
     ]
    },
    {
     "name": "stderr",
     "output_type": "stream",
     "text": [
      "/tmp/ipykernel_19493/2126137720.py:7: UserWarning: Some prices are larger than initial cash value. Note that fractional trading is not supported. If you want to trade Bitcoin, increase initial cash, or trade μBTC or satoshis instead (GH-134).\n",
      "  bt = Backtest(data, SmaCross, commission=.002, exclusive_orders=True)\n"
     ]
    }
   ],
   "source": [
    "processed_tickers = []\n",
    "tickers_stats = []\n",
    "tickers = os.listdir('data/d1/')\n",
    "for ticker in tickers:\n",
    "    try:\n",
    "        data = load_ticker_data(f'data/d1/{ticker}')\n",
    "        bt = Backtest(data, SmaCross, commission=.002, exclusive_orders=True)\n",
    "        stats = bt.run()\n",
    "        tickers_stats.append(stats)\n",
    "        processed_tickers.append(ticker)\n",
    "    except Exception as e:\n",
    "        print(ticker)\n",
    "        print(e)"
   ]
  },
  {
   "cell_type": "code",
   "execution_count": 36,
   "metadata": {},
   "outputs": [],
   "source": [
    "returns = [s['Return [%]'] for s in tickers_stats]\n",
    "drawdown = [s['Max. Drawdown [%]'] for s in tickers_stats]"
   ]
  },
  {
   "cell_type": "code",
   "execution_count": 33,
   "metadata": {},
   "outputs": [],
   "source": [
    "import matplotlib.pyplot as plt"
   ]
  },
  {
   "cell_type": "code",
   "execution_count": 37,
   "metadata": {},
   "outputs": [
    {
     "data": {
      "text/plain": [
       "<Axes: >"
      ]
     },
     "execution_count": 37,
     "metadata": {},
     "output_type": "execute_result"
    },
    {
     "data": {
      "image/png": "[encoded data removed]",
      "text/plain": [
       "<Figure size 640x480 with 1 Axes>"
      ]
     },
     "metadata": {},
     "output_type": "display_data"
    }
   ],
   "source": [
    "pd.Series(drawdown).hist(bins=25)"
   ]
  },
  {
   "cell_type": "code",
   "execution_count": 42,
   "metadata": {},
   "outputs": [
    {
     "data": {
      "text/html": [
       "<div>\n",
       "<style scoped>\n",
       "    .dataframe tbody tr th:only-of-type {\n",
       "        vertical-align: middle;\n",
       "    }\n",
       "\n",
       "    .dataframe tbody tr th {\n",
       "        vertical-align: top;\n",
       "    }\n",
       "\n",
       "    .dataframe thead th {\n",
       "        text-align: right;\n",
       "    }\n",
       "</style>\n",
       "<table border=\"1\" class=\"dataframe\">\n",
       "  <thead>\n",
       "    <tr style=\"text-align: right;\">\n",
       "      <th></th>\n",
       "      <th>Start</th>\n",
       "      <th>End</th>\n",
       "      <th>Duration</th>\n",
       "      <th>Exposure Time [%]</th>\n",
       "      <th>Equity Final [$]</th>\n",
       "      <th>Equity Peak [$]</th>\n",
       "      <th>Return [%]</th>\n",
       "      <th>Buy &amp; Hold Return [%]</th>\n",
       "      <th>Return (Ann.) [%]</th>\n",
       "      <th>Volatility (Ann.) [%]</th>\n",
       "      <th>...</th>\n",
       "      <th>Avg. Trade [%]</th>\n",
       "      <th>Max. Trade Duration</th>\n",
       "      <th>Avg. Trade Duration</th>\n",
       "      <th>Profit Factor</th>\n",
       "      <th>Expectancy [%]</th>\n",
       "      <th>SQN</th>\n",
       "      <th>_strategy</th>\n",
       "      <th>_equity_curve</th>\n",
       "      <th>_trades</th>\n",
       "      <th>ticker</th>\n",
       "    </tr>\n",
       "  </thead>\n",
       "  <tbody>\n",
       "    <tr>\n",
       "      <th>0</th>\n",
       "      <td>2014-06-09</td>\n",
       "      <td>2023-12-06</td>\n",
       "      <td>3467 days</td>\n",
       "      <td>83.851976</td>\n",
       "      <td>19536.090700</td>\n",
       "      <td>19650.4907</td>\n",
       "      <td>95.360907</td>\n",
       "      <td>477.323395</td>\n",
       "      <td>7.354555</td>\n",
       "      <td>29.194693</td>\n",
       "      <td>...</td>\n",
       "      <td>6.467166</td>\n",
       "      <td>572 days</td>\n",
       "      <td>265 days</td>\n",
       "      <td>2.481104</td>\n",
       "      <td>11.208505</td>\n",
       "      <td>0.739099</td>\n",
       "      <td>SmaCross</td>\n",
       "      <td>Equity  DrawdownPct DrawdownDu...</td>\n",
       "      <td>Size  EntryBar  ExitBar  EntryPrice  ExitP...</td>\n",
       "      <td>SIBN.csv</td>\n",
       "    </tr>\n",
       "    <tr>\n",
       "      <th>1</th>\n",
       "      <td>2020-10-29</td>\n",
       "      <td>2023-12-06</td>\n",
       "      <td>1133 days</td>\n",
       "      <td>54.687500</td>\n",
       "      <td>13751.683000</td>\n",
       "      <td>14488.1830</td>\n",
       "      <td>37.516830</td>\n",
       "      <td>299.422875</td>\n",
       "      <td>11.019180</td>\n",
       "      <td>28.592388</td>\n",
       "      <td>...</td>\n",
       "      <td>21.314387</td>\n",
       "      <td>357 days</td>\n",
       "      <td>302 days</td>\n",
       "      <td>51.041084</td>\n",
       "      <td>23.817149</td>\n",
       "      <td>0.961999</td>\n",
       "      <td>SmaCross</td>\n",
       "      <td>Equity  DrawdownPct DrawdownDur...</td>\n",
       "      <td>Size  EntryBar  ExitBar  EntryPrice  ExitPr...</td>\n",
       "      <td>SMLT.csv</td>\n",
       "    </tr>\n",
       "    <tr>\n",
       "      <th>2</th>\n",
       "      <td>2014-07-15</td>\n",
       "      <td>2023-12-06</td>\n",
       "      <td>3431 days</td>\n",
       "      <td>81.686430</td>\n",
       "      <td>901.118400</td>\n",
       "      <td>11983.3660</td>\n",
       "      <td>-90.988816</td>\n",
       "      <td>970.769231</td>\n",
       "      <td>-32.936606</td>\n",
       "      <td>91.617617</td>\n",
       "      <td>...</td>\n",
       "      <td>-14.244639</td>\n",
       "      <td>503 days</td>\n",
       "      <td>135 days</td>\n",
       "      <td>0.700588</td>\n",
       "      <td>-5.390019</td>\n",
       "      <td>-2.440929</td>\n",
       "      <td>SmaCross</td>\n",
       "      <td>Equity  DrawdownPct DrawdownDu...</td>\n",
       "      <td>Size  EntryBar  ExitBar  EntryPrice  ExitP...</td>\n",
       "      <td>VRSBP.csv</td>\n",
       "    </tr>\n",
       "    <tr>\n",
       "      <th>3</th>\n",
       "      <td>2014-06-09</td>\n",
       "      <td>2023-12-06</td>\n",
       "      <td>3467 days</td>\n",
       "      <td>72.074034</td>\n",
       "      <td>4405.258000</td>\n",
       "      <td>12627.7580</td>\n",
       "      <td>-55.947420</td>\n",
       "      <td>250.892857</td>\n",
       "      <td>-10.636551</td>\n",
       "      <td>62.547187</td>\n",
       "      <td>...</td>\n",
       "      <td>-5.076563</td>\n",
       "      <td>783 days</td>\n",
       "      <td>147 days</td>\n",
       "      <td>0.989138</td>\n",
       "      <td>-0.115806</td>\n",
       "      <td>-1.289288</td>\n",
       "      <td>SmaCross</td>\n",
       "      <td>Equity  DrawdownPct DrawdownDur...</td>\n",
       "      <td>Size  EntryBar  ExitBar  EntryPrice  ExitP...</td>\n",
       "      <td>KBSB.csv</td>\n",
       "    </tr>\n",
       "    <tr>\n",
       "      <th>4</th>\n",
       "      <td>2014-06-09</td>\n",
       "      <td>2023-12-06</td>\n",
       "      <td>3467 days</td>\n",
       "      <td>80.062305</td>\n",
       "      <td>1276.980451</td>\n",
       "      <td>10000.0000</td>\n",
       "      <td>-87.230195</td>\n",
       "      <td>990.000000</td>\n",
       "      <td>-20.611247</td>\n",
       "      <td>49.736890</td>\n",
       "      <td>...</td>\n",
       "      <td>-6.229497</td>\n",
       "      <td>431 days</td>\n",
       "      <td>85 days</td>\n",
       "      <td>0.937940</td>\n",
       "      <td>-0.638581</td>\n",
       "      <td>-1.943762</td>\n",
       "      <td>SmaCross</td>\n",
       "      <td>Equity  DrawdownPct Drawdown...</td>\n",
       "      <td>Size  EntryBar  ExitBar  EntryPrice  Exit...</td>\n",
       "      <td>SARE.csv</td>\n",
       "    </tr>\n",
       "  </tbody>\n",
       "</table>\n",
       "<p>5 rows × 31 columns</p>\n",
       "</div>"
      ],
      "text/plain": [
       "       Start        End  Duration  Exposure Time [%]  Equity Final [$]  \\\n",
       "0 2014-06-09 2023-12-06 3467 days          83.851976      19536.090700   \n",
       "1 2020-10-29 2023-12-06 1133 days          54.687500      13751.683000   \n",
       "2 2014-07-15 2023-12-06 3431 days          81.686430        901.118400   \n",
       "3 2014-06-09 2023-12-06 3467 days          72.074034       4405.258000   \n",
       "4 2014-06-09 2023-12-06 3467 days          80.062305       1276.980451   \n",
       "\n",
       "   Equity Peak [$]  Return [%]  Buy & Hold Return [%]  Return (Ann.) [%]  \\\n",
       "0       19650.4907   95.360907             477.323395           7.354555   \n",
       "1       14488.1830   37.516830             299.422875          11.019180   \n",
       "2       11983.3660  -90.988816             970.769231         -32.936606   \n",
       "3       12627.7580  -55.947420             250.892857         -10.636551   \n",
       "4       10000.0000  -87.230195             990.000000         -20.611247   \n",
       "\n",
       "   Volatility (Ann.) [%]  ...  Avg. Trade [%]  Max. Trade Duration  \\\n",
       "0              29.194693  ...        6.467166             572 days   \n",
       "1              28.592388  ...       21.314387             357 days   \n",
       "2              91.617617  ...      -14.244639             503 days   \n",
       "3              62.547187  ...       -5.076563             783 days   \n",
       "4              49.736890  ...       -6.229497             431 days   \n",
       "\n",
       "   Avg. Trade Duration  Profit Factor  Expectancy [%]       SQN _strategy  \\\n",
       "0             265 days       2.481104       11.208505  0.739099  SmaCross   \n",
       "1             302 days      51.041084       23.817149  0.961999  SmaCross   \n",
       "2             135 days       0.700588       -5.390019 -2.440929  SmaCross   \n",
       "3             147 days       0.989138       -0.115806 -1.289288  SmaCross   \n",
       "4              85 days       0.937940       -0.638581 -1.943762  SmaCross   \n",
       "\n",
       "                                       _equity_curve  \\\n",
       "0                  Equity  DrawdownPct DrawdownDu...   \n",
       "1                 Equity  DrawdownPct DrawdownDur...   \n",
       "2                  Equity  DrawdownPct DrawdownDu...   \n",
       "3                 Equity  DrawdownPct DrawdownDur...   \n",
       "4                    Equity  DrawdownPct Drawdown...   \n",
       "\n",
       "                                             _trades     ticker  \n",
       "0      Size  EntryBar  ExitBar  EntryPrice  ExitP...   SIBN.csv  \n",
       "1     Size  EntryBar  ExitBar  EntryPrice  ExitPr...   SMLT.csv  \n",
       "2      Size  EntryBar  ExitBar  EntryPrice  ExitP...  VRSBP.csv  \n",
       "3      Size  EntryBar  ExitBar  EntryPrice  ExitP...   KBSB.csv  \n",
       "4       Size  EntryBar  ExitBar  EntryPrice  Exit...   SARE.csv  \n",
       "\n",
       "[5 rows x 31 columns]"
      ]
     },
     "execution_count": 42,
     "metadata": {},
     "output_type": "execute_result"
    }
   ],
   "source": [
    "tickers_stats = pd.DataFrame(tickers_stats)\n",
    "tickers_stats['ticker'] = processed_tickers\n",
    "tickers_stats.head()"
   ]
  },
  {
   "cell_type": "code",
   "execution_count": null,
   "metadata": {},
   "outputs": [],
   "source": []
  }
 ],
 "metadata": {
  "kernelspec": {
   "display_name": "algo",
   "language": "python",
   "name": "python3"
  },
  "language_info": {
   "codemirror_mode": {
    "name": "ipython",
    "version": 3
   },
   "file_extension": ".py",
   "mimetype": "text/x-python",
   "name": "python",
   "nbconvert_exporter": "python",
   "pygments_lexer": "ipython3",
   "version": "3.11.6"
  }
 },
 "nbformat": 4,
 "nbformat_minor": 2
}
